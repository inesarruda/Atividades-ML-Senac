{
  "nbformat": 4,
  "nbformat_minor": 0,
  "metadata": {
    "colab": {
      "provenance": [],
      "authorship_tag": "ABX9TyMcdUFAPM1rudHcKj9K5W2f",
      "include_colab_link": true
    },
    "kernelspec": {
      "name": "python3",
      "display_name": "Python 3"
    },
    "language_info": {
      "name": "python"
    }
  },
  "cells": [
    {
      "cell_type": "markdown",
      "metadata": {
        "id": "view-in-github",
        "colab_type": "text"
      },
      "source": [
        "<a href=\"https://colab.research.google.com/github/inesarruda/Atividades-ML-Senac/blob/main/Pr%C3%A1tica_AULA_4.ipynb\" target=\"_parent\"><img src=\"https://colab.research.google.com/assets/colab-badge.svg\" alt=\"Open In Colab\"/></a>"
      ]
    },
    {
      "cell_type": "markdown",
      "source": [
        "#Prática: for, while, enumerate e assuntos anteriores"
      ],
      "metadata": {
        "id": "47myBAP1Ipcg"
      }
    },
    {
      "cell_type": "markdown",
      "source": [
        "1. Crie uma variável chamada contador = 0. Enquanto\n",
        "counter for menor que 100, imprima os valores na tela."
      ],
      "metadata": {
        "id": "UTq4XsDoIwxO"
      }
    },
    {
      "cell_type": "code",
      "execution_count": null,
      "metadata": {
        "colab": {
          "base_uri": "https://localhost:8080/"
        },
        "id": "G176Y7HXIk_S",
        "outputId": "26cad867-9131-4a77-9947-2b66d1ba510f"
      },
      "outputs": [
        {
          "output_type": "stream",
          "name": "stdout",
          "text": [
            "0\n",
            "1\n",
            "2\n",
            "3\n",
            "4\n",
            "5\n",
            "6\n",
            "7\n",
            "8\n",
            "9\n",
            "10\n",
            "11\n",
            "12\n",
            "13\n",
            "14\n",
            "15\n",
            "16\n",
            "17\n",
            "18\n",
            "19\n",
            "20\n",
            "21\n",
            "22\n",
            "23\n",
            "24\n",
            "25\n",
            "26\n",
            "27\n",
            "28\n",
            "29\n",
            "30\n",
            "31\n",
            "32\n",
            "33\n",
            "34\n",
            "35\n",
            "36\n",
            "37\n",
            "38\n",
            "39\n",
            "40\n",
            "41\n",
            "42\n",
            "43\n",
            "44\n",
            "45\n",
            "46\n",
            "47\n",
            "48\n",
            "49\n",
            "50\n",
            "51\n",
            "52\n",
            "53\n",
            "54\n",
            "55\n",
            "56\n",
            "57\n",
            "58\n",
            "59\n",
            "60\n",
            "61\n",
            "62\n",
            "63\n",
            "64\n",
            "65\n",
            "66\n",
            "67\n",
            "68\n",
            "69\n",
            "70\n",
            "71\n",
            "72\n",
            "73\n",
            "74\n",
            "75\n",
            "76\n",
            "77\n",
            "78\n",
            "79\n",
            "80\n",
            "81\n",
            "82\n",
            "83\n",
            "84\n",
            "85\n",
            "86\n",
            "87\n",
            "88\n",
            "89\n",
            "90\n",
            "91\n",
            "92\n",
            "93\n",
            "94\n",
            "95\n",
            "96\n",
            "97\n",
            "98\n",
            "99\n"
          ]
        }
      ],
      "source": [
        "contador = 0 \n",
        "while contador < 100:\n",
        "  print(contador)\n",
        "  contador +=1"
      ]
    },
    {
      "cell_type": "markdown",
      "source": [
        "2. Crie uma lista vazia e uma variável com valor 4.\n",
        "Enquanto o valor da variável for menor ou igual a 20,\n",
        "adicione à lista, apenas os valores pares e imprima a lista."
      ],
      "metadata": {
        "id": "NouZfER6JJFf"
      }
    },
    {
      "cell_type": "code",
      "source": [
        "lista = []\n",
        "var = 4\n",
        "while var <=20:\n",
        "  if var %2 == 0:\n",
        "    lista.append(var)\n",
        "  var = var+1\n",
        "\n",
        "print(lista)\n",
        "   "
      ],
      "metadata": {
        "colab": {
          "base_uri": "https://localhost:8080/"
        },
        "id": "0r67ymYUJK9_",
        "outputId": "4c60bef8-8ffa-4142-ac7a-128d1bd8db4f"
      },
      "execution_count": null,
      "outputs": [
        {
          "output_type": "stream",
          "name": "stdout",
          "text": [
            "[4, 6, 8, 10, 12, 14, 16, 18, 20]\n"
          ]
        }
      ]
    },
    {
      "cell_type": "markdown",
      "source": [
        "3. Faça a correção dos erros no código abaixo e execute o\n",
        "programa.\n",
        "\n",
        "temperatura = float(input(Qual a temperatura? ))\\\n",
        "if temperatura > 30\\\n",
        "print('Vista roupas leves.')\\\n",
        "else\n",
        ">  print('Busque seus casacos.')"
      ],
      "metadata": {
        "id": "rMssulN-JpVt"
      }
    },
    {
      "cell_type": "code",
      "source": [
        "temperatura = float(input(\"Qual a temperatura? \"))\n",
        "if temperatura > 30:\n",
        "  print('Vista roupas leves.')\n",
        "else:\n",
        "  print('Busque seus casacos.')"
      ],
      "metadata": {
        "colab": {
          "base_uri": "https://localhost:8080/"
        },
        "id": "maf8-ak7KPGX",
        "outputId": "45b06f18-aa36-4499-c341-fb15f65f454f"
      },
      "execution_count": null,
      "outputs": [
        {
          "output_type": "stream",
          "name": "stdout",
          "text": [
            "Qual a temperatura? 31\n",
            "Vista roupas leves.\n"
          ]
        }
      ]
    },
    {
      "cell_type": "markdown",
      "source": [
        "4. Faça um programa que conte quantas vezes a letra \"s\"\n",
        "aparece na frase abaixo.\n",
        "“'Educação não transforma o mundo. Educação muda\n",
        "pessoas. Pessoas transformam o mundo.\" (Paulo Freire)"
      ],
      "metadata": {
        "id": "7XG6vMIUKiIs"
      }
    },
    {
      "cell_type": "code",
      "source": [
        "cont = 0\n",
        "frase = \"Educação não transforma o mundo. Educação muda pessoas. Pessoas transformam o mundo.\"\n",
        "for ch in frase:\n",
        "  if ch == 's':\n",
        "    cont +=1\n",
        "print(f'A letra \"s\" aparece {cont} vezes na frase')"
      ],
      "metadata": {
        "colab": {
          "base_uri": "https://localhost:8080/"
        },
        "id": "0cBab29GKkEW",
        "outputId": "e8f32567-8460-47c7-e0cc-95c90bf63746"
      },
      "execution_count": null,
      "outputs": [
        {
          "output_type": "stream",
          "name": "stdout",
          "text": [
            "A letra \"s\" aparece 8 vezes na frase\n"
          ]
        }
      ]
    },
    {
      "cell_type": "markdown",
      "source": [
        "6. Considere a lista abaixo e retorne apenas os elementos\n",
        "cujo índice for maior que 5.\n",
        "\n",
        "lista = ['a', 'b', 'c', 'd', 'e', 'f', 'g', 'h']"
      ],
      "metadata": {
        "id": "0WIkchQuLanF"
      }
    },
    {
      "cell_type": "code",
      "source": [
        "lista = ['a', 'b', 'c', 'd', 'e', 'f', 'g', 'h']\n",
        "print(lista[6:])\n"
      ],
      "metadata": {
        "colab": {
          "base_uri": "https://localhost:8080/"
        },
        "id": "u4K5flKfLf2k",
        "outputId": "f9b9af8b-53d3-48fa-8724-aa9e3b4f3517"
      },
      "execution_count": null,
      "outputs": [
        {
          "output_type": "stream",
          "name": "stdout",
          "text": [
            "['g', 'h']\n"
          ]
        }
      ]
    },
    {
      "cell_type": "markdown",
      "source": [
        "7. Crie um terceiro dicionário com as chaves do dicionário 1\n",
        "e os valores do dicionário 2 abaixo.\n",
        "dict1 = {'a':1,'b':2} dict2 = {'c':4,'d':5}"
      ],
      "metadata": {
        "id": "jMpVkdQLL1Pf"
      }
    },
    {
      "cell_type": "code",
      "source": [
        "dict1 = {'a':1,'b':2}\n",
        "dict2 = {'c':4,'d':5}\n",
        "dict3 = {}\n",
        "#print(type(dict3))\n",
        "dict3['dict1.keys()'] = dict2.values()\n",
        "print(dict3)"
      ],
      "metadata": {
        "colab": {
          "base_uri": "https://localhost:8080/"
        },
        "id": "kD-WU0YNMHFI",
        "outputId": "b583386d-d8b8-42f5-aa3e-116488674b91"
      },
      "execution_count": null,
      "outputs": [
        {
          "output_type": "stream",
          "name": "stdout",
          "text": [
            "{'dict1.keys()': 'dict2.values()'}\n"
          ]
        }
      ]
    },
    {
      "cell_type": "code",
      "source": [
        "for um_valor in range(10):\n",
        "  print(um_valor)"
      ],
      "metadata": {
        "colab": {
          "base_uri": "https://localhost:8080/"
        },
        "id": "T_c2RXe1PtCq",
        "outputId": "68a078a0-23de-4c84-ac36-6454d9bf7cdc"
      },
      "execution_count": null,
      "outputs": [
        {
          "output_type": "stream",
          "name": "stdout",
          "text": [
            "0\n",
            "1\n",
            "2\n",
            "3\n",
            "4\n",
            "5\n",
            "6\n",
            "7\n",
            "8\n",
            "9\n"
          ]
        }
      ]
    },
    {
      "cell_type": "code",
      "source": [
        "for um_char in \"Venha para a festa\":\n",
        "  print(um_char)"
      ],
      "metadata": {
        "colab": {
          "base_uri": "https://localhost:8080/"
        },
        "id": "hfl7UUXKP0dU",
        "outputId": "c4f99780-444b-4f9b-a75f-731eade83e53"
      },
      "execution_count": null,
      "outputs": [
        {
          "output_type": "stream",
          "name": "stdout",
          "text": [
            "V\n",
            "e\n",
            "n\n",
            "h\n",
            "a\n",
            " \n",
            "p\n",
            "a\n",
            "r\n",
            "a\n",
            " \n",
            "a\n",
            " \n",
            "f\n",
            "e\n",
            "s\n",
            "t\n",
            "a\n"
          ]
        }
      ]
    }
  ]
}