{
  "nbformat": 4,
  "nbformat_minor": 0,
  "metadata": {
    "colab": {
      "provenance": [],
      "authorship_tag": "ABX9TyPr2PFXkH11S0FUrHBf8h0K",
      "include_colab_link": true
    },
    "kernelspec": {
      "name": "python3",
      "display_name": "Python 3"
    },
    "language_info": {
      "name": "python"
    }
  },
  "cells": [
    {
      "cell_type": "markdown",
      "metadata": {
        "id": "view-in-github",
        "colab_type": "text"
      },
      "source": [
        "<a href=\"https://colab.research.google.com/github/inesarruda/Atividades-ML-Senac/blob/main/Aula_05.ipynb\" target=\"_parent\"><img src=\"https://colab.research.google.com/assets/colab-badge.svg\" alt=\"Open In Colab\"/></a>"
      ]
    },
    {
      "cell_type": "code",
      "execution_count": 2,
      "metadata": {
        "colab": {
          "base_uri": "https://localhost:8080/"
        },
        "id": "wz-PXTIKFSYE",
        "outputId": "67e7a966-087f-4f87-90d9-8d9af6aa45e5"
      },
      "outputs": [
        {
          "output_type": "stream",
          "name": "stdout",
          "text": [
            "Número 0\n",
            "Número 1\n",
            "Número 2\n",
            "Número 3\n",
            "Número 4\n"
          ]
        }
      ],
      "source": [
        "def funcaoLeitura():\n",
        "  for i in range(5):\n",
        "    print(\"Número\", i)\n",
        "\n",
        "funcaoLeitura()"
      ]
    },
    {
      "cell_type": "code",
      "source": [
        "#Função para somar dois números\n",
        "def addNum(n1,n2):\n",
        "  print(\"O primeiro número é: \",n1)\n",
        "  print(\"O segundo número é: \",n2)\n",
        "  print(\"A soma dos números é: \",n1+n2)\n",
        "\n",
        "addNum(45,6)"
      ],
      "metadata": {
        "colab": {
          "base_uri": "https://localhost:8080/"
        },
        "id": "I_Hs_5RuNI1c",
        "outputId": "dd3156b5-c667-4000-ff0d-0e7ded7632c5"
      },
      "execution_count": 3,
      "outputs": [
        {
          "output_type": "stream",
          "name": "stdout",
          "text": [
            "O primeiro número é:  45\n",
            "O segundo número é:  6\n",
            "A soma dos números é:  51\n"
          ]
        }
      ]
    },
    {
      "cell_type": "code",
      "source": [
        "varGlobal = 10 #essa é uma variável global\n",
        "def multiplicacao(num1,num2):\n",
        "  varGlobar = (num1*num2) #essa é uma variável local\n",
        "  print(\"Variável da função Multiplica: \", varGlobal)\n",
        "\n",
        "multiplicacao(5,4)\n",
        "print(varGlobal)"
      ],
      "metadata": {
        "colab": {
          "base_uri": "https://localhost:8080/"
        },
        "id": "8VZcsK6IOiLV",
        "outputId": "f2e42af1-2d77-47af-c530-5d2e4df0ec1b"
      },
      "execution_count": 4,
      "outputs": [
        {
          "output_type": "stream",
          "name": "stdout",
          "text": [
            "Variável da função Multiplica:  10\n",
            "10\n"
          ]
        }
      ]
    },
    {
      "cell_type": "code",
      "source": [
        "varGlobal = 10 #essa é uma variável global\n",
        "def multiplica(num1,num2):\n",
        "  varLocal = (num1*num2) #essa é uma variável local\n",
        "  print(\"Variável da função Multiplica: \", varLocal)\n",
        "\n",
        "multiplica(5,4)\n"
      ],
      "metadata": {
        "colab": {
          "base_uri": "https://localhost:8080/"
        },
        "id": "JwpdYJiKPjBn",
        "outputId": "d1c4935d-f9b6-4c7f-e10b-06633810199d"
      },
      "execution_count": 6,
      "outputs": [
        {
          "output_type": "stream",
          "name": "stdout",
          "text": [
            "Variável da função Multiplica:  20\n"
          ]
        }
      ]
    },
    {
      "cell_type": "code",
      "source": [
        "print(varLocal)"
      ],
      "metadata": {
        "colab": {
          "base_uri": "https://localhost:8080/",
          "height": 165
        },
        "id": "ZY9-FLHPQGVR",
        "outputId": "17587dbf-c4d8-43b8-b40b-0ebfbafcbe37"
      },
      "execution_count": 7,
      "outputs": [
        {
          "output_type": "error",
          "ename": "NameError",
          "evalue": "ignored",
          "traceback": [
            "\u001b[0;31m---------------------------------------------------------------------------\u001b[0m",
            "\u001b[0;31mNameError\u001b[0m                                 Traceback (most recent call last)",
            "\u001b[0;32m<ipython-input-7-6ff1d360d399>\u001b[0m in \u001b[0;36m<module>\u001b[0;34m\u001b[0m\n\u001b[0;32m----> 1\u001b[0;31m \u001b[0mprint\u001b[0m\u001b[0;34m(\u001b[0m\u001b[0mvarLocal\u001b[0m\u001b[0;34m)\u001b[0m\u001b[0;34m\u001b[0m\u001b[0;34m\u001b[0m\u001b[0m\n\u001b[0m",
            "\u001b[0;31mNameError\u001b[0m: name 'varLocal' is not defined"
          ]
        }
      ]
    },
    {
      "cell_type": "code",
      "source": [
        "for i in range(5): print(i)"
      ],
      "metadata": {
        "colab": {
          "base_uri": "https://localhost:8080/"
        },
        "id": "wTKTrBEWRG1t",
        "outputId": "b0f0efad-7cc5-4637-fb7e-e443bf3e04fb"
      },
      "execution_count": 8,
      "outputs": [
        {
          "output_type": "stream",
          "name": "stdout",
          "text": [
            "0\n",
            "1\n",
            "2\n",
            "3\n",
            "4\n"
          ]
        }
      ]
    },
    {
      "cell_type": "code",
      "source": [
        "def separarTexto(texto): return texto.split()"
      ],
      "metadata": {
        "id": "ONhUdNpsTTEP"
      },
      "execution_count": 9,
      "outputs": []
    },
    {
      "cell_type": "code",
      "source": [
        "token = separarTexto(\"Cibele Maria\")"
      ],
      "metadata": {
        "id": "mQDDTYVvTm0h"
      },
      "execution_count": 10,
      "outputs": []
    },
    {
      "cell_type": "code",
      "source": [
        "print(token)"
      ],
      "metadata": {
        "colab": {
          "base_uri": "https://localhost:8080/"
        },
        "id": "0CbpcddWTvDs",
        "outputId": "ea896caf-0712-47d6-ab10-60eea9eacf85"
      },
      "execution_count": 11,
      "outputs": [
        {
          "output_type": "stream",
          "name": "stdout",
          "text": [
            "['Cibele', 'Maria']\n"
          ]
        }
      ]
    },
    {
      "cell_type": "code",
      "source": [
        "#Quando não sabemos a quantidade de parâmetros basta usar o * no parâmetro\n",
        "def variosParametros(*parametros):\n",
        "  for n, item in enumerate(parametros):\n",
        "    print(\"O parâmetro é %d é: \" %(n), item)\n",
        "  return;\n"
      ],
      "metadata": {
        "id": "XzFbjq-4UbwY"
      },
      "execution_count": 17,
      "outputs": []
    },
    {
      "cell_type": "code",
      "source": [
        "variosParametros(\"pitbomba\", \"jambo\", \"siriguela\", \"umbu\")"
      ],
      "metadata": {
        "colab": {
          "base_uri": "https://localhost:8080/"
        },
        "id": "c-4DCYLyWAeI",
        "outputId": "690d6431-7fe8-4c43-ab51-d7b3210366ea"
      },
      "execution_count": 18,
      "outputs": [
        {
          "output_type": "stream",
          "name": "stdout",
          "text": [
            "O parâmetro é 0 é:  pitbomba\n",
            "O parâmetro é 1 é:  jambo\n",
            "O parâmetro é 2 é:  siriguela\n",
            "O parâmetro é 3 é:  umbu\n"
          ]
        }
      ]
    },
    {
      "cell_type": "code",
      "source": [
        "import math #pacote com um conjunto de funções matemáticas\n",
        "\n",
        "def numPrimo(num):\n",
        "  #veririficando se um número é primo\n",
        "  if (num%2) == 0 and num>2:\n",
        "    return (\"Este número não é primo\")\n",
        "  for i in range(3, int(math.sqrt(num)) +1, 2):\n",
        "    if (num %i) == 0:\n",
        "      return(\"Este número não é primo\")\n",
        "  return(\"Este número é primo!\")"
      ],
      "metadata": {
        "id": "peBOiwQVWZwa"
      },
      "execution_count": 20,
      "outputs": []
    },
    {
      "cell_type": "code",
      "source": [
        "numPrimo(47)"
      ],
      "metadata": {
        "colab": {
          "base_uri": "https://localhost:8080/",
          "height": 36
        },
        "id": "qJocKWztYqxs",
        "outputId": "36f43914-8a58-4956-a870-d844ba597d4c"
      },
      "execution_count": 21,
      "outputs": [
        {
          "output_type": "execute_result",
          "data": {
            "text/plain": [
              "'Este número é primo!'"
            ],
            "application/vnd.google.colaboratory.intrinsic+json": {
              "type": "string"
            }
          },
          "metadata": {},
          "execution_count": 21
        }
      ]
    },
    {
      "cell_type": "code",
      "source": [
        "def soma(n1,n2):\n",
        "  return n1+n2\n",
        "\n",
        "def subtrai(n1,n2):\n",
        "  return n1-n2\n",
        "\n",
        "def multiplica(n1,n2):\n",
        "  return n1*n2\n",
        "\n",
        "def divide(n1,n2):\n",
        "  return n1/n2"
      ],
      "metadata": {
        "id": "8Tx5bCBDYv1Y"
      },
      "execution_count": 25,
      "outputs": []
    },
    {
      "cell_type": "code",
      "source": [
        "while True:\n",
        "  print(\"==================\")\n",
        "  print(\"|Menu de Operações\")\n",
        "  print(\"|  0 - sair      \")\n",
        "  print(\"|  1 - somar      \")\n",
        "  print(\"|  2 - subtrair   \")\n",
        "  print(\"|  3 - multiplicar\")\n",
        "  print(\"|  4 - dividir    \")\n",
        "  print(\"==================\")\n",
        "\n",
        "  op = int(input())\n",
        "  if op ==0:\n",
        "    break\n",
        "\n",
        "  n1 = int(input(\"Primeiro número: \"))\n",
        "  n2 = int(input(\"Segundo número: \"))\n",
        "\n",
        "  if op ==1:\n",
        "    print(\"O resultado da soma é: \", soma(n1,n2))\n",
        "  elif op ==2:\n",
        "    print(\"O resultado da subtração é: \", subtrai(n1,n2))\n",
        "  elif op ==3:\n",
        "    print(\"O resultado da multiplicação é: \", multiplica(n1,n2))  \n",
        "  elif op ==4:\n",
        "    print(\"O resultado da divisão é: \", divide(n1,n2))  \n"
      ],
      "metadata": {
        "colab": {
          "base_uri": "https://localhost:8080/"
        },
        "id": "WbmV1JeaZoGZ",
        "outputId": "9897138e-c207-4272-93a3-64aea1632d1a"
      },
      "execution_count": 27,
      "outputs": [
        {
          "name": "stdout",
          "output_type": "stream",
          "text": [
            "==================\n",
            "|Menu de Operações\n",
            "|  0 - sair      \n",
            "|  1 - somar      \n",
            "|  2 - subtrair   \n",
            "|  3 - multiplicar\n",
            "|  4 - dividir    \n",
            "==================\n",
            "3\n",
            "Primeiro número: 5\n",
            "Segundo número: 4\n",
            "O resultado da multiplicação é:  20\n",
            "==================\n",
            "|Menu de Operações\n",
            "|  0 - sair      \n",
            "|  1 - somar      \n",
            "|  2 - subtrair   \n",
            "|  3 - multiplicar\n",
            "|  4 - dividir    \n",
            "==================\n",
            "0\n"
          ]
        }
      ]
    },
    {
      "cell_type": "code",
      "source": [
        "class Pessoa():\n",
        "  def _init_(self, n, i):\n",
        "    self.nome = n\n",
        "    self.idade = i\n",
        "\n",
        "  def apresentacao(self):\n",
        "    print(\"Seja bem vindo ao sistema SENAC\")\n",
        "\n",
        "class PessoaFisica():\n",
        "  def _init_(self, n, i, cpf):\n",
        "    self.nome = n\n",
        "    self.idade = i\n",
        "    self.cpf = cpf\n",
        "\n",
        "  def impostoDeRenda(self,*salario):\n",
        "    s = sum(salario)\n",
        "    ir = s*0.015\n",
        "    print(\"O valor do seu imposto de renda é R$\", ir)\n",
        "    return ir\n",
        "\n",
        "class PessoaJuridica():\n",
        "  def _init_(self,n,i,cnpj):\n",
        "    self.nome = n\n",
        "    self.idade = i\n",
        "    self.cnpj = cnpj\n",
        "\n",
        "def impostoDeRenda(self,salario):\n",
        "  ir = salario*0.10\n",
        "  print(\"O valor do seu imposto de renda é R$\", ir)\n",
        "  return ir\n"
      ],
      "metadata": {
        "id": "dSdbAjA4cuf0"
      },
      "execution_count": 31,
      "outputs": []
    },
    {
      "cell_type": "code",
      "source": [
        "nome = str(input(\"Nome: \"))\n",
        "age = int(input(\"Idade: \"))\n",
        "cnpj = int(input(\"CNPJ: \"))\n",
        "serumaninho = Pessoa(nome, age)\n",
        "comunidade = PessoaJuridica(nome, age, cnpj)"
      ],
      "metadata": {
        "colab": {
          "base_uri": "https://localhost:8080/",
          "height": 269
        },
        "id": "yumb8YrGgGzM",
        "outputId": "9f76e173-47e9-4b93-c112-89a18351a9d2"
      },
      "execution_count": 32,
      "outputs": [
        {
          "name": "stdout",
          "output_type": "stream",
          "text": [
            "Nome: maria\n",
            "Idade: 26\n",
            "CNPJ: 54545\n"
          ]
        },
        {
          "output_type": "error",
          "ename": "TypeError",
          "evalue": "ignored",
          "traceback": [
            "\u001b[0;31m---------------------------------------------------------------------------\u001b[0m",
            "\u001b[0;31mTypeError\u001b[0m                                 Traceback (most recent call last)",
            "\u001b[0;32m<ipython-input-32-82667fd239c9>\u001b[0m in \u001b[0;36m<module>\u001b[0;34m\u001b[0m\n\u001b[1;32m      2\u001b[0m \u001b[0mage\u001b[0m \u001b[0;34m=\u001b[0m \u001b[0mint\u001b[0m\u001b[0;34m(\u001b[0m\u001b[0minput\u001b[0m\u001b[0;34m(\u001b[0m\u001b[0;34m\"Idade: \"\u001b[0m\u001b[0;34m)\u001b[0m\u001b[0;34m)\u001b[0m\u001b[0;34m\u001b[0m\u001b[0;34m\u001b[0m\u001b[0m\n\u001b[1;32m      3\u001b[0m \u001b[0mcnpj\u001b[0m \u001b[0;34m=\u001b[0m \u001b[0mint\u001b[0m\u001b[0;34m(\u001b[0m\u001b[0minput\u001b[0m\u001b[0;34m(\u001b[0m\u001b[0;34m\"CNPJ: \"\u001b[0m\u001b[0;34m)\u001b[0m\u001b[0;34m)\u001b[0m\u001b[0;34m\u001b[0m\u001b[0;34m\u001b[0m\u001b[0m\n\u001b[0;32m----> 4\u001b[0;31m \u001b[0mserumaninho\u001b[0m \u001b[0;34m=\u001b[0m \u001b[0mPessoa\u001b[0m\u001b[0;34m(\u001b[0m\u001b[0mnome\u001b[0m\u001b[0;34m,\u001b[0m \u001b[0mage\u001b[0m\u001b[0;34m)\u001b[0m\u001b[0;34m\u001b[0m\u001b[0;34m\u001b[0m\u001b[0m\n\u001b[0m\u001b[1;32m      5\u001b[0m \u001b[0mcomunidade\u001b[0m \u001b[0;34m=\u001b[0m \u001b[0mPessoaJuridica\u001b[0m\u001b[0;34m(\u001b[0m\u001b[0mnome\u001b[0m\u001b[0;34m,\u001b[0m \u001b[0mage\u001b[0m\u001b[0;34m,\u001b[0m \u001b[0mcnpj\u001b[0m\u001b[0;34m)\u001b[0m\u001b[0;34m\u001b[0m\u001b[0;34m\u001b[0m\u001b[0m\n",
            "\u001b[0;31mTypeError\u001b[0m: Pessoa() takes no arguments"
          ]
        }
      ]
    },
    {
      "cell_type": "code",
      "source": [
        "serumaninho.nome"
      ],
      "metadata": {
        "id": "K1W6TBxrjR3k"
      },
      "execution_count": null,
      "outputs": []
    },
    {
      "cell_type": "code",
      "source": [
        "serumaninho.idade"
      ],
      "metadata": {
        "id": "gdts2xF4iohH"
      },
      "execution_count": null,
      "outputs": []
    },
    {
      "cell_type": "code",
      "source": [
        "serumaninho.apresentacao()"
      ],
      "metadata": {
        "id": "yuu6cwzqiqpJ"
      },
      "execution_count": null,
      "outputs": []
    },
    {
      "cell_type": "code",
      "source": [
        "salario = float(input(\"Receita: \"))\n",
        "comunidade.impostoDeRenda(salario)\n",
        "print(\"Fim!\")"
      ],
      "metadata": {
        "id": "VP53Pub8jhbx"
      },
      "execution_count": null,
      "outputs": []
    }
  ]
}