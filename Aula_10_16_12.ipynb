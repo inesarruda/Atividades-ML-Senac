{
  "nbformat": 4,
  "nbformat_minor": 0,
  "metadata": {
    "colab": {
      "provenance": [],
      "authorship_tag": "ABX9TyOOkslkboVeBOMj7nJZ7mCi",
      "include_colab_link": true
    },
    "kernelspec": {
      "name": "python3",
      "display_name": "Python 3"
    },
    "language_info": {
      "name": "python"
    }
  },
  "cells": [
    {
      "cell_type": "markdown",
      "metadata": {
        "id": "view-in-github",
        "colab_type": "text"
      },
      "source": [
        "<a href=\"https://colab.research.google.com/github/inesarruda/Atividades-ML-Senac/blob/main/Aula_10_16_12.ipynb\" target=\"_parent\"><img src=\"https://colab.research.google.com/assets/colab-badge.svg\" alt=\"Open In Colab\"/></a>"
      ]
    },
    {
      "cell_type": "markdown",
      "source": [
        "Definindo os dados de treino"
      ],
      "metadata": {
        "id": "G33YfuvwNBvw"
      }
    },
    {
      "cell_type": "code",
      "execution_count": 2,
      "metadata": {
        "id": "0fg-ed80M66F"
      },
      "outputs": [],
      "source": [
        "#Características dos pacientes:\n",
        "\n",
        "#Tossindo?\n",
        "#Espirrando?\n",
        "#Falta de ar?\n",
        "#Febre?\n",
        "\n",
        "#Vamos usar 0 para não e 1 para sim\n",
        "\n",
        "gripado1 =[1,1,1,1]\n",
        "gripado2 =[0,1,0,1]\n",
        "gripado3 =[1,1,0,0]\n",
        "gripado4 =[1,1,0,1]\n",
        "\n",
        "alergico1 = [1,1,0,0]\n",
        "alergico2 = [0,1,0,0]\n",
        "alergico3 = [1,0,1,0]\n",
        "alergico4 = [0,1,1,0]\n"
      ]
    },
    {
      "cell_type": "code",
      "source": [
        "dados = [gripado1,gripado2,gripado3,gripado4,alergico1,alergico2,alergico3,alergico4]\n",
        "#categoria 1 = gripado; categoria 0 = alérgico\n",
        "categorias = [1,1,1,1,0,0,0,0]"
      ],
      "metadata": {
        "id": "JJQ8F8XKPHuY"
      },
      "execution_count": 7,
      "outputs": []
    },
    {
      "cell_type": "code",
      "source": [
        "from sklearn.svm import LinearSVC"
      ],
      "metadata": {
        "id": "s6-gjcwcQd5M"
      },
      "execution_count": 3,
      "outputs": []
    },
    {
      "cell_type": "code",
      "source": [
        "modelo = LinearSVC()\n",
        "modelo.fit(dados,categorias) #Aqui ele está treinando o algoritmo"
      ],
      "metadata": {
        "colab": {
          "base_uri": "https://localhost:8080/"
        },
        "id": "2_Mvi99zQq1z",
        "outputId": "2175dab2-5075-49b2-fdd8-cade539e3a02"
      },
      "execution_count": 8,
      "outputs": [
        {
          "output_type": "execute_result",
          "data": {
            "text/plain": [
              "LinearSVC()"
            ]
          },
          "metadata": {},
          "execution_count": 8
        }
      ]
    },
    {
      "cell_type": "markdown",
      "source": [
        "#Defininindo dados de teste"
      ],
      "metadata": {
        "id": "qfneNmosUVPX"
      }
    },
    {
      "cell_type": "code",
      "source": [
        "paciente1 =[0,1,0,1]\n",
        "paciente2 =[0,0,0,0]\n",
        "paciente3 =[1,1,1,1]\n",
        "paciente4 =[0,1,0,1]\n",
        "\n",
        "dados_teste = [paciente1,paciente2,paciente3,paciente4]"
      ],
      "metadata": {
        "id": "8da1qz9gUZnn"
      },
      "execution_count": 9,
      "outputs": []
    },
    {
      "cell_type": "markdown",
      "source": [
        "Testando"
      ],
      "metadata": {
        "id": "ZMQC_cWaU4_P"
      }
    },
    {
      "cell_type": "code",
      "source": [
        "modelo.predict(dados_teste) #Aqui ele está testando o algoritmo  "
      ],
      "metadata": {
        "colab": {
          "base_uri": "https://localhost:8080/"
        },
        "id": "1Xbj0upNU4C0",
        "outputId": "56f726b3-1068-40e9-c51a-c1d09fa09fc0"
      },
      "execution_count": 10,
      "outputs": [
        {
          "output_type": "execute_result",
          "data": {
            "text/plain": [
              "array([1, 0, 1, 1])"
            ]
          },
          "metadata": {},
          "execution_count": 10
        }
      ]
    },
    {
      "cell_type": "markdown",
      "source": [
        "Dado um novo paciente"
      ],
      "metadata": {
        "id": "FdJrdlN3Xvxn"
      }
    },
    {
      "cell_type": "code",
      "source": [
        "novo_paciente = [0,1,0,0]\n",
        "modelo.predict([novo_paciente])"
      ],
      "metadata": {
        "colab": {
          "base_uri": "https://localhost:8080/"
        },
        "id": "93rC7sxrXwT2",
        "outputId": "9bd01f1d-26bc-4f47-ea3e-23290f8daf47"
      },
      "execution_count": 17,
      "outputs": [
        {
          "output_type": "execute_result",
          "data": {
            "text/plain": [
              "array([0])"
            ]
          },
          "metadata": {},
          "execution_count": 17
        }
      ]
    },
    {
      "cell_type": "code",
      "source": [
        "if (modelo.predict([novo_paciente]) ==0):\n",
        "  print(\"Paciente potencialmente alérgico\")\n",
        "else:\n",
        "  print(\"Paciente potencialmente gripado\")"
      ],
      "metadata": {
        "colab": {
          "base_uri": "https://localhost:8080/"
        },
        "id": "0CVqv6yyYqmk",
        "outputId": "5c5ed957-6eec-4f25-9c0a-7527365757ea"
      },
      "execution_count": 18,
      "outputs": [
        {
          "output_type": "stream",
          "name": "stdout",
          "text": [
            "Paciente potencialmente alérgico\n"
          ]
        }
      ]
    },
    {
      "cell_type": "markdown",
      "source": [
        "**Vamos salvar a aplicação do nosso modelo sobre os dados de teste na variável predições**"
      ],
      "metadata": {
        "id": "rBsRHi_mZUfX"
      }
    },
    {
      "cell_type": "code",
      "source": [
        "predicoes = modelo.predict(dados_teste)"
      ],
      "metadata": {
        "id": "tHuu4L7BZNNI"
      },
      "execution_count": 21,
      "outputs": []
    },
    {
      "cell_type": "code",
      "source": [
        "#Vamos supor que temos casos com exames que confirmam o seguinte sobre os pacientes terem gripe ou não.\n",
        "#vamos comparar nosso modelo com a realidade\n",
        "exames = [1,0,1,0]"
      ],
      "metadata": {
        "id": "bsl_rNpOZrmP"
      },
      "execution_count": 22,
      "outputs": []
    },
    {
      "cell_type": "code",
      "source": [
        "predicoes == exames "
      ],
      "metadata": {
        "colab": {
          "base_uri": "https://localhost:8080/"
        },
        "id": "9uNIKbDsaA-s",
        "outputId": "d2a6064f-ec33-4a30-bf70-d155ac1100be"
      },
      "execution_count": 23,
      "outputs": [
        {
          "output_type": "execute_result",
          "data": {
            "text/plain": [
              "array([ True,  True,  True, False])"
            ]
          },
          "metadata": {},
          "execution_count": 23
        }
      ]
    },
    {
      "cell_type": "code",
      "source": [
        "#Total de acertos do nosso modelo:\n",
        "total_acertos = (predicoes == exames).sum()\n",
        "total_acertos"
      ],
      "metadata": {
        "colab": {
          "base_uri": "https://localhost:8080/"
        },
        "id": "rBZp42j8aS8g",
        "outputId": "701ec0e1-bb39-4183-bb0d-4628937624cf"
      },
      "execution_count": 24,
      "outputs": [
        {
          "output_type": "execute_result",
          "data": {
            "text/plain": [
              "3"
            ]
          },
          "metadata": {},
          "execution_count": 24
        }
      ]
    },
    {
      "cell_type": "code",
      "source": [
        "#Percentual\n",
        "percentual = total_acertos/len(predicoes)\n",
        "percentual"
      ],
      "metadata": {
        "colab": {
          "base_uri": "https://localhost:8080/"
        },
        "id": "Mdlt3WNMcrjd",
        "outputId": "6f04022b-c211-40d4-e797-5be23a382ec9"
      },
      "execution_count": 25,
      "outputs": [
        {
          "output_type": "execute_result",
          "data": {
            "text/plain": [
              "0.75"
            ]
          },
          "metadata": {},
          "execution_count": 25
        }
      ]
    },
    {
      "cell_type": "code",
      "source": [
        "total_predicoes = len(dados_teste)\n",
        "total_predicoes"
      ],
      "metadata": {
        "colab": {
          "base_uri": "https://localhost:8080/"
        },
        "id": "mxgANCeqdAdn",
        "outputId": "11541ab8-866c-4f55-aa23-e7270f6a448f"
      },
      "execution_count": 26,
      "outputs": [
        {
          "output_type": "execute_result",
          "data": {
            "text/plain": [
              "4"
            ]
          },
          "metadata": {},
          "execution_count": 26
        }
      ]
    },
    {
      "cell_type": "code",
      "source": [
        "#Qual foi a taxa de sucesso?\n",
        "taxa_sucesso = (total_acertos/total_predicoes)*100\n",
        "taxa_sucesso"
      ],
      "metadata": {
        "colab": {
          "base_uri": "https://localhost:8080/"
        },
        "id": "HXgq4SCtdj0W",
        "outputId": "2f46db00-0dd1-4ec1-a108-d1796273d147"
      },
      "execution_count": 27,
      "outputs": [
        {
          "output_type": "execute_result",
          "data": {
            "text/plain": [
              "75.0"
            ]
          },
          "metadata": {},
          "execution_count": 27
        }
      ]
    },
    {
      "cell_type": "code",
      "source": [
        "print(\"A taxa de sucesso do seu modelo preditivo doi de\", taxa_sucesso, '%')"
      ],
      "metadata": {
        "colab": {
          "base_uri": "https://localhost:8080/"
        },
        "id": "bYDXGVOdeN6h",
        "outputId": "a5f5444e-b4de-4048-a571-7765074ac554"
      },
      "execution_count": 28,
      "outputs": [
        {
          "output_type": "stream",
          "name": "stdout",
          "text": [
            "A taxa de sucesso do seu modelo preditivo doi de 75.0 %\n"
          ]
        }
      ]
    },
    {
      "cell_type": "code",
      "source": [
        "#Para situações mais complexas, usaremos o accruracy score\n",
        "from sklearn.metrics import accuracy_score\n",
        "taxa_sucesso = accuracy_score(total_acertos/total_predicoes)"
      ],
      "metadata": {
        "id": "wp2GfF4JehER"
      },
      "execution_count": null,
      "outputs": []
    }
  ]
}