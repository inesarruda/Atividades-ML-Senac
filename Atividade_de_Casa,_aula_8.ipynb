{
  "nbformat": 4,
  "nbformat_minor": 0,
  "metadata": {
    "colab": {
      "provenance": [],
      "authorship_tag": "ABX9TyN1R97swwG56AjZVyorTCPl",
      "include_colab_link": true
    },
    "kernelspec": {
      "name": "python3",
      "display_name": "Python 3"
    },
    "language_info": {
      "name": "python"
    }
  },
  "cells": [
    {
      "cell_type": "markdown",
      "metadata": {
        "id": "view-in-github",
        "colab_type": "text"
      },
      "source": [
        "<a href=\"https://colab.research.google.com/github/inesarruda/Atividades-ML-Senac/blob/main/Atividade_de_Casa%2C_aula_8.ipynb\" target=\"_parent\"><img src=\"https://colab.research.google.com/assets/colab-badge.svg\" alt=\"Open In Colab\"/></a>"
      ]
    },
    {
      "cell_type": "code",
      "source": [
        "import numpy as np"
      ],
      "metadata": {
        "id": "F9c9TRixSzm7"
      },
      "execution_count": 3,
      "outputs": []
    },
    {
      "cell_type": "code",
      "execution_count": null,
      "metadata": {
        "colab": {
          "base_uri": "https://localhost:8080/"
        },
        "id": "-TlxQiwBSrSJ",
        "outputId": "4da19b1a-eae1-41b7-86a2-fb6ab01ea152"
      },
      "outputs": [
        {
          "output_type": "execute_result",
          "data": {
            "text/plain": [
              "array([0, 1, 2, 3, 4, 5, 6, 7, 8, 9])"
            ]
          },
          "metadata": {},
          "execution_count": 2
        }
      ],
      "source": [
        "arr1 = np.arange(10)\n",
        "arr1"
      ]
    },
    {
      "cell_type": "code",
      "source": [
        "arr2 = np.arange(10, 20)\n",
        "arr2"
      ],
      "metadata": {
        "colab": {
          "base_uri": "https://localhost:8080/"
        },
        "id": "KRWI17b9S4rf",
        "outputId": "0a5c577f-b4d6-4c95-e41e-dbcc08de34c7"
      },
      "execution_count": null,
      "outputs": [
        {
          "output_type": "execute_result",
          "data": {
            "text/plain": [
              "array([10, 11, 12, 13, 14, 15, 16, 17, 18, 19])"
            ]
          },
          "metadata": {},
          "execution_count": 3
        }
      ]
    },
    {
      "cell_type": "code",
      "source": [
        "arr3 = np.arange(10, 20, 2)\n",
        "arr3"
      ],
      "metadata": {
        "colab": {
          "base_uri": "https://localhost:8080/"
        },
        "id": "Dav3DD53S67n",
        "outputId": "fbd46bb4-1680-4a13-f92c-ba6dff68a8e3"
      },
      "execution_count": null,
      "outputs": [
        {
          "output_type": "execute_result",
          "data": {
            "text/plain": [
              "array([10, 12, 14, 16, 18])"
            ]
          },
          "metadata": {},
          "execution_count": 4
        }
      ]
    },
    {
      "cell_type": "code",
      "source": [
        "arr4 = np.arange(10, 20, 1.4)\n",
        "arr4"
      ],
      "metadata": {
        "colab": {
          "base_uri": "https://localhost:8080/"
        },
        "id": "b5oHHynZS8cT",
        "outputId": "8baad8ac-9cf5-428d-d6c7-287c300a742b"
      },
      "execution_count": null,
      "outputs": [
        {
          "output_type": "execute_result",
          "data": {
            "text/plain": [
              "array([10. , 11.4, 12.8, 14.2, 15.6, 17. , 18.4, 19.8])"
            ]
          },
          "metadata": {},
          "execution_count": 5
        }
      ]
    },
    {
      "cell_type": "code",
      "source": [
        "arr5 = np.linspace(10, 20, 11)\n",
        "arr5"
      ],
      "metadata": {
        "colab": {
          "base_uri": "https://localhost:8080/"
        },
        "id": "W7cvTbMXS9vq",
        "outputId": "1fc12767-c787-483c-f4bc-f451b5255c18"
      },
      "execution_count": null,
      "outputs": [
        {
          "output_type": "execute_result",
          "data": {
            "text/plain": [
              "array([10., 11., 12., 13., 14., 15., 16., 17., 18., 19., 20.])"
            ]
          },
          "metadata": {},
          "execution_count": 6
        }
      ]
    },
    {
      "cell_type": "code",
      "source": [
        "arr6 = np.linspace(10, 20,101) #imprime 101 elementos igualmente espaçados entre 10 e 20\n",
        "arr6"
      ],
      "metadata": {
        "colab": {
          "base_uri": "https://localhost:8080/"
        },
        "id": "E7dvjo4WTMx4",
        "outputId": "c756bca8-a03a-4992-a056-07a112b5fa61"
      },
      "execution_count": null,
      "outputs": [
        {
          "output_type": "execute_result",
          "data": {
            "text/plain": [
              "array([10. , 10.1, 10.2, 10.3, 10.4, 10.5, 10.6, 10.7, 10.8, 10.9, 11. ,\n",
              "       11.1, 11.2, 11.3, 11.4, 11.5, 11.6, 11.7, 11.8, 11.9, 12. , 12.1,\n",
              "       12.2, 12.3, 12.4, 12.5, 12.6, 12.7, 12.8, 12.9, 13. , 13.1, 13.2,\n",
              "       13.3, 13.4, 13.5, 13.6, 13.7, 13.8, 13.9, 14. , 14.1, 14.2, 14.3,\n",
              "       14.4, 14.5, 14.6, 14.7, 14.8, 14.9, 15. , 15.1, 15.2, 15.3, 15.4,\n",
              "       15.5, 15.6, 15.7, 15.8, 15.9, 16. , 16.1, 16.2, 16.3, 16.4, 16.5,\n",
              "       16.6, 16.7, 16.8, 16.9, 17. , 17.1, 17.2, 17.3, 17.4, 17.5, 17.6,\n",
              "       17.7, 17.8, 17.9, 18. , 18.1, 18.2, 18.3, 18.4, 18.5, 18.6, 18.7,\n",
              "       18.8, 18.9, 19. , 19.1, 19.2, 19.3, 19.4, 19.5, 19.6, 19.7, 19.8,\n",
              "       19.9, 20. ])"
            ]
          },
          "metadata": {},
          "execution_count": 7
        }
      ]
    },
    {
      "cell_type": "code",
      "source": [
        "arr7 = np.linspace(0, np.pi, 100)\n",
        "arr7"
      ],
      "metadata": {
        "colab": {
          "base_uri": "https://localhost:8080/"
        },
        "id": "hiY2PITLTu4a",
        "outputId": "4f981a44-e825-4d94-e2b0-e8c522e816e2"
      },
      "execution_count": null,
      "outputs": [
        {
          "output_type": "execute_result",
          "data": {
            "text/plain": [
              "array([0.        , 0.03173326, 0.06346652, 0.09519978, 0.12693304,\n",
              "       0.1586663 , 0.19039955, 0.22213281, 0.25386607, 0.28559933,\n",
              "       0.31733259, 0.34906585, 0.38079911, 0.41253237, 0.44426563,\n",
              "       0.47599889, 0.50773215, 0.53946541, 0.57119866, 0.60293192,\n",
              "       0.63466518, 0.66639844, 0.6981317 , 0.72986496, 0.76159822,\n",
              "       0.79333148, 0.82506474, 0.856798  , 0.88853126, 0.92026451,\n",
              "       0.95199777, 0.98373103, 1.01546429, 1.04719755, 1.07893081,\n",
              "       1.11066407, 1.14239733, 1.17413059, 1.20586385, 1.23759711,\n",
              "       1.26933037, 1.30106362, 1.33279688, 1.36453014, 1.3962634 ,\n",
              "       1.42799666, 1.45972992, 1.49146318, 1.52319644, 1.5549297 ,\n",
              "       1.58666296, 1.61839622, 1.65012947, 1.68186273, 1.71359599,\n",
              "       1.74532925, 1.77706251, 1.80879577, 1.84052903, 1.87226229,\n",
              "       1.90399555, 1.93572881, 1.96746207, 1.99919533, 2.03092858,\n",
              "       2.06266184, 2.0943951 , 2.12612836, 2.15786162, 2.18959488,\n",
              "       2.22132814, 2.2530614 , 2.28479466, 2.31652792, 2.34826118,\n",
              "       2.37999443, 2.41172769, 2.44346095, 2.47519421, 2.50692747,\n",
              "       2.53866073, 2.57039399, 2.60212725, 2.63386051, 2.66559377,\n",
              "       2.69732703, 2.72906028, 2.76079354, 2.7925268 , 2.82426006,\n",
              "       2.85599332, 2.88772658, 2.91945984, 2.9511931 , 2.98292636,\n",
              "       3.01465962, 3.04639288, 3.07812614, 3.10985939, 3.14159265])"
            ]
          },
          "metadata": {},
          "execution_count": 8
        }
      ]
    },
    {
      "cell_type": "code",
      "source": [
        "minhaMatriz = np.array([[1,2,3],\n",
        "[4,5,6]])"
      ],
      "metadata": {
        "id": "IPkyO9vTT95u"
      },
      "execution_count": null,
      "outputs": []
    },
    {
      "cell_type": "code",
      "source": [
        "minhaMatriz = np.array([[1,2,3], [4,5,6]])\n",
        "minhaMatriz"
      ],
      "metadata": {
        "colab": {
          "base_uri": "https://localhost:8080/"
        },
        "id": "KkEXPJAhUBI2",
        "outputId": "06dfcf88-a625-4c72-c53d-026e5834110e"
      },
      "execution_count": null,
      "outputs": [
        {
          "output_type": "execute_result",
          "data": {
            "text/plain": [
              "array([[1, 2, 3],\n",
              "       [4, 5, 6]])"
            ]
          },
          "metadata": {},
          "execution_count": 10
        }
      ]
    },
    {
      "cell_type": "code",
      "source": [
        "minhaLista = [[13,81,22], [0, 34, 59], [21, 48, 94]]"
      ],
      "metadata": {
        "id": "Ua_SkAvjUZu_"
      },
      "execution_count": null,
      "outputs": []
    },
    {
      "cell_type": "code",
      "source": [
        "minhaMatriz = np.matrix(minhaLista)\n",
        "minhaMatriz"
      ],
      "metadata": {
        "colab": {
          "base_uri": "https://localhost:8080/"
        },
        "id": "kYoilk5sUgVI",
        "outputId": "ae4bb1f7-6731-4559-b28c-ef575e1ffe85"
      },
      "execution_count": null,
      "outputs": [
        {
          "output_type": "execute_result",
          "data": {
            "text/plain": [
              "matrix([[13, 81, 22],\n",
              "        [ 0, 34, 59],\n",
              "        [21, 48, 94]])"
            ]
          },
          "metadata": {},
          "execution_count": 12
        }
      ]
    },
    {
      "cell_type": "code",
      "source": [
        "x = np.zeros(3) #vetor\n",
        "x"
      ],
      "metadata": {
        "colab": {
          "base_uri": "https://localhost:8080/"
        },
        "id": "eT1LH1a8VCTP",
        "outputId": "faa543e4-7b30-445b-9a49-eeef45cfddfe"
      },
      "execution_count": null,
      "outputs": [
        {
          "output_type": "execute_result",
          "data": {
            "text/plain": [
              "array([0., 0., 0.])"
            ]
          },
          "metadata": {},
          "execution_count": 13
        }
      ]
    },
    {
      "cell_type": "code",
      "source": [
        "x = np.zeros((3,2)) #matriz 3x2 de zeros\n",
        "x"
      ],
      "metadata": {
        "colab": {
          "base_uri": "https://localhost:8080/"
        },
        "id": "IpA5YTUhVHbY",
        "outputId": "7ea44c9c-8f42-4f94-f5be-8795d6c32c04"
      },
      "execution_count": null,
      "outputs": [
        {
          "output_type": "execute_result",
          "data": {
            "text/plain": [
              "array([[0., 0.],\n",
              "       [0., 0.],\n",
              "       [0., 0.]])"
            ]
          },
          "metadata": {},
          "execution_count": 14
        }
      ]
    },
    {
      "cell_type": "code",
      "source": [
        "print(np.zeros(3))"
      ],
      "metadata": {
        "colab": {
          "base_uri": "https://localhost:8080/"
        },
        "id": "axAifL4eVNIa",
        "outputId": "50cd6fe1-13a0-4588-a776-446fd5f96660"
      },
      "execution_count": null,
      "outputs": [
        {
          "output_type": "stream",
          "name": "stdout",
          "text": [
            "[0. 0. 0.]\n"
          ]
        }
      ]
    },
    {
      "cell_type": "code",
      "source": [
        "print(np.zeros((3, 2)))"
      ],
      "metadata": {
        "colab": {
          "base_uri": "https://localhost:8080/"
        },
        "id": "P5_bXIicVPjq",
        "outputId": "dcacb3a9-dec8-422f-91a4-058496e4029d"
      },
      "execution_count": null,
      "outputs": [
        {
          "output_type": "stream",
          "name": "stdout",
          "text": [
            "[[0. 0.]\n",
            " [0. 0.]\n",
            " [0. 0.]]\n"
          ]
        }
      ]
    },
    {
      "cell_type": "code",
      "source": [
        "x = np.ones((5,3)) #matriz 5x3 onde todos os elementos são 1\n",
        "x"
      ],
      "metadata": {
        "colab": {
          "base_uri": "https://localhost:8080/"
        },
        "id": "mGUpjHRJVSof",
        "outputId": "a7dd26fb-5d5d-46ac-ff52-e80a2be77f7e"
      },
      "execution_count": null,
      "outputs": [
        {
          "output_type": "execute_result",
          "data": {
            "text/plain": [
              "array([[1., 1., 1.],\n",
              "       [1., 1., 1.],\n",
              "       [1., 1., 1.],\n",
              "       [1., 1., 1.],\n",
              "       [1., 1., 1.]])"
            ]
          },
          "metadata": {},
          "execution_count": 17
        }
      ]
    },
    {
      "cell_type": "code",
      "source": [
        "y = np.ones(5)\n",
        "y"
      ],
      "metadata": {
        "colab": {
          "base_uri": "https://localhost:8080/"
        },
        "id": "zRARuFD6VlPY",
        "outputId": "514eada3-6d09-4b2f-bc72-ccb10150cb20"
      },
      "execution_count": null,
      "outputs": [
        {
          "output_type": "execute_result",
          "data": {
            "text/plain": [
              "array([1., 1., 1., 1., 1.])"
            ]
          },
          "metadata": {},
          "execution_count": 18
        }
      ]
    },
    {
      "cell_type": "markdown",
      "source": [
        "Desafio: como obter uma matriz 4x4 apenas com\n",
        "números 8?"
      ],
      "metadata": {
        "id": "6UZh8Koux2Gj"
      }
    },
    {
      "cell_type": "code",
      "source": [
        "m=4 #dimensão de linhas\n",
        "n=4 #dimensão de colunas\n",
        "m8 = np.zeros((m, n))\n",
        "for i in range(m):\n",
        "  for j in range(n):\n",
        "    if m8[i][j] == 0:\n",
        "      m8[i][j] = 8\n",
        "print(m8)\n"
      ],
      "metadata": {
        "colab": {
          "base_uri": "https://localhost:8080/"
        },
        "id": "wOU0mWQ_39xG",
        "outputId": "3af990ae-235c-4b19-fa96-ee972b6b0137"
      },
      "execution_count": null,
      "outputs": [
        {
          "output_type": "stream",
          "name": "stdout",
          "text": [
            "[[8. 8. 8. 8.]\n",
            " [8. 8. 8. 8.]\n",
            " [8. 8. 8. 8.]\n",
            " [8. 8. 8. 8.]]\n"
          ]
        }
      ]
    },
    {
      "cell_type": "code",
      "source": [
        "z= np.diag(np.array([1, 2, 3, 4, 5, 6])) #Transforma a matriz em uma matriz diagonal com dimensão len(z)\n",
        "z"
      ],
      "metadata": {
        "colab": {
          "base_uri": "https://localhost:8080/"
        },
        "id": "a63w3uNjVpgw",
        "outputId": "2da19c24-41b9-4765-cd8e-cf2ef9e9d263"
      },
      "execution_count": null,
      "outputs": [
        {
          "output_type": "execute_result",
          "data": {
            "text/plain": [
              "array([[1, 0, 0, 0, 0, 0],\n",
              "       [0, 2, 0, 0, 0, 0],\n",
              "       [0, 0, 3, 0, 0, 0],\n",
              "       [0, 0, 0, 4, 0, 0],\n",
              "       [0, 0, 0, 0, 5, 0],\n",
              "       [0, 0, 0, 0, 0, 6]])"
            ]
          },
          "metadata": {},
          "execution_count": 31
        }
      ]
    },
    {
      "cell_type": "code",
      "source": [
        "y = np.eye(5) #matriz unitária de dimensão 5 com float\n",
        "y"
      ],
      "metadata": {
        "colab": {
          "base_uri": "https://localhost:8080/"
        },
        "id": "VVAhjW6MV75I",
        "outputId": "8dd0b210-68ce-49d8-b608-aa3bb0124ff7"
      },
      "execution_count": null,
      "outputs": [
        {
          "output_type": "execute_result",
          "data": {
            "text/plain": [
              "array([[1., 0., 0., 0., 0.],\n",
              "       [0., 1., 0., 0., 0.],\n",
              "       [0., 0., 1., 0., 0.],\n",
              "       [0., 0., 0., 1., 0.],\n",
              "       [0., 0., 0., 0., 1.]])"
            ]
          },
          "metadata": {},
          "execution_count": 32
        }
      ]
    },
    {
      "cell_type": "code",
      "source": [
        "y = np.eye(5, dtype= int) #matriz unitária de dimensão 5 com int\n",
        "y"
      ],
      "metadata": {
        "colab": {
          "base_uri": "https://localhost:8080/"
        },
        "id": "N_yAttknWIog",
        "outputId": "1de08d34-3571-4962-96ae-fe02e48376af"
      },
      "execution_count": null,
      "outputs": [
        {
          "output_type": "execute_result",
          "data": {
            "text/plain": [
              "array([[1, 0, 0, 0, 0],\n",
              "       [0, 1, 0, 0, 0],\n",
              "       [0, 0, 1, 0, 0],\n",
              "       [0, 0, 0, 1, 0],\n",
              "       [0, 0, 0, 0, 1]])"
            ]
          },
          "metadata": {},
          "execution_count": 33
        }
      ]
    },
    {
      "cell_type": "code",
      "source": [
        "np.shape(minhaMatriz)"
      ],
      "metadata": {
        "colab": {
          "base_uri": "https://localhost:8080/"
        },
        "id": "_Q5zfdGQXu-I",
        "outputId": "f091a814-bfaf-4698-faf5-be474689c16c"
      },
      "execution_count": null,
      "outputs": [
        {
          "output_type": "execute_result",
          "data": {
            "text/plain": [
              "(3, 3)"
            ]
          },
          "metadata": {},
          "execution_count": 34
        }
      ]
    },
    {
      "cell_type": "code",
      "source": [
        "minhaMatriz.shape"
      ],
      "metadata": {
        "colab": {
          "base_uri": "https://localhost:8080/"
        },
        "id": "SE5Qbk4yX2cM",
        "outputId": "1ef609f6-c5ab-4d41-ef6b-2180845ffef2"
      },
      "execution_count": null,
      "outputs": [
        {
          "output_type": "execute_result",
          "data": {
            "text/plain": [
              "(3, 3)"
            ]
          },
          "metadata": {},
          "execution_count": 35
        }
      ]
    },
    {
      "cell_type": "code",
      "source": [
        "type(minhaMatriz) #Verifica o tipo da matriz"
      ],
      "metadata": {
        "colab": {
          "base_uri": "https://localhost:8080/"
        },
        "id": "sYMqsNIaX-xy",
        "outputId": "e5585ba3-29c9-4718-d2d6-b0dddb17ae86"
      },
      "execution_count": null,
      "outputs": [
        {
          "output_type": "execute_result",
          "data": {
            "text/plain": [
              "numpy.matrix"
            ]
          },
          "metadata": {},
          "execution_count": 36
        }
      ]
    },
    {
      "cell_type": "code",
      "source": [
        "minhaMatriz.dtype #Verifica o tipo dos dados da matriz"
      ],
      "metadata": {
        "colab": {
          "base_uri": "https://localhost:8080/"
        },
        "id": "GXpodIF5YBwQ",
        "outputId": "fd1d18a9-e83a-42fb-bc5b-02735fed2cef"
      },
      "execution_count": null,
      "outputs": [
        {
          "output_type": "execute_result",
          "data": {
            "text/plain": [
              "dtype('int64')"
            ]
          },
          "metadata": {},
          "execution_count": 37
        }
      ]
    },
    {
      "cell_type": "code",
      "source": [
        "minhaMatriz[2,1] #Acessa o elemento na linha 2, coluna 1, lembrando que o índice começa em 0"
      ],
      "metadata": {
        "colab": {
          "base_uri": "https://localhost:8080/"
        },
        "id": "Y6utJNlyYPvP",
        "outputId": "60951ab1-3844-491c-f91d-e890043037cb"
      },
      "execution_count": null,
      "outputs": [
        {
          "output_type": "execute_result",
          "data": {
            "text/plain": [
              "48"
            ]
          },
          "metadata": {},
          "execution_count": 38
        }
      ]
    },
    {
      "cell_type": "code",
      "source": [
        "print(minhaMatriz[0,:]) #printa a primeira linha da matriz"
      ],
      "metadata": {
        "colab": {
          "base_uri": "https://localhost:8080/"
        },
        "id": "V-ciwFCwYYP3",
        "outputId": "70036a4d-9464-4f3a-b5a6-91c4a313a3b0"
      },
      "execution_count": null,
      "outputs": [
        {
          "output_type": "stream",
          "name": "stdout",
          "text": [
            "[[13 81 22]]\n"
          ]
        }
      ]
    },
    {
      "cell_type": "code",
      "source": [
        "print(minhaMatriz[:,2]) #printa a terceira coluna da matriz. "
      ],
      "metadata": {
        "colab": {
          "base_uri": "https://localhost:8080/"
        },
        "id": "FpPcZxBDburO",
        "outputId": "0fa8f36a-0e9d-4e2e-d816-0e5aa7351113"
      },
      "execution_count": null,
      "outputs": [
        {
          "output_type": "stream",
          "name": "stdout",
          "text": [
            "[[22]\n",
            " [59]\n",
            " [94]]\n"
          ]
        }
      ]
    },
    {
      "cell_type": "code",
      "source": [
        "minhaMatriz[1,0] = 100 #Altera o elemento da segunda linha e primeira coluna para 100\n",
        "minhaMatriz"
      ],
      "metadata": {
        "colab": {
          "base_uri": "https://localhost:8080/"
        },
        "id": "EomCeKA8chmc",
        "outputId": "8b212b93-aabc-426c-a00b-cb3ebe4d8fac"
      },
      "execution_count": null,
      "outputs": [
        {
          "output_type": "execute_result",
          "data": {
            "text/plain": [
              "matrix([[ 13,  81,  22],\n",
              "        [100,  34,  59],\n",
              "        [ 21,  48,  94]])"
            ]
          },
          "metadata": {},
          "execution_count": 41
        }
      ]
    },
    {
      "cell_type": "code",
      "source": [
        "meuArray =np.array([1,2,3,4,5,6,7,8,9,10])"
      ],
      "metadata": {
        "id": "pe-AhmC649X4"
      },
      "execution_count": 9,
      "outputs": []
    },
    {
      "cell_type": "code",
      "source": [
        "np.sum(meuArray) #Obtendo a soma dos valores do array:"
      ],
      "metadata": {
        "colab": {
          "base_uri": "https://localhost:8080/"
        },
        "id": "m-tkLsDicr1P",
        "outputId": "fcdf2d04-c4ed-4b76-b291-7d5f17c6de4c"
      },
      "execution_count": 10,
      "outputs": [
        {
          "output_type": "execute_result",
          "data": {
            "text/plain": [
              "55"
            ]
          },
          "metadata": {},
          "execution_count": 10
        }
      ]
    },
    {
      "cell_type": "code",
      "source": [
        "np.prod(meuArray) #Obtendo o produto:"
      ],
      "metadata": {
        "colab": {
          "base_uri": "https://localhost:8080/"
        },
        "id": "ysrGCOJV5QN-",
        "outputId": "9b843e84-2b8b-41eb-bcf0-b41968c09bd5"
      },
      "execution_count": 11,
      "outputs": [
        {
          "output_type": "execute_result",
          "data": {
            "text/plain": [
              "3628800"
            ]
          },
          "metadata": {},
          "execution_count": 11
        }
      ]
    },
    {
      "cell_type": "code",
      "source": [
        "np.cumsum(meuArray) #Obtendo a soma acumulada"
      ],
      "metadata": {
        "colab": {
          "base_uri": "https://localhost:8080/"
        },
        "id": "8o9NYu-Y5gyH",
        "outputId": "e07b59de-040e-4c87-894e-248b54559a87"
      },
      "execution_count": 12,
      "outputs": [
        {
          "output_type": "execute_result",
          "data": {
            "text/plain": [
              "array([ 1,  3,  6, 10, 15, 21, 28, 36, 45, 55])"
            ]
          },
          "metadata": {},
          "execution_count": 12
        }
      ]
    },
    {
      "cell_type": "code",
      "source": [
        "meuArray.min() #Obtendo o valor mínimo do array:"
      ],
      "metadata": {
        "colab": {
          "base_uri": "https://localhost:8080/"
        },
        "id": "eV0hJD2u5qGs",
        "outputId": "2d2f23b0-6b1c-47ca-c0ad-65d2a17d79ad"
      },
      "execution_count": 13,
      "outputs": [
        {
          "output_type": "execute_result",
          "data": {
            "text/plain": [
              "1"
            ]
          },
          "metadata": {},
          "execution_count": 13
        }
      ]
    },
    {
      "cell_type": "code",
      "source": [
        "meuArray.max() #Obtendo o valor máximo do array:"
      ],
      "metadata": {
        "colab": {
          "base_uri": "https://localhost:8080/"
        },
        "id": "vK1BtopY7SnT",
        "outputId": "f6b61beb-acba-49d8-f2e2-9d6c10cee553"
      },
      "execution_count": 15,
      "outputs": [
        {
          "output_type": "execute_result",
          "data": {
            "text/plain": [
              "10"
            ]
          },
          "metadata": {},
          "execution_count": 15
        }
      ]
    },
    {
      "cell_type": "code",
      "source": [
        "np.mean(meuArray) #Obtendo a média dos valores do array:"
      ],
      "metadata": {
        "colab": {
          "base_uri": "https://localhost:8080/"
        },
        "id": "2cKXiEfU7ukM",
        "outputId": "60481fc8-be6a-4ac6-df57-fa0a81a08d5c"
      },
      "execution_count": 16,
      "outputs": [
        {
          "output_type": "execute_result",
          "data": {
            "text/plain": [
              "5.5"
            ]
          },
          "metadata": {},
          "execution_count": 16
        }
      ]
    },
    {
      "cell_type": "code",
      "source": [
        "np.median(meuArray) #Obtendo a mediana:"
      ],
      "metadata": {
        "colab": {
          "base_uri": "https://localhost:8080/"
        },
        "id": "82va_8yF71b9",
        "outputId": "0e8dc126-9578-4779-e230-a9258c13e799"
      },
      "execution_count": 17,
      "outputs": [
        {
          "output_type": "execute_result",
          "data": {
            "text/plain": [
              "5.5"
            ]
          },
          "metadata": {},
          "execution_count": 17
        }
      ]
    },
    {
      "cell_type": "code",
      "source": [
        "np.var(meuArray) #Obtendo a variância dos valores:"
      ],
      "metadata": {
        "colab": {
          "base_uri": "https://localhost:8080/"
        },
        "id": "FGwv7Fbq79m7",
        "outputId": "007daae0-84cc-4a23-c83c-227eda3f2b58"
      },
      "execution_count": 18,
      "outputs": [
        {
          "output_type": "execute_result",
          "data": {
            "text/plain": [
              "8.25"
            ]
          },
          "metadata": {},
          "execution_count": 18
        }
      ]
    },
    {
      "cell_type": "code",
      "source": [
        "np.std(meuArray) #Obtendo o desvio padrão dos valores:"
      ],
      "metadata": {
        "colab": {
          "base_uri": "https://localhost:8080/"
        },
        "id": "ZKfcDQhZ8Jbz",
        "outputId": "e5d1db4e-7f5e-4a2e-9e1c-c97a391ca70c"
      },
      "execution_count": 19,
      "outputs": [
        {
          "output_type": "execute_result",
          "data": {
            "text/plain": [
              "2.8722813232690143"
            ]
          },
          "metadata": {},
          "execution_count": 19
        }
      ]
    },
    {
      "cell_type": "markdown",
      "source": [
        "Desafio\\\n",
        "Criar um array unidimensional usando arange com 20 elementos;\\\n",
        "● “Varrer” o array para obter os pares;\\\n",
        "● “Varrer” o array para obter os ímpares;\\\n",
        "● Obter a média, a soma, o produto, a variância e o desvio padrão\n",
        "do array.\\\n",
        "● Saber se os valores são maiores que 5;\\\n",
        "● Obter os valores maiores que 5."
      ],
      "metadata": {
        "id": "9iul270c4yYK"
      }
    },
    {
      "cell_type": "code",
      "source": [
        "novo_array = np.arange(1,21)\n",
        "print(f'O novo_array é {novo_array}')\n",
        "novo_array_par = []\n",
        "novo_array_imp = []\n",
        "mult = 1\n",
        "for i in novo_array:\n",
        "  mult = mult*i\n",
        "  if i %2 != 0:\n",
        "    novo_array_imp.append(i) \n",
        "  else:\n",
        "    novo_array_par.append(i) \n",
        "print(f'Os valores pares foram: {novo_array_par}')\n",
        "print(f'Os valores impares foram: {novo_array_imp}')\n",
        "print(f'A média de novo_array é: {np.mean(novo_array)}')\n",
        "print(f'A soma de novo_array é: {np.sum(novo_array)}')\n",
        "print(f'A multiplicação dos elementos de novo_array é: {mult}')\n",
        "print(f'A variância dos elementos de novo_array é: {np.var(novo_array)}')\n",
        "print(f'O desvio padrão dos elementos de novo_array é: {np.std(novo_array)}')\n"
      ],
      "metadata": {
        "colab": {
          "base_uri": "https://localhost:8080/"
        },
        "id": "uHpn9g4P4ttT",
        "outputId": "33cc3946-842d-4f7e-85b9-2750acd7032c"
      },
      "execution_count": 28,
      "outputs": [
        {
          "output_type": "stream",
          "name": "stdout",
          "text": [
            "O novo_array é [ 1  2  3  4  5  6  7  8  9 10 11 12 13 14 15 16 17 18 19 20]\n",
            "Os valores pares foram: [2, 4, 6, 8, 10, 12, 14, 16, 18, 20]\n",
            "Os valores impares foram: [1, 3, 5, 7, 9, 11, 13, 15, 17, 19]\n",
            "A média de novo_array é: 10.5\n",
            "A soma de novo_array é: 210\n",
            "A multiplicação dos elementos de novo_array é: 2432902008176640000\n",
            "A variância dos elementos de novo_array é: 33.25\n",
            "O desvio padrão dos elementos de novo_array é: 5.766281297335398\n"
          ]
        }
      ]
    }
  ]
}