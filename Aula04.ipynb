{
  "nbformat": 4,
  "nbformat_minor": 0,
  "metadata": {
    "colab": {
      "provenance": [],
      "authorship_tag": "ABX9TyPg4aN7TW4RdoAlhGfpSISL",
      "include_colab_link": true
    },
    "kernelspec": {
      "name": "python3",
      "display_name": "Python 3"
    },
    "language_info": {
      "name": "python"
    }
  },
  "cells": [
    {
      "cell_type": "markdown",
      "metadata": {
        "id": "view-in-github",
        "colab_type": "text"
      },
      "source": [
        "<a href=\"https://colab.research.google.com/github/inesarruda/Atividades-ML-Senac/blob/main/Aula04.ipynb\" target=\"_parent\"><img src=\"https://colab.research.google.com/assets/colab-badge.svg\" alt=\"Open In Colab\"/></a>"
      ]
    },
    {
      "cell_type": "code",
      "execution_count": 1,
      "metadata": {
        "colab": {
          "base_uri": "https://localhost:8080/"
        },
        "id": "wwAYiLautEby",
        "outputId": "bab04f7f-aa8e-4a43-8a9f-06f32fe543d3"
      },
      "outputs": [
        {
          "output_type": "stream",
          "name": "stdout",
          "text": [
            "Estamos no elemento 1\n",
            "Estamos no elemento 2\n",
            "Estamos no elemento 3\n",
            "Estamos no elemento 4\n",
            "Estamos no elemento 5\n",
            "Estamos no elemento 6\n"
          ]
        }
      ],
      "source": [
        "for elemento in [1,2,3,4,5,6]:\n",
        "  print('Estamos no elemento', elemento)"
      ]
    },
    {
      "cell_type": "code",
      "source": [
        "for elemento in 'STRING':\n",
        "  print('Estamos no elemento', elemento)"
      ],
      "metadata": {
        "colab": {
          "base_uri": "https://localhost:8080/"
        },
        "id": "gneL7vwkwnsP",
        "outputId": "1d1e9232-4de7-4fe4-bd6a-0b4403110caf"
      },
      "execution_count": 2,
      "outputs": [
        {
          "output_type": "stream",
          "name": "stdout",
          "text": [
            "Estamos no elemento S\n",
            "Estamos no elemento T\n",
            "Estamos no elemento R\n",
            "Estamos no elemento I\n",
            "Estamos no elemento N\n",
            "Estamos no elemento G\n"
          ]
        }
      ]
    },
    {
      "cell_type": "code",
      "source": [
        "for elemento in range(len('STRING')):\n",
        "  print('Estamos no elemento', elemento)"
      ],
      "metadata": {
        "colab": {
          "base_uri": "https://localhost:8080/"
        },
        "id": "dt4BpVCjxGNP",
        "outputId": "2eaf8f22-a20a-4fd3-838a-b02d1528d758"
      },
      "execution_count": 3,
      "outputs": [
        {
          "output_type": "stream",
          "name": "stdout",
          "text": [
            "Estamos no elemento 0\n",
            "Estamos no elemento 1\n",
            "Estamos no elemento 2\n",
            "Estamos no elemento 3\n",
            "Estamos no elemento 4\n",
            "Estamos no elemento 5\n"
          ]
        }
      ]
    },
    {
      "cell_type": "code",
      "source": [
        "elemento = 0"
      ],
      "metadata": {
        "id": "CD2zjLZ9xci7"
      },
      "execution_count": 4,
      "outputs": []
    },
    {
      "cell_type": "code",
      "source": [
        "while elemento <= len([1,2,3,4,5,6]):\n",
        "  print('Estamos no elemento', elemento)"
      ],
      "metadata": {
        "id": "f6hS86umyUaO"
      },
      "execution_count": 65,
      "outputs": []
    },
    {
      "cell_type": "code",
      "source": [
        "while elemento <= len([1,2,3,4,5,6]):\n",
        "  print('Estamos no elemento', elemento)\n",
        "  elemento +=1"
      ],
      "metadata": {
        "colab": {
          "base_uri": "https://localhost:8080/"
        },
        "id": "aSSY3rWYy2XC",
        "outputId": "67ec07cb-b3e2-4ba5-9ee3-6818feed1a15"
      },
      "execution_count": 7,
      "outputs": [
        {
          "output_type": "stream",
          "name": "stdout",
          "text": [
            "Estamos no elemento 0\n",
            "Estamos no elemento 1\n",
            "Estamos no elemento 2\n",
            "Estamos no elemento 3\n",
            "Estamos no elemento 4\n",
            "Estamos no elemento 5\n",
            "Estamos no elemento 6\n"
          ]
        }
      ]
    },
    {
      "cell_type": "code",
      "source": [
        "s = 'STRING'\n",
        "indice = 0 \n",
        "while indice in range (len(s)):\n",
        "  print('Estamos no elemento', s[indice])\n",
        "  indice +=1"
      ],
      "metadata": {
        "colab": {
          "base_uri": "https://localhost:8080/"
        },
        "id": "VJLsMcJNzAkl",
        "outputId": "e80de57e-3541-4de6-8659-b6026e8c6c43"
      },
      "execution_count": 8,
      "outputs": [
        {
          "output_type": "stream",
          "name": "stdout",
          "text": [
            "Estamos no elemento S\n",
            "Estamos no elemento T\n",
            "Estamos no elemento R\n",
            "Estamos no elemento I\n",
            "Estamos no elemento N\n",
            "Estamos no elemento G\n"
          ]
        }
      ]
    },
    {
      "cell_type": "code",
      "source": [
        "palavra = 'tranquilo'\n",
        "for indice, letra in enumerate(palavra):\n",
        "  print(indice,letra)"
      ],
      "metadata": {
        "colab": {
          "base_uri": "https://localhost:8080/"
        },
        "id": "x7uxrYef1Y0Y",
        "outputId": "995ebc59-8606-4ff3-a33e-85dfed6a0b58"
      },
      "execution_count": 9,
      "outputs": [
        {
          "output_type": "stream",
          "name": "stdout",
          "text": [
            "0 t\n",
            "1 r\n",
            "2 a\n",
            "3 n\n",
            "4 q\n",
            "5 u\n",
            "6 i\n",
            "7 l\n",
            "8 o\n"
          ]
        }
      ]
    },
    {
      "cell_type": "code",
      "source": [
        "lista = ['eat', 'sleep', 'repeat']\n",
        "palavra = 'geek'"
      ],
      "metadata": {
        "id": "DzYp2b_42JpF"
      },
      "execution_count": 10,
      "outputs": []
    },
    {
      "cell_type": "code",
      "source": [
        "objeto1 = enumerate(lista)\n",
        "objeto2 = enumerate(palavra)"
      ],
      "metadata": {
        "id": "8jgFayvQ2gCK"
      },
      "execution_count": 11,
      "outputs": []
    },
    {
      "cell_type": "code",
      "source": [
        "print(\"Tipo: \", type(objeto1))\n",
        "print(list(enumerate(lista)))"
      ],
      "metadata": {
        "colab": {
          "base_uri": "https://localhost:8080/"
        },
        "id": "9VemSNOu2yUX",
        "outputId": "48c523a5-c968-426e-dd25-f3c5b55a2c2c"
      },
      "execution_count": 12,
      "outputs": [
        {
          "output_type": "stream",
          "name": "stdout",
          "text": [
            "Tipo:  <class 'enumerate'>\n",
            "[(0, 'eat'), (1, 'sleep'), (2, 'repeat')]\n"
          ]
        }
      ]
    },
    {
      "cell_type": "code",
      "source": [
        "print(list(enumerate(palavra,2)))"
      ],
      "metadata": {
        "colab": {
          "base_uri": "https://localhost:8080/"
        },
        "id": "m28VBBCD3ae7",
        "outputId": "74702788-84dc-4f22-ddd4-fd049a77904b"
      },
      "execution_count": 13,
      "outputs": [
        {
          "output_type": "stream",
          "name": "stdout",
          "text": [
            "[(2, 'g'), (3, 'e'), (4, 'e'), (5, 'k')]\n"
          ]
        }
      ]
    },
    {
      "cell_type": "code",
      "source": [
        "s = \"viva o python\"\n",
        "for ch in s:\n",
        "  print(\"Oi\")"
      ],
      "metadata": {
        "colab": {
          "base_uri": "https://localhost:8080/"
        },
        "id": "Fc7aMCvA3_dm",
        "outputId": "6e87d4cb-262c-421c-8c62-ae5b32f6441c"
      },
      "execution_count": 15,
      "outputs": [
        {
          "output_type": "stream",
          "name": "stdout",
          "text": [
            "Oi\n",
            "Oi\n",
            "Oi\n",
            "Oi\n",
            "Oi\n",
            "Oi\n",
            "Oi\n",
            "Oi\n",
            "Oi\n",
            "Oi\n",
            "Oi\n",
            "Oi\n",
            "Oi\n"
          ]
        }
      ]
    },
    {
      "cell_type": "markdown",
      "source": [
        "Desafio: Faça um programa que peça 10 números inteiros, calcule e mostre a quantidade de números pares e a quantidade de números ímpares"
      ],
      "metadata": {
        "id": "bbFKltAA570B"
      }
    },
    {
      "cell_type": "code",
      "source": [
        "lista_par=[]\n",
        "lista_impar =[]\n",
        "for i in range (10):\n",
        "  numero = int(input(\"Digite um número inteiro: \"))\n",
        "  if numero%2 ==0:\n",
        "    lista_par.append(numero)\n",
        "  else:\n",
        "    lista_impar.append(numero)\n",
        "tlp = len(lista_par)\n",
        "tli = len(lista_impar)\n",
        "print(f\"Tem {tlp} números pares e {tli} números ímpares\")"
      ],
      "metadata": {
        "colab": {
          "base_uri": "https://localhost:8080/"
        },
        "id": "aRcXwsC2410d",
        "outputId": "5f18fda2-097c-4fc7-9705-44d512a10106"
      },
      "execution_count": 20,
      "outputs": [
        {
          "output_type": "stream",
          "name": "stdout",
          "text": [
            "Digite um número inteiro: 1\n",
            "Digite um número inteiro: 2\n",
            "Digite um número inteiro: 3\n",
            "Digite um número inteiro: 4\n",
            "Digite um número inteiro: 5\n",
            "Digite um número inteiro: 6\n",
            "Digite um número inteiro: 7\n",
            "Digite um número inteiro: 8\n",
            "Digite um número inteiro: 9\n",
            "Digite um número inteiro: 10\n",
            "Tem 5 números pares e 5 números ímpares\n"
          ]
        }
      ]
    },
    {
      "cell_type": "code",
      "source": [
        "par = 0\n",
        "impar = 0\n",
        "for i in range (10):\n",
        "  numero = int(input(\"Digite um número inteiro: \"))\n",
        "  if numero%2 ==0:\n",
        "    par = par +1\n",
        "  else:\n",
        "    impar = impar+1\n",
        "tlp = len(lista_par)\n",
        "tli = len(lista_impar)\n",
        "print(f\"Tem {par} números pares e {impar} números ímpares\")"
      ],
      "metadata": {
        "colab": {
          "base_uri": "https://localhost:8080/"
        },
        "id": "wN4HDQYR7axT",
        "outputId": "04f3e274-22aa-4dd1-eba1-e37fd057daf6"
      },
      "execution_count": 18,
      "outputs": [
        {
          "output_type": "stream",
          "name": "stdout",
          "text": [
            "Digite um número inteiro: 1\n",
            "Digite um número inteiro: 2\n",
            "Digite um número inteiro: 3\n",
            "Digite um número inteiro: 4\n",
            "Digite um número inteiro: 5\n",
            "Digite um número inteiro: 6\n",
            "Digite um número inteiro: 7\n",
            "Digite um número inteiro: 8\n",
            "Digite um número inteiro: 9\n",
            "Digite um número inteiro: 10\n",
            "Tem 5 números pares e 5 números ímpares\n"
          ]
        }
      ]
    },
    {
      "cell_type": "markdown",
      "source": [
        "Desafio: Crie uma estrutura que pergunte ao usuário qual o dia da semana. Se o dia for igual a domingo ou igual a sábado, imprima na tela \"Hoje é dia de descanso\", caso contrário imprima na tela \"Você precisa trabalhar\""
      ],
      "metadata": {
        "id": "YuxJRuOw8aiL"
      }
    },
    {
      "cell_type": "code",
      "source": [
        "while True:\n",
        "  ds = input(\"Digite o dia da semana: \").lower()\n",
        "  if ds == \"sábado\" or ds == \"domingo\":\n",
        "    print(\"Hoje é dia de descanso\")\n",
        "  else:\n",
        "    print(\"Você precisa trabalhar\")\n",
        "    break"
      ],
      "metadata": {
        "colab": {
          "base_uri": "https://localhost:8080/"
        },
        "id": "Wqtw-IPx8YUl",
        "outputId": "568529b2-3842-4778-90d8-eb618db0c6f2"
      },
      "execution_count": 25,
      "outputs": [
        {
          "output_type": "stream",
          "name": "stdout",
          "text": [
            "Digite o dia da semana: sábado\n",
            "Hoje é dia de descanso\n",
            "Digite o dia da semana: domingo\n",
            "Hoje é dia de descanso\n",
            "Digite o dia da semana: segunda\n",
            "Você precisa trabalhar\n"
          ]
        }
      ]
    },
    {
      "cell_type": "markdown",
      "source": [
        "Desafio: Faça um programa que cria uma lista automaticamente usando a função range e imprima na tela apenas os números pares. Sempre que encontrar um número ímpar multiplicar por ele mesmo e mostrar na tela."
      ],
      "metadata": {
        "id": "eiCOc38y-0th"
      }
    },
    {
      "cell_type": "code",
      "source": [
        "lista_par=[]\n",
        "lista_impar =[]\n",
        "lista_impar_mult = []\n",
        "for i in range (10):\n",
        "  numero = int(input(\"Digite um número inteiro: \"))\n",
        "  if numero%2 ==0:\n",
        "    lista_par.append(numero)\n",
        "  else:\n",
        "    lista_impar.append(numero)\n",
        "    numero = numero *numero\n",
        "    lista_impar_mult.append(numero)\n",
        "tlp = len(lista_par)\n",
        "tli = len(lista_impar)\n",
        "print(f\"Os números pares foram {lista_par} e os números impares multiplicados por ele mesmo foram {lista_impar_mult}\")"
      ],
      "metadata": {
        "colab": {
          "base_uri": "https://localhost:8080/"
        },
        "id": "-lDvtQA18uwW",
        "outputId": "708d161c-ea63-4d09-dd09-fb2071074c73"
      },
      "execution_count": 28,
      "outputs": [
        {
          "output_type": "stream",
          "name": "stdout",
          "text": [
            "Digite um número inteiro: 1\n",
            "Digite um número inteiro: 2\n",
            "Digite um número inteiro: 3\n",
            "Digite um número inteiro: 4\n",
            "Digite um número inteiro: 5\n",
            "Digite um número inteiro: 6\n",
            "Digite um número inteiro: 7\n",
            "Digite um número inteiro: 8\n",
            "Digite um número inteiro: 9\n",
            "Digite um número inteiro: 10\n",
            "Os números pares foram [2, 4, 6, 8, 10] e os números impares multiplicados por ele mesmo foram [1, 9, 25, 49, 81]\n"
          ]
        }
      ]
    },
    {
      "cell_type": "markdown",
      "source": [
        "Faça um programa pra percorrer uma palavra e imprimir na tela apenas as letras que são vogais, e mostrar em qual índice da palavra cada vogal está associada"
      ],
      "metadata": {
        "id": "h1e_QZcwB3wU"
      }
    },
    {
      "cell_type": "code",
      "source": [
        "palavra = input(\"Digite uma palavra \")\n",
        "for i in palavra:\n",
        "  if i == 'a' or 'e' or 'i' or 'o' or 'u':\n",
        "    print(i)\n",
        "    #print(f\"{i} {palavra[i]}\")"
      ],
      "metadata": {
        "colab": {
          "base_uri": "https://localhost:8080/"
        },
        "id": "UfrqEVvnClwe",
        "outputId": "fa425f1e-dc76-463d-a5b8-aeffca796e0d"
      },
      "execution_count": 42,
      "outputs": [
        {
          "output_type": "stream",
          "name": "stdout",
          "text": [
            "Digite uma palavra areia\n",
            "a\n",
            "r\n",
            "e\n",
            "i\n",
            "a\n"
          ]
        }
      ]
    },
    {
      "cell_type": "markdown",
      "source": [
        "Prática: Convite para festa"
      ],
      "metadata": {
        "id": "HmhX62lBEJl8"
      }
    },
    {
      "cell_type": "code",
      "source": [
        "for nome in [\"Reginaldo\", \"Gisele Pintcher\", \"Scoob\", \"Marlene\", \"Zezinho\", \"Cibele\", \"Suely\"]:\n",
        "  convite = (\"Oi, \")"
      ],
      "metadata": {
        "id": "6PWeoWg9EI8W"
      },
      "execution_count": null,
      "outputs": []
    },
    {
      "cell_type": "markdown",
      "source": [
        "lista de 5 frutas"
      ],
      "metadata": {
        "id": "c6KXI922Eq5r"
      }
    },
    {
      "cell_type": "code",
      "source": [
        "frutas = [\"Abacaxi\", \"Morango\", \"Uva\", \"Goiaba\", \"Manga\"]\n",
        "print(\"Morango\" in frutas)"
      ],
      "metadata": {
        "colab": {
          "base_uri": "https://localhost:8080/"
        },
        "id": "IgO4pUrXEnko",
        "outputId": "4dd35760-fa63-4e24-bf40-5ef1a8fc3ed7"
      },
      "execution_count": 40,
      "outputs": [
        {
          "output_type": "stream",
          "name": "stdout",
          "text": [
            "True\n"
          ]
        }
      ]
    },
    {
      "cell_type": "markdown",
      "source": [
        "Prática crie sequencia de numeros pares entre 100 e 150 e imprimir"
      ],
      "metadata": {
        "id": "Cdy3pOK-FnhN"
      }
    },
    {
      "cell_type": "code",
      "source": [
        "lista = []\n",
        "for i in range(100,151):\n",
        "  if i%2 == 0:\n",
        "    lista.append(i)\n",
        "print(lista)"
      ],
      "metadata": {
        "colab": {
          "base_uri": "https://localhost:8080/"
        },
        "id": "3OAd_Gp6E-9R",
        "outputId": "7d793eda-b5ab-4705-c7d1-129a8d16017a"
      },
      "execution_count": 48,
      "outputs": [
        {
          "output_type": "stream",
          "name": "stdout",
          "text": [
            "[100, 102, 104, 106, 108, 110, 112, 114, 116, 118, 120, 122, 124, 126, 128, 130, 132, 134, 136, 138, 140, 142, 144, 146, 148, 150]\n"
          ]
        }
      ]
    },
    {
      "cell_type": "code",
      "source": [
        "lista = []\n",
        "for i in range(100,151,2):\n",
        "  lista.append(i)\n",
        "print(lista)"
      ],
      "metadata": {
        "colab": {
          "base_uri": "https://localhost:8080/"
        },
        "id": "ugegX-I2GXK-",
        "outputId": "e70168f8-4c1a-4095-b2ef-7dac2d7bfe19"
      },
      "execution_count": 51,
      "outputs": [
        {
          "output_type": "stream",
          "name": "stdout",
          "text": [
            "[100, 102, 104, 106, 108, 110, 112, 114, 116, 118, 120, 122, 124, 126, 128, 130, 132, 134, 136, 138, 140, 142, 144, 146, 148, 150]\n"
          ]
        }
      ]
    },
    {
      "cell_type": "markdown",
      "source": [
        "Prática 4: Temperatura"
      ],
      "metadata": {
        "id": "7cazHjWoHBDT"
      }
    },
    {
      "cell_type": "code",
      "source": [
        "temp = 40\n",
        "while (temp >25):\n",
        "  temp = temp -1\n",
        "  print(temp)"
      ],
      "metadata": {
        "colab": {
          "base_uri": "https://localhost:8080/"
        },
        "id": "YT4UFf--HCoO",
        "outputId": "959e02e3-3c38-468a-a8f8-4dbf435da0ec"
      },
      "execution_count": 64,
      "outputs": [
        {
          "output_type": "stream",
          "name": "stdout",
          "text": [
            "39\n",
            "38\n",
            "37\n",
            "36\n",
            "35\n",
            "34\n",
            "33\n",
            "32\n",
            "31\n",
            "30\n",
            "29\n",
            "28\n",
            "27\n",
            "26\n",
            "25\n"
          ]
        }
      ]
    }
  ]
}