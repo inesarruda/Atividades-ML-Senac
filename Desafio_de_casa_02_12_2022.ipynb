{
  "nbformat": 4,
  "nbformat_minor": 0,
  "metadata": {
    "colab": {
      "provenance": [],
      "authorship_tag": "ABX9TyM1Au8e0SCtrqW4fPHx93Gy",
      "include_colab_link": true
    },
    "kernelspec": {
      "name": "python3",
      "display_name": "Python 3"
    },
    "language_info": {
      "name": "python"
    }
  },
  "cells": [
    {
      "cell_type": "markdown",
      "metadata": {
        "id": "view-in-github",
        "colab_type": "text"
      },
      "source": [
        "<a href=\"https://colab.research.google.com/github/inesarruda/Atividades-ML-Senac/blob/main/Desafio_de_casa_02_12_2022.ipynb\" target=\"_parent\"><img src=\"https://colab.research.google.com/assets/colab-badge.svg\" alt=\"Open In Colab\"/></a>"
      ]
    },
    {
      "cell_type": "markdown",
      "source": [
        "#Desafio de casa 02/12/2022"
      ],
      "metadata": {
        "id": "yIyo7q3MxB7Y"
      }
    },
    {
      "cell_type": "markdown",
      "source": [
        "1) Utilize lista ou dicionário com 5 perguntas para uma pessoa sobre\n",
        "um crime. As perguntas são:\\\n",
        "\"Telefonou para a vítima?\",\\\n",
        "\"Esteve no local do crime?\"\\\n",
        "\"Mora perto da vítima?\"\\\n",
        "\"Devia para a vítima?\"\\\n",
        "\"Já trabalhou com a vítima?\"\n",
        "\n",
        "O seu programa deve utilizar o índice da lista ou a chave do dicionário\n",
        "para direcionar a pergunta para o usuário.\n",
        "Ao final das perguntas, seu programa deve emitir uma classificação\n",
        "sobre a participação da pessoa no crime.\n",
        "Por exemplo: Se a pessoa responder positivamente a 2 questões ela\n",
        "deve ser classificada como \"Suspeito grau 1\", entre 3 e 4 como\n",
        "\"Suspeito grau 2\" e 5 como \"Suspeito grau 3: Principal suspeito\".\n",
        "Caso contrário, ele será classificado como \"Inocente\"."
      ],
      "metadata": {
        "id": "0io8nit4qTgQ"
      }
    },
    {
      "cell_type": "code",
      "execution_count": null,
      "metadata": {
        "id": "NImgSTEMp5NX"
      },
      "outputs": [],
      "source": [
        "dic = {'p1':\"Telefonou para a vítima?\", 'p2': \"Esteve no local do crime?\", 'p3': \"Mora perto da vítima?\", 'p4': \"Devia para a vítima?\", 'p5': \"Já trabalhou com a vítima?\" }\n",
        "cont = 0\n",
        "for perguntas in dic.values(): #vai percorrer os valores do dicionário, nesse caso as perguntas\n",
        "  resp = input(f'Responda \"sim\" ou \"não\": {perguntas} ').lower() \n",
        "  if resp == \"sim\":\n",
        "    cont +=1\n",
        "\n",
        "if (cont == 5):\n",
        "  print(\"Suspeito grau 3: Principal suspeito\")\n",
        "elif (cont == 3 or cont == 4):\n",
        "  print(\"Suspeito grau 2\")\n",
        "elif (cont == 2):\n",
        "  print(\"Suspeito grau 1\")\n",
        "else:\n",
        "  print(\"Inocente\")"
      ]
    },
    {
      "cell_type": "markdown",
      "source": [
        "2) Utilize uma lista para resolver o problema a seguir. Uma empresa\n",
        "paga seus vendedores com base em comissões. O vendedor recebe\n",
        "\\$200 por semana mais 9% de suas vendas brutas daquela semana.\n",
        "Por exemplo, um vendedor que teve vendas brutas de \\$3000 em uma\n",
        "semana recebe \\$200 mais 9% de \\$3000, ou seja, um total de \\$470.\n",
        "Escreva um programa que determine quantos vendedores receberam\n",
        "salários nos seguintes intervalos de valores.\\\n",
        "\\$200 - \\$299\\\n",
        "\\$300 - \\$399\\\n",
        "\\$400 - \\$499\\\n",
        "\\$500 - \\$599\\\n",
        "\\\n",
        "\\$600 - \\$699\\\n",
        "\\$700 - \\$799\\\n",
        "\\$800 - \\$899\\\n",
        "\\$900 - \\$999\\\n",
        "\\$1000 em diante"
      ],
      "metadata": {
        "id": "yh6QHcbkUlTL"
      }
    },
    {
      "cell_type": "code",
      "source": [
        "lista = []\n",
        "#inter = []\n",
        "func= 15 #número de funcionários\n",
        "i1 = 0 #intervalo de $200 - $299\n",
        "i2 = 0 # intervalo de $300 - $399\n",
        "i3 = 0 # intervalo de $400 - $499\n",
        "i4 = 0 # intervalo de $500 - $599\n",
        "i5 = 0 # intervalo de $600 - $699\n",
        "i6 = 0 # intervalo de $700 - $799\n",
        "i7 = 0 # intervalo de $800 - $899\n",
        "i8 = 0 # intervalo de $900 - $999\n",
        "i9 = 0 # intervalo acima de $1000\n",
        "\n",
        "for i in range (func): #Para cada funcionário vamos perguntar o valor de vendas brutas\n",
        "  valor = float(input(\"Digite o valor das suas vendas brutas R$: \"))\n",
        "  sal = 200 + valor*0.09\n",
        "  lista.append(sal)\n",
        "\n",
        "for i in lista:\n",
        "  if i >=200 and i<=299:\n",
        "    i1 +=1\n",
        "  elif i>=300 and i<=399:\n",
        "    i2 +=1\n",
        "  elif i>=400 and i<=499:\n",
        "    i3 +=1 \n",
        "  elif i>=500 and i<=599:\n",
        "    i4 +=1\n",
        "  elif i>=600 and i<=699:\n",
        "    i5 +=1 \n",
        "  elif i>=700 and i<=799:\n",
        "    i6+=1\n",
        "  elif i>=800 and i<=899:\n",
        "    i7 +1\n",
        "  elif i>=900 and i<=999:\n",
        "    i8 +=1     \n",
        "  else:\n",
        "    i9+=1\n",
        "\n",
        "print(f\" {i1} vendedor(es) que receberam o salário de $200 - $299\")\n",
        "print(f\" {i2} vendedor(es) que receberam o salário de $300 - $399\")\n",
        "print(f\" {i3} vendedor(es) que receberam o salário de $400 - $499\")\n",
        "print(f\" {i4} vendedor(es) que receberam o salário de $500 - $599\")\n",
        "print(f\" {i5} vendedor(es) que receberam o salário de $600 - $699\")\n",
        "print(f\" {i6} vendedor(es) que receberam o salário de $700 - $799\")\n",
        "print(f\" {i7} vendedor(es) que receberam o salário de $800 - $899\")\n",
        "print(f\" {i8} vendedor(es) que receberam o salário de $900 - $999\")\n",
        "print(f\" {i9} vendedor(es) que receberam o salário acima de $100\")"
      ],
      "metadata": {
        "id": "sdjkwzvXk_xS"
      },
      "execution_count": null,
      "outputs": []
    },
    {
      "cell_type": "markdown",
      "source": [
        "3) Faça um Programa que leia um vetor de 10 números reais e\n",
        "mostre-os na ordem inversa."
      ],
      "metadata": {
        "id": "vfMJdO13XErY"
      }
    },
    {
      "cell_type": "code",
      "source": [
        "lista =[]\n",
        "for i in range (10):\n",
        "  num = int(input(\"Digite um número real: \"))\n",
        "  lista.append(num)\n",
        "lista.reverse()\n",
        "print(lista)"
      ],
      "metadata": {
        "id": "ag9YgWP6XHt8"
      },
      "execution_count": null,
      "outputs": []
    },
    {
      "cell_type": "markdown",
      "source": [
        "4)Faça um Programa que peça as quatro notas de 10 alunos, calcule\n",
        "e armazene num vetor a média de cada aluno, imprima o número de\n",
        "alunos com média maior ou igual a 7.0."
      ],
      "metadata": {
        "id": "oX1WnAjjXx_x"
      }
    },
    {
      "cell_type": "code",
      "source": [
        "medias = []\n",
        "cont = 0\n",
        "for i in range(10):\n",
        "  print(f'Aluno {i+1}')\n",
        "  n1 = float(input(\"Digite a nota da 1ª prova: \"))\n",
        "  n2 = float(input(\"Digite a nota da 2ª prova: \"))\n",
        "  n3 = float(input(\"Digite a nota da 3ª prova: \"))\n",
        "  n4 = float(input(\"Digite a nota da 4ª prova: \"))\n",
        "  media = (n1+n2+n3+n4)/4\n",
        "  medias.append(media)\n",
        "\n",
        "for i in medias:\n",
        "  if i >=7:\n",
        "    cont +=1\n",
        "\n",
        "print(\"\\n\")\n",
        "print(f\" Há {cont} alunos com média maior ou igual a 7.0\")"
      ],
      "metadata": {
        "id": "F98APTOGk7ge"
      },
      "execution_count": null,
      "outputs": []
    }
  ]
}