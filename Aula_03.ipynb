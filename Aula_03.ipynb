{
  "nbformat": 4,
  "nbformat_minor": 0,
  "metadata": {
    "colab": {
      "provenance": [],
      "authorship_tag": "ABX9TyNcO6CkEggNOYi2fk75QMs3",
      "include_colab_link": true
    },
    "kernelspec": {
      "name": "python3",
      "display_name": "Python 3"
    },
    "language_info": {
      "name": "python"
    }
  },
  "cells": [
    {
      "cell_type": "markdown",
      "metadata": {
        "id": "view-in-github",
        "colab_type": "text"
      },
      "source": [
        "<a href=\"https://colab.research.google.com/github/inesarruda/Atividades-ML-Senac/blob/main/Aula_03.ipynb\" target=\"_parent\"><img src=\"https://colab.research.google.com/assets/colab-badge.svg\" alt=\"Open In Colab\"/></a>"
      ]
    },
    {
      "cell_type": "code",
      "execution_count": 57,
      "metadata": {
        "id": "SUTNZwDHi9Y3"
      },
      "outputs": [],
      "source": [
        "L = []"
      ]
    },
    {
      "cell_type": "code",
      "source": [
        "L = list() #construtor de listas"
      ],
      "metadata": {
        "id": "Y-o6xKDhlTz_"
      },
      "execution_count": 58,
      "outputs": []
    },
    {
      "cell_type": "code",
      "source": [
        "dias = [3,1,10]"
      ],
      "metadata": {
        "id": "6kxAY9UhldyE"
      },
      "execution_count": 59,
      "outputs": []
    },
    {
      "cell_type": "code",
      "source": [
        "dias[0]"
      ],
      "metadata": {
        "colab": {
          "base_uri": "https://localhost:8080/"
        },
        "id": "xSvm78YKlasd",
        "outputId": "cf4937fd-752d-40fd-86ec-cefcde2ed5f8"
      },
      "execution_count": 60,
      "outputs": [
        {
          "output_type": "execute_result",
          "data": {
            "text/plain": [
              "3"
            ]
          },
          "metadata": {},
          "execution_count": 60
        }
      ]
    },
    {
      "cell_type": "code",
      "source": [
        "dias[1]"
      ],
      "metadata": {
        "colab": {
          "base_uri": "https://localhost:8080/"
        },
        "id": "_gvfBCzZls4l",
        "outputId": "0113b223-ea49-44eb-8f17-3ccdb4f3032b"
      },
      "execution_count": 61,
      "outputs": [
        {
          "output_type": "execute_result",
          "data": {
            "text/plain": [
              "1"
            ]
          },
          "metadata": {},
          "execution_count": 61
        }
      ]
    },
    {
      "cell_type": "code",
      "source": [
        "dias[2]"
      ],
      "metadata": {
        "colab": {
          "base_uri": "https://localhost:8080/"
        },
        "id": "uin8vPtel2av",
        "outputId": "44c3c7bf-5aa3-4675-bf5c-9e3c4cb05e0e"
      },
      "execution_count": 62,
      "outputs": [
        {
          "output_type": "execute_result",
          "data": {
            "text/plain": [
              "10"
            ]
          },
          "metadata": {},
          "execution_count": 62
        }
      ]
    },
    {
      "cell_type": "code",
      "source": [
        "z= [3,8,9]"
      ],
      "metadata": {
        "id": "0tZ1AoZVl4N6"
      },
      "execution_count": 63,
      "outputs": []
    },
    {
      "cell_type": "code",
      "source": [
        "z[0] =7"
      ],
      "metadata": {
        "id": "1MJFNsagl7Qq"
      },
      "execution_count": 64,
      "outputs": []
    },
    {
      "cell_type": "code",
      "source": [
        "z"
      ],
      "metadata": {
        "colab": {
          "base_uri": "https://localhost:8080/"
        },
        "id": "kBCFTAlxmFHs",
        "outputId": "c3e17995-4d4c-46ba-9b9a-2d3cc437241e"
      },
      "execution_count": 65,
      "outputs": [
        {
          "output_type": "execute_result",
          "data": {
            "text/plain": [
              "[7, 8, 9]"
            ]
          },
          "metadata": {},
          "execution_count": 65
        }
      ]
    },
    {
      "cell_type": "code",
      "source": [
        "v=67589"
      ],
      "metadata": {
        "id": "RVZ-XIxUmGdZ"
      },
      "execution_count": 66,
      "outputs": []
    },
    {
      "cell_type": "code",
      "source": [
        "v=L"
      ],
      "metadata": {
        "id": "CSDsQXRYmME5"
      },
      "execution_count": 67,
      "outputs": []
    },
    {
      "cell_type": "code",
      "source": [
        "a= [81,82,83]"
      ],
      "metadata": {
        "id": "9Au4fThJmRUJ"
      },
      "execution_count": 68,
      "outputs": []
    },
    {
      "cell_type": "code",
      "source": [
        "b=a[:] #cria um clone fatia"
      ],
      "metadata": {
        "id": "9awTjIsCmWGZ"
      },
      "execution_count": 69,
      "outputs": []
    },
    {
      "cell_type": "code",
      "source": [
        "print(a==b)"
      ],
      "metadata": {
        "colab": {
          "base_uri": "https://localhost:8080/"
        },
        "id": "ns0Uir2dmcYZ",
        "outputId": "92a99e4b-1208-4fd7-de1f-c4e8b8a30a0e"
      },
      "execution_count": 70,
      "outputs": [
        {
          "output_type": "stream",
          "name": "stdout",
          "text": [
            "True\n"
          ]
        }
      ]
    },
    {
      "cell_type": "code",
      "source": [
        "print(a is b)"
      ],
      "metadata": {
        "colab": {
          "base_uri": "https://localhost:8080/"
        },
        "id": "y0b8bkfdmfS3",
        "outputId": "19c1257e-4af6-4241-d6c3-df8604df569a"
      },
      "execution_count": 71,
      "outputs": [
        {
          "output_type": "stream",
          "name": "stdout",
          "text": [
            "False\n"
          ]
        }
      ]
    },
    {
      "cell_type": "code",
      "source": [
        "b[0] = 5"
      ],
      "metadata": {
        "id": "bXi9HhAamiWx"
      },
      "execution_count": 72,
      "outputs": []
    },
    {
      "cell_type": "code",
      "source": [
        "print(a)"
      ],
      "metadata": {
        "colab": {
          "base_uri": "https://localhost:8080/"
        },
        "id": "cjNW4HoMmmcJ",
        "outputId": "f5f2e2b1-b3bc-42de-eccd-81dda4e47f69"
      },
      "execution_count": 73,
      "outputs": [
        {
          "output_type": "stream",
          "name": "stdout",
          "text": [
            "[81, 82, 83]\n"
          ]
        }
      ]
    },
    {
      "cell_type": "code",
      "source": [
        "print(b)"
      ],
      "metadata": {
        "colab": {
          "base_uri": "https://localhost:8080/"
        },
        "id": "P1bQ2ehtmoTk",
        "outputId": "9776445e-df15-4274-b2e3-2221ee4fabd2"
      },
      "execution_count": 74,
      "outputs": [
        {
          "output_type": "stream",
          "name": "stdout",
          "text": [
            "[5, 82, 83]\n"
          ]
        }
      ]
    },
    {
      "cell_type": "code",
      "source": [
        "uma_lista = ['a','b','c','d','e','f']"
      ],
      "metadata": {
        "id": "XxejbyAvmxm2"
      },
      "execution_count": 75,
      "outputs": []
    },
    {
      "cell_type": "code",
      "source": [
        "print(uma_lista[1:3])"
      ],
      "metadata": {
        "colab": {
          "base_uri": "https://localhost:8080/"
        },
        "id": "F4NDLSqGnIzU",
        "outputId": "d305b984-b6ed-43ec-d9ea-f775a50736ee"
      },
      "execution_count": 76,
      "outputs": [
        {
          "output_type": "stream",
          "name": "stdout",
          "text": [
            "['b', 'c']\n"
          ]
        }
      ]
    },
    {
      "cell_type": "code",
      "source": [
        "print(uma_lista[:4])"
      ],
      "metadata": {
        "colab": {
          "base_uri": "https://localhost:8080/"
        },
        "id": "58Ai-WZQnMsE",
        "outputId": "42b9c110-3c2c-4c7d-eb6a-1eb97903344e"
      },
      "execution_count": 77,
      "outputs": [
        {
          "output_type": "stream",
          "name": "stdout",
          "text": [
            "['a', 'b', 'c', 'd']\n"
          ]
        }
      ]
    },
    {
      "cell_type": "code",
      "source": [
        "print(uma_lista[3:])"
      ],
      "metadata": {
        "colab": {
          "base_uri": "https://localhost:8080/"
        },
        "id": "6zKbKYvcnQqp",
        "outputId": "f0a2f651-53ab-4f93-c881-79b14635cd40"
      },
      "execution_count": 78,
      "outputs": [
        {
          "output_type": "stream",
          "name": "stdout",
          "text": [
            "['d', 'e', 'f']\n"
          ]
        }
      ]
    },
    {
      "cell_type": "code",
      "source": [
        "print(uma_lista[:])"
      ],
      "metadata": {
        "colab": {
          "base_uri": "https://localhost:8080/"
        },
        "id": "cyJZjzyOnTqJ",
        "outputId": "4b22c256-d890-4aa9-f526-a8bc96fae909"
      },
      "execution_count": 79,
      "outputs": [
        {
          "output_type": "stream",
          "name": "stdout",
          "text": [
            "['a', 'b', 'c', 'd', 'e', 'f']\n"
          ]
        }
      ]
    },
    {
      "cell_type": "code",
      "source": [
        "a=[1,2,3]"
      ],
      "metadata": {
        "id": "DZYyilbtoSyC"
      },
      "execution_count": 80,
      "outputs": []
    },
    {
      "cell_type": "code",
      "source": [
        "b=a[:]"
      ],
      "metadata": {
        "id": "EPyT5U7yoS85"
      },
      "execution_count": 81,
      "outputs": []
    },
    {
      "cell_type": "code",
      "source": [
        "b[0] = 5"
      ],
      "metadata": {
        "id": "QPCFZNtloTHJ"
      },
      "execution_count": 82,
      "outputs": []
    },
    {
      "cell_type": "code",
      "source": [
        "print(a[3])"
      ],
      "metadata": {
        "colab": {
          "base_uri": "https://localhost:8080/",
          "height": 165
        },
        "id": "dox8ZBJwoTRZ",
        "outputId": "de4af7b7-5105-457e-8de3-a424a4a4fb6e"
      },
      "execution_count": 84,
      "outputs": [
        {
          "output_type": "error",
          "ename": "IndexError",
          "evalue": "ignored",
          "traceback": [
            "\u001b[0;31m---------------------------------------------------------------------------\u001b[0m",
            "\u001b[0;31mIndexError\u001b[0m                                Traceback (most recent call last)",
            "\u001b[0;32m<ipython-input-84-5451d47c444b>\u001b[0m in \u001b[0;36m<module>\u001b[0;34m\u001b[0m\n\u001b[0;32m----> 1\u001b[0;31m \u001b[0mprint\u001b[0m\u001b[0;34m(\u001b[0m\u001b[0ma\u001b[0m\u001b[0;34m[\u001b[0m\u001b[0;36m3\u001b[0m\u001b[0;34m]\u001b[0m\u001b[0;34m)\u001b[0m\u001b[0;34m\u001b[0m\u001b[0;34m\u001b[0m\u001b[0m\n\u001b[0m",
            "\u001b[0;31mIndexError\u001b[0m: list index out of range"
          ]
        }
      ]
    },
    {
      "cell_type": "code",
      "source": [
        "#2\n",
        "minhaLista=[76,92.3, \"oi\", True, 4, 76]"
      ],
      "metadata": {
        "id": "z0Cqi89OoTbR"
      },
      "execution_count": 85,
      "outputs": []
    },
    {
      "cell_type": "code",
      "source": [
        "#a) Inserir \n",
        "minhaLista[4] = \"pitomba\"\n",
        "minhaLista[5] = 76"
      ],
      "metadata": {
        "id": "_W8LM8dhoTsh"
      },
      "execution_count": 86,
      "outputs": []
    },
    {
      "cell_type": "code",
      "source": [
        "#b\n",
        "minhaLista[3] =\"cibele\""
      ],
      "metadata": {
        "id": "EVfD2WXiqkkZ"
      },
      "execution_count": 87,
      "outputs": []
    },
    {
      "cell_type": "code",
      "source": [
        "minhaLista"
      ],
      "metadata": {
        "colab": {
          "base_uri": "https://localhost:8080/"
        },
        "id": "xz06dR09pQsx",
        "outputId": "716b1ef2-4f10-4603-b320-72a0332ab7ea"
      },
      "execution_count": 88,
      "outputs": [
        {
          "output_type": "execute_result",
          "data": {
            "text/plain": [
              "[76, 92.3, 'oi', 'cibele', 'pitomba', 76]"
            ]
          },
          "metadata": {},
          "execution_count": 88
        }
      ]
    },
    {
      "cell_type": "code",
      "source": [
        "#c)\n",
        "minhaLista[0]=99"
      ],
      "metadata": {
        "id": "cjhdXsnTp7mJ"
      },
      "execution_count": 89,
      "outputs": []
    },
    {
      "cell_type": "code",
      "source": [
        "#d) \n",
        "minhaLista[0] == \"oi\""
      ],
      "metadata": {
        "colab": {
          "base_uri": "https://localhost:8080/"
        },
        "id": "qkFbqxDXqdPw",
        "outputId": "8b0cd639-91a4-4e7c-d565-cd81bd3d427c"
      },
      "execution_count": 90,
      "outputs": [
        {
          "output_type": "execute_result",
          "data": {
            "text/plain": [
              "False"
            ]
          },
          "metadata": {},
          "execution_count": 90
        }
      ]
    },
    {
      "cell_type": "code",
      "source": [
        "#d)\n",
        "minhaLista[1] == \"oi\""
      ],
      "metadata": {
        "colab": {
          "base_uri": "https://localhost:8080/"
        },
        "id": "XJRFlOAiq71Z",
        "outputId": "cd410fce-d043-4dc7-db48-99727714c56b"
      },
      "execution_count": 91,
      "outputs": [
        {
          "output_type": "execute_result",
          "data": {
            "text/plain": [
              "False"
            ]
          },
          "metadata": {},
          "execution_count": 91
        }
      ]
    },
    {
      "cell_type": "code",
      "source": [
        "#d)\n",
        "minhaLista[2] == \"oi\""
      ],
      "metadata": {
        "colab": {
          "base_uri": "https://localhost:8080/"
        },
        "id": "mW3t-p1lq-b2",
        "outputId": "d2ca22e8-eaa3-4da1-b39c-a90f8cd9b44c"
      },
      "execution_count": 92,
      "outputs": [
        {
          "output_type": "execute_result",
          "data": {
            "text/plain": [
              "True"
            ]
          },
          "metadata": {},
          "execution_count": 92
        }
      ]
    },
    {
      "cell_type": "code",
      "source": [
        "uma_lista=[4,2,8,6,5]"
      ],
      "metadata": {
        "id": "ZE-XIWNZrWK3"
      },
      "execution_count": 93,
      "outputs": []
    },
    {
      "cell_type": "code",
      "source": [
        "uma_lista = uma_lista +[\"Cibele\"]"
      ],
      "metadata": {
        "id": "NfmEEnj4rcp3"
      },
      "execution_count": 94,
      "outputs": []
    },
    {
      "cell_type": "code",
      "source": [
        "print(uma_lista)"
      ],
      "metadata": {
        "colab": {
          "base_uri": "https://localhost:8080/"
        },
        "id": "gYGyJWAjriOU",
        "outputId": "e67253fe-2fef-4d05-a274-2484f7cc15b6"
      },
      "execution_count": 97,
      "outputs": [
        {
          "output_type": "stream",
          "name": "stdout",
          "text": [
            "[4, 2, 8, 6, 5, 'Cibele']\n"
          ]
        }
      ]
    },
    {
      "cell_type": "code",
      "source": [
        "tupla_numeros=(10,20,30)"
      ],
      "metadata": {
        "id": "uh5QRReDsEJx"
      },
      "execution_count": 98,
      "outputs": []
    },
    {
      "cell_type": "code",
      "source": [
        "tupla_numeros"
      ],
      "metadata": {
        "colab": {
          "base_uri": "https://localhost:8080/"
        },
        "id": "FPVTeLTUsjRC",
        "outputId": "e5550c3e-f099-4587-a7d4-eb19cfe15230"
      },
      "execution_count": 99,
      "outputs": [
        {
          "output_type": "execute_result",
          "data": {
            "text/plain": [
              "(10, 20, 30)"
            ]
          },
          "metadata": {},
          "execution_count": 99
        }
      ]
    },
    {
      "cell_type": "code",
      "source": [
        "tupla_nova = 10,20,30"
      ],
      "metadata": {
        "id": "03iy2BSbtReB"
      },
      "execution_count": 100,
      "outputs": []
    },
    {
      "cell_type": "code",
      "source": [
        "tupla_nova"
      ],
      "metadata": {
        "colab": {
          "base_uri": "https://localhost:8080/"
        },
        "id": "tZmpSUPktUuE",
        "outputId": "1a3f5b6f-64a4-4f75-cdcf-ed38c037579a"
      },
      "execution_count": 101,
      "outputs": [
        {
          "output_type": "execute_result",
          "data": {
            "text/plain": [
              "(10, 20, 30)"
            ]
          },
          "metadata": {},
          "execution_count": 101
        }
      ]
    },
    {
      "cell_type": "code",
      "source": [
        "tupla_elemento = 10,"
      ],
      "metadata": {
        "id": "9Y679MFbthux"
      },
      "execution_count": 102,
      "outputs": []
    },
    {
      "cell_type": "code",
      "source": [
        "tupla_elemento"
      ],
      "metadata": {
        "colab": {
          "base_uri": "https://localhost:8080/"
        },
        "id": "di3-HZggtlT0",
        "outputId": "f533756a-763a-4ad3-fbec-1b3ca51a5da3"
      },
      "execution_count": 103,
      "outputs": [
        {
          "output_type": "execute_result",
          "data": {
            "text/plain": [
              "(10,)"
            ]
          },
          "metadata": {},
          "execution_count": 103
        }
      ]
    },
    {
      "cell_type": "code",
      "source": [
        "tupla_vazia=()"
      ],
      "metadata": {
        "id": "U7r-3nL0uRJz"
      },
      "execution_count": 107,
      "outputs": []
    },
    {
      "cell_type": "code",
      "source": [
        "tupla_vazia"
      ],
      "metadata": {
        "colab": {
          "base_uri": "https://localhost:8080/"
        },
        "id": "IHEJOHkUuWxx",
        "outputId": "d6bb233c-caab-40e1-d8b0-2f1ebf2c5f46"
      },
      "execution_count": 108,
      "outputs": [
        {
          "output_type": "execute_result",
          "data": {
            "text/plain": [
              "()"
            ]
          },
          "metadata": {},
          "execution_count": 108
        }
      ]
    },
    {
      "cell_type": "code",
      "source": [
        "nova_tupla=tuple('Teste')"
      ],
      "metadata": {
        "id": "aZgDfF7OvWuA"
      },
      "execution_count": 109,
      "outputs": []
    },
    {
      "cell_type": "code",
      "source": [
        "nova_tupla"
      ],
      "metadata": {
        "colab": {
          "base_uri": "https://localhost:8080/"
        },
        "id": "TyjstLAsvbuv",
        "outputId": "e056df1f-1901-439c-ed39-743562a1b952"
      },
      "execution_count": 110,
      "outputs": [
        {
          "output_type": "execute_result",
          "data": {
            "text/plain": [
              "('T', 'e', 's', 't', 'e')"
            ]
          },
          "metadata": {},
          "execution_count": 110
        }
      ]
    },
    {
      "cell_type": "code",
      "source": [
        "tupla_nomes=('Marlene', 'Zezinho', 'Cibele', 'Zuely')"
      ],
      "metadata": {
        "id": "7Y2R88UJvoaI"
      },
      "execution_count": 112,
      "outputs": []
    },
    {
      "cell_type": "code",
      "source": [
        "tupla_nomes.count('Marlene')"
      ],
      "metadata": {
        "colab": {
          "base_uri": "https://localhost:8080/"
        },
        "id": "Huq1kgvzv_Ko",
        "outputId": "64f157cd-bddc-4ca3-bdbe-f270418c1dad"
      },
      "execution_count": 113,
      "outputs": [
        {
          "output_type": "execute_result",
          "data": {
            "text/plain": [
              "1"
            ]
          },
          "metadata": {},
          "execution_count": 113
        }
      ]
    },
    {
      "cell_type": "code",
      "source": [
        "print(tupla_nomes.count('Suely'))"
      ],
      "metadata": {
        "colab": {
          "base_uri": "https://localhost:8080/"
        },
        "id": "xeBLBhsJwEJN",
        "outputId": "362e78e7-e51c-47c2-dc33-b3052544e072"
      },
      "execution_count": 116,
      "outputs": [
        {
          "output_type": "stream",
          "name": "stdout",
          "text": [
            "0\n"
          ]
        }
      ]
    },
    {
      "cell_type": "code",
      "source": [
        "print(tupla_nomes.count('Zezinho'))"
      ],
      "metadata": {
        "colab": {
          "base_uri": "https://localhost:8080/"
        },
        "id": "XBBiNLmIwK7M",
        "outputId": "e3520e39-64ee-419d-8b35-d88f5287d2f8"
      },
      "execution_count": 117,
      "outputs": [
        {
          "output_type": "stream",
          "name": "stdout",
          "text": [
            "1\n"
          ]
        }
      ]
    },
    {
      "cell_type": "markdown",
      "source": [
        "1)Criar tuplas com os elementos: 1,2,2,3,4,4,4,5 e depois utilize a função count do objeto para verificar quantas vezes o número 4 aparece na tupla"
      ],
      "metadata": {
        "id": "MVuu8zMDwq_J"
      }
    },
    {
      "cell_type": "code",
      "source": [
        "tupla=(1,2,2,3,4,4,4,5)"
      ],
      "metadata": {
        "id": "3uDnD85uwVQb"
      },
      "execution_count": 118,
      "outputs": []
    },
    {
      "cell_type": "code",
      "source": [
        "print(tupla.count(4))"
      ],
      "metadata": {
        "colab": {
          "base_uri": "https://localhost:8080/"
        },
        "id": "BLHj6Z16w6uG",
        "outputId": "deb333d5-527c-40a0-dcb6-f028c979504e"
      },
      "execution_count": 119,
      "outputs": [
        {
          "output_type": "stream",
          "name": "stdout",
          "text": [
            "3\n"
          ]
        }
      ]
    },
    {
      "cell_type": "code",
      "source": [
        "dicio = {'chave':'valor'}"
      ],
      "metadata": {
        "id": "2OpU7rPRwVhk"
      },
      "execution_count": 120,
      "outputs": []
    },
    {
      "cell_type": "code",
      "source": [
        "print(type(dicio))"
      ],
      "metadata": {
        "colab": {
          "base_uri": "https://localhost:8080/"
        },
        "id": "I-G4AO69wVsb",
        "outputId": "4c3e87d2-0d0d-46e9-8701-e64556df487d"
      },
      "execution_count": 121,
      "outputs": [
        {
          "output_type": "stream",
          "name": "stdout",
          "text": [
            "<class 'dict'>\n"
          ]
        }
      ]
    },
    {
      "cell_type": "code",
      "source": [
        "d= {'laranjas':15, 'bananas':35, 'siriguelas':12}"
      ],
      "metadata": {
        "id": "upl-oRqtwV6x"
      },
      "execution_count": 128,
      "outputs": []
    },
    {
      "cell_type": "code",
      "source": [
        "d['bananas']"
      ],
      "metadata": {
        "colab": {
          "base_uri": "https://localhost:8080/"
        },
        "id": "i4ul9nk0ywkV",
        "outputId": "95f90845-ec6d-4706-f1a0-f401c4b4512a"
      },
      "execution_count": 129,
      "outputs": [
        {
          "output_type": "execute_result",
          "data": {
            "text/plain": [
              "35"
            ]
          },
          "metadata": {},
          "execution_count": 129
        }
      ]
    },
    {
      "cell_type": "code",
      "source": [
        "d['pitomba'] = 20"
      ],
      "metadata": {
        "id": "kA3MDviswWG8"
      },
      "execution_count": 130,
      "outputs": []
    },
    {
      "cell_type": "code",
      "source": [
        "len(d)"
      ],
      "metadata": {
        "colab": {
          "base_uri": "https://localhost:8080/"
        },
        "id": "izVhKl6lzPgE",
        "outputId": "ab7224c7-b9c8-45be-f41d-9d340e746184"
      },
      "execution_count": 131,
      "outputs": [
        {
          "output_type": "execute_result",
          "data": {
            "text/plain": [
              "4"
            ]
          },
          "metadata": {},
          "execution_count": 131
        }
      ]
    },
    {
      "cell_type": "code",
      "source": [
        "'pitomba' in d"
      ],
      "metadata": {
        "colab": {
          "base_uri": "https://localhost:8080/"
        },
        "id": "xIhZUgrkwWgD",
        "outputId": "656deb11-fc0f-43be-be92-246d6920b33b"
      },
      "execution_count": 133,
      "outputs": [
        {
          "output_type": "execute_result",
          "data": {
            "text/plain": [
              "True"
            ]
          },
          "metadata": {},
          "execution_count": 133
        }
      ]
    },
    {
      "cell_type": "code",
      "source": [
        "del d['laranjas']"
      ],
      "metadata": {
        "id": "o5kjiMvq0SZ7"
      },
      "execution_count": 134,
      "outputs": []
    },
    {
      "cell_type": "code",
      "source": [
        "'laranjas' in d"
      ],
      "metadata": {
        "colab": {
          "base_uri": "https://localhost:8080/"
        },
        "id": "Dhvn7GuP0VJi",
        "outputId": "9e2b2636-d824-4679-890d-63a67ba465a7"
      },
      "execution_count": 135,
      "outputs": [
        {
          "output_type": "execute_result",
          "data": {
            "text/plain": [
              "False"
            ]
          },
          "metadata": {},
          "execution_count": 135
        }
      ]
    },
    {
      "cell_type": "code",
      "source": [
        "'peras' in d"
      ],
      "metadata": {
        "colab": {
          "base_uri": "https://localhost:8080/"
        },
        "id": "-dX5imhX0cNg",
        "outputId": "125227ff-d224-4dad-f22d-4412751dfe76"
      },
      "execution_count": 138,
      "outputs": [
        {
          "output_type": "execute_result",
          "data": {
            "text/plain": [
              "False"
            ]
          },
          "metadata": {},
          "execution_count": 138
        }
      ]
    },
    {
      "cell_type": "code",
      "source": [
        "frutas = ['pinha', 'oiti coró', 'jaca', 'tamarindo']"
      ],
      "metadata": {
        "id": "vwUnqXcb11JA"
      },
      "execution_count": 140,
      "outputs": []
    },
    {
      "cell_type": "code",
      "source": [
        "print([1,2]+[3,4])"
      ],
      "metadata": {
        "colab": {
          "base_uri": "https://localhost:8080/"
        },
        "id": "ayOh5gwB1_NM",
        "outputId": "ce9f9656-fe54-4fda-8ec7-8b804190b8ea"
      },
      "execution_count": 141,
      "outputs": [
        {
          "output_type": "stream",
          "name": "stdout",
          "text": [
            "[1, 2, 3, 4]\n"
          ]
        }
      ]
    },
    {
      "cell_type": "code",
      "source": [
        "print(frutas +[6,7,8,9])"
      ],
      "metadata": {
        "colab": {
          "base_uri": "https://localhost:8080/"
        },
        "id": "aVLKXAYT2Ec7",
        "outputId": "3ac76213-5b5d-41e9-b447-9f2f3e06636a"
      },
      "execution_count": 142,
      "outputs": [
        {
          "output_type": "stream",
          "name": "stdout",
          "text": [
            "['pinha', 'oiti coró', 'jaca', 'tamarindo', 6, 7, 8, 9]\n"
          ]
        }
      ]
    },
    {
      "cell_type": "code",
      "source": [
        "print([0]*4)"
      ],
      "metadata": {
        "colab": {
          "base_uri": "https://localhost:8080/"
        },
        "id": "fztc3zKQ2Myu",
        "outputId": "8dfa2a88-935e-4122-dc20-ad14f2bc41bf"
      },
      "execution_count": 143,
      "outputs": [
        {
          "output_type": "stream",
          "name": "stdout",
          "text": [
            "[0, 0, 0, 0]\n"
          ]
        }
      ]
    },
    {
      "cell_type": "code",
      "source": [
        "print([1,2,['oi', 'tchau']]*2)"
      ],
      "metadata": {
        "colab": {
          "base_uri": "https://localhost:8080/"
        },
        "id": "JqePFZPl2S6J",
        "outputId": "ca521f1d-01f9-4578-890a-1bc59afa7378"
      },
      "execution_count": 147,
      "outputs": [
        {
          "output_type": "stream",
          "name": "stdout",
          "text": [
            "[1, 2, ['oi', 'tchau'], 1, 2, ['oi', 'tchau']]\n"
          ]
        }
      ]
    },
    {
      "cell_type": "code",
      "source": [
        "minha_lista=[]"
      ],
      "metadata": {
        "id": "RcVMHH7w3LeT"
      },
      "execution_count": 148,
      "outputs": []
    },
    {
      "cell_type": "code",
      "source": [
        "minha_lista.append(5)"
      ],
      "metadata": {
        "id": "t7kjmQPi4Jov"
      },
      "execution_count": 174,
      "outputs": []
    },
    {
      "cell_type": "code",
      "source": [
        "minha_lista.append(27)"
      ],
      "metadata": {
        "id": "Y9okHGg44OJc"
      },
      "execution_count": 150,
      "outputs": []
    },
    {
      "cell_type": "code",
      "source": [
        "minha_lista.append(3)"
      ],
      "metadata": {
        "id": "bZu6tRMj4RUv"
      },
      "execution_count": 151,
      "outputs": []
    },
    {
      "cell_type": "code",
      "source": [
        "minha_lista.append(12)"
      ],
      "metadata": {
        "id": "Wucxzl1G4T7Q"
      },
      "execution_count": 152,
      "outputs": []
    },
    {
      "cell_type": "code",
      "source": [
        "print(minha_lista)"
      ],
      "metadata": {
        "colab": {
          "base_uri": "https://localhost:8080/"
        },
        "id": "aaOtKneo4WPf",
        "outputId": "f4173736-91e2-4adf-ab88-45498d9151c8"
      },
      "execution_count": 153,
      "outputs": [
        {
          "output_type": "stream",
          "name": "stdout",
          "text": [
            "[5, 27, 3, 12]\n"
          ]
        }
      ]
    },
    {
      "cell_type": "code",
      "source": [
        "minha_lista.insert(1,12)"
      ],
      "metadata": {
        "id": "R5XhZuJU40n_"
      },
      "execution_count": 154,
      "outputs": []
    },
    {
      "cell_type": "code",
      "source": [
        "print(minha_lista)"
      ],
      "metadata": {
        "colab": {
          "base_uri": "https://localhost:8080/"
        },
        "id": "3LhdnwLe45r8",
        "outputId": "ca35375b-7292-4d1a-8024-c0b04c76197c"
      },
      "execution_count": 155,
      "outputs": [
        {
          "output_type": "stream",
          "name": "stdout",
          "text": [
            "[5, 12, 27, 3, 12]\n"
          ]
        }
      ]
    },
    {
      "cell_type": "code",
      "source": [
        "print(minha_lista.count(12))"
      ],
      "metadata": {
        "colab": {
          "base_uri": "https://localhost:8080/"
        },
        "id": "o_3uvwlv479c",
        "outputId": "cdd314f4-1fdb-4f95-fa69-caeb920b3230"
      },
      "execution_count": 156,
      "outputs": [
        {
          "output_type": "stream",
          "name": "stdout",
          "text": [
            "2\n"
          ]
        }
      ]
    },
    {
      "cell_type": "code",
      "source": [
        "print(minha_lista.index(3))"
      ],
      "metadata": {
        "colab": {
          "base_uri": "https://localhost:8080/"
        },
        "id": "lZtyvoV45Bz8",
        "outputId": "2f2867fa-4f54-4987-e405-50d560c51e98"
      },
      "execution_count": 157,
      "outputs": [
        {
          "output_type": "stream",
          "name": "stdout",
          "text": [
            "3\n"
          ]
        }
      ]
    },
    {
      "cell_type": "code",
      "source": [
        "print(minha_lista.count(5))"
      ],
      "metadata": {
        "colab": {
          "base_uri": "https://localhost:8080/"
        },
        "id": "K-5TpEbs5IMy",
        "outputId": "7a0d6e30-74be-426d-fbc9-39c267117911"
      },
      "execution_count": 167,
      "outputs": [
        {
          "output_type": "stream",
          "name": "stdout",
          "text": [
            "0\n"
          ]
        }
      ]
    },
    {
      "cell_type": "code",
      "source": [
        "minha_lista.reverse()"
      ],
      "metadata": {
        "id": "Zc4OGXuP50UK"
      },
      "execution_count": 168,
      "outputs": []
    },
    {
      "cell_type": "code",
      "source": [
        "print(minha_lista)"
      ],
      "metadata": {
        "colab": {
          "base_uri": "https://localhost:8080/"
        },
        "id": "kQfA7CJy54Z7",
        "outputId": "bf68ce05-832f-414c-b39d-c2f21ae8ae68"
      },
      "execution_count": 169,
      "outputs": [
        {
          "output_type": "stream",
          "name": "stdout",
          "text": [
            "[27, 12, 12, 3]\n"
          ]
        }
      ]
    },
    {
      "cell_type": "code",
      "source": [
        "minha_lista.sort()"
      ],
      "metadata": {
        "id": "JgwI666v58Dz"
      },
      "execution_count": 170,
      "outputs": []
    },
    {
      "cell_type": "code",
      "source": [
        "print(minha_lista)"
      ],
      "metadata": {
        "colab": {
          "base_uri": "https://localhost:8080/"
        },
        "id": "k5s8YI3u5_rb",
        "outputId": "2633ef4f-71c7-45b8-ea26-1a48fd6d2462"
      },
      "execution_count": 171,
      "outputs": [
        {
          "output_type": "stream",
          "name": "stdout",
          "text": [
            "[3, 12, 12, 27]\n"
          ]
        }
      ]
    },
    {
      "cell_type": "code",
      "source": [
        "minha_lista.remove(5)"
      ],
      "metadata": {
        "id": "Yw7e-xeq6DQY"
      },
      "execution_count": 175,
      "outputs": []
    },
    {
      "cell_type": "code",
      "source": [
        "print(minha_lista)"
      ],
      "metadata": {
        "colab": {
          "base_uri": "https://localhost:8080/"
        },
        "id": "7ncPN0EN6HiL",
        "outputId": "5672d556-0802-4c66-ef99-40f8d037356b"
      },
      "execution_count": 176,
      "outputs": [
        {
          "output_type": "stream",
          "name": "stdout",
          "text": [
            "[3, 12, 12, 27]\n"
          ]
        }
      ]
    },
    {
      "cell_type": "code",
      "source": [
        "ultimo_item = minha_lista.pop()"
      ],
      "metadata": {
        "id": "U186ngZu6ol7"
      },
      "execution_count": 177,
      "outputs": []
    },
    {
      "cell_type": "code",
      "source": [
        "print(ultimo_item)"
      ],
      "metadata": {
        "colab": {
          "base_uri": "https://localhost:8080/"
        },
        "id": "6dq-Zn-16uhz",
        "outputId": "cc21e15b-e713-488f-cb9e-5c4cd48e6a67"
      },
      "execution_count": 178,
      "outputs": [
        {
          "output_type": "stream",
          "name": "stdout",
          "text": [
            "27\n"
          ]
        }
      ]
    },
    {
      "cell_type": "code",
      "source": [
        "print(minha_lista)"
      ],
      "metadata": {
        "colab": {
          "base_uri": "https://localhost:8080/"
        },
        "id": "lke9YzXM6zJ4",
        "outputId": "44ed50ae-f089-4377-f117-b3d3b2c23565"
      },
      "execution_count": 179,
      "outputs": [
        {
          "output_type": "stream",
          "name": "stdout",
          "text": [
            "[3, 12, 12]\n"
          ]
        }
      ]
    },
    {
      "cell_type": "markdown",
      "source": [
        "#Exercícios"
      ],
      "metadata": {
        "id": "POGnC5_F8F5p"
      }
    },
    {
      "cell_type": "code",
      "source": [
        "palavras = ['codigo', 'linguagem', 'web']"
      ],
      "metadata": {
        "id": "8b6q86rj8KBA"
      },
      "execution_count": 180,
      "outputs": []
    },
    {
      "cell_type": "code",
      "source": [
        "numeros = [18,123]"
      ],
      "metadata": {
        "id": "r4gSMuGy8YW5"
      },
      "execution_count": 181,
      "outputs": []
    },
    {
      "cell_type": "code",
      "source": [
        "vazia =[]"
      ],
      "metadata": {
        "id": "s1X0mpyc8bWw"
      },
      "execution_count": 182,
      "outputs": []
    },
    {
      "cell_type": "code",
      "source": [
        "lista_mista=['oi', 2.0, 5*2,[10,20]]"
      ],
      "metadata": {
        "id": "sb_dSKgn8dNj"
      },
      "execution_count": 183,
      "outputs": []
    },
    {
      "cell_type": "code",
      "source": [
        "print(numeros)"
      ],
      "metadata": {
        "colab": {
          "base_uri": "https://localhost:8080/"
        },
        "id": "RLyJD85O850T",
        "outputId": "ee2393e7-39eb-440e-9043-d4d2c37e42bc"
      },
      "execution_count": 184,
      "outputs": [
        {
          "output_type": "stream",
          "name": "stdout",
          "text": [
            "[18, 123]\n"
          ]
        }
      ]
    },
    {
      "cell_type": "code",
      "source": [
        "print(lista_mista)"
      ],
      "metadata": {
        "colab": {
          "base_uri": "https://localhost:8080/"
        },
        "id": "qSAu0Nrn89Br",
        "outputId": "bf0c5898-0b1b-4561-bff8-cd7ed38d5b43"
      },
      "execution_count": 185,
      "outputs": [
        {
          "output_type": "stream",
          "name": "stdout",
          "text": [
            "['oi', 2.0, 10, [10, 20]]\n"
          ]
        }
      ]
    },
    {
      "cell_type": "code",
      "source": [
        "nova_lista= [numeros,palavras]"
      ],
      "metadata": {
        "id": "-p2UFBMa9AU6"
      },
      "execution_count": 186,
      "outputs": []
    },
    {
      "cell_type": "code",
      "source": [
        "print(nova_lista)"
      ],
      "metadata": {
        "colab": {
          "base_uri": "https://localhost:8080/"
        },
        "id": "1gC8m4hA9IYa",
        "outputId": "a8e0ca4d-44fd-46c4-924a-8b7f86aee56b"
      },
      "execution_count": 187,
      "outputs": [
        {
          "output_type": "stream",
          "name": "stdout",
          "text": [
            "[[18, 123], ['codigo', 'linguagem', 'web']]\n"
          ]
        }
      ]
    },
    {
      "cell_type": "code",
      "source": [
        "uma_lista=['oi', 2.0,5,[10,20]]"
      ],
      "metadata": {
        "id": "pJqC-JVq9Y7T"
      },
      "execution_count": 188,
      "outputs": []
    },
    {
      "cell_type": "code",
      "source": [
        "print(len(uma_lista))"
      ],
      "metadata": {
        "colab": {
          "base_uri": "https://localhost:8080/"
        },
        "id": "DCEb_8x_9uNL",
        "outputId": "744ebc96-ca85-4154-8aab-3d62d32bb38d"
      },
      "execution_count": 189,
      "outputs": [
        {
          "output_type": "stream",
          "name": "stdout",
          "text": [
            "4\n"
          ]
        }
      ]
    },
    {
      "cell_type": "code",
      "source": [
        "print(len(['spam!',1,['bolo','bolacha','biscoito'],[1,2,3]]))"
      ],
      "metadata": {
        "colab": {
          "base_uri": "https://localhost:8080/"
        },
        "id": "Gr-nfizi9xCw",
        "outputId": "c8969f06-707d-4c68-e422-19039f774660"
      },
      "execution_count": 191,
      "outputs": [
        {
          "output_type": "stream",
          "name": "stdout",
          "text": [
            "4\n"
          ]
        }
      ]
    },
    {
      "cell_type": "code",
      "source": [
        "s = 'Python'"
      ],
      "metadata": {
        "id": "-V0xzRkDFXDs"
      },
      "execution_count": 203,
      "outputs": []
    },
    {
      "cell_type": "code",
      "source": [
        "s[0]"
      ],
      "metadata": {
        "colab": {
          "base_uri": "https://localhost:8080/",
          "height": 35
        },
        "id": "JAjzcuSmFZNX",
        "outputId": "f9f8b99c-116c-4dd6-c3f9-46db53e96e61"
      },
      "execution_count": 204,
      "outputs": [
        {
          "output_type": "execute_result",
          "data": {
            "text/plain": [
              "'P'"
            ],
            "application/vnd.google.colaboratory.intrinsic+json": {
              "type": "string"
            }
          },
          "metadata": {},
          "execution_count": 204
        }
      ]
    },
    {
      "cell_type": "code",
      "source": [
        "s[1]"
      ],
      "metadata": {
        "colab": {
          "base_uri": "https://localhost:8080/",
          "height": 35
        },
        "id": "jqoqVqBkFbl3",
        "outputId": "bbb05356-d899-4b7a-b035-0305bcdb543a"
      },
      "execution_count": 205,
      "outputs": [
        {
          "output_type": "execute_result",
          "data": {
            "text/plain": [
              "'y'"
            ],
            "application/vnd.google.colaboratory.intrinsic+json": {
              "type": "string"
            }
          },
          "metadata": {},
          "execution_count": 205
        }
      ]
    },
    {
      "cell_type": "code",
      "source": [
        "s[len(s)-1]"
      ],
      "metadata": {
        "colab": {
          "base_uri": "https://localhost:8080/",
          "height": 35
        },
        "id": "flJeYLXKFsEx",
        "outputId": "14e8c6e8-be6a-446f-85c7-bff6225880e2"
      },
      "execution_count": 206,
      "outputs": [
        {
          "output_type": "execute_result",
          "data": {
            "text/plain": [
              "'n'"
            ],
            "application/vnd.google.colaboratory.intrinsic+json": {
              "type": "string"
            }
          },
          "metadata": {},
          "execution_count": 206
        }
      ]
    },
    {
      "cell_type": "code",
      "source": [
        "s[-1]"
      ],
      "metadata": {
        "colab": {
          "base_uri": "https://localhost:8080/",
          "height": 35
        },
        "id": "fwOOmdyrGHtk",
        "outputId": "5c9a2a6e-c8e9-4a9b-915c-2a72d750b771"
      },
      "execution_count": 207,
      "outputs": [
        {
          "output_type": "execute_result",
          "data": {
            "text/plain": [
              "'n'"
            ],
            "application/vnd.google.colaboratory.intrinsic+json": {
              "type": "string"
            }
          },
          "metadata": {},
          "execution_count": 207
        }
      ]
    },
    {
      "cell_type": "code",
      "source": [
        "s[-5]"
      ],
      "metadata": {
        "colab": {
          "base_uri": "https://localhost:8080/",
          "height": 35
        },
        "id": "09ZfCOfmGK01",
        "outputId": "edf5eb8d-10ce-4962-88c5-7c29c9c8f0f5"
      },
      "execution_count": 208,
      "outputs": [
        {
          "output_type": "execute_result",
          "data": {
            "text/plain": [
              "'y'"
            ],
            "application/vnd.google.colaboratory.intrinsic+json": {
              "type": "string"
            }
          },
          "metadata": {},
          "execution_count": 208
        }
      ]
    },
    {
      "cell_type": "code",
      "source": [
        "s=\"ABCDEFGG\""
      ],
      "metadata": {
        "id": "_aIE9uroHHAz"
      },
      "execution_count": 213,
      "outputs": []
    },
    {
      "cell_type": "code",
      "source": [
        "s[0:2]"
      ],
      "metadata": {
        "colab": {
          "base_uri": "https://localhost:8080/",
          "height": 35
        },
        "id": "Rw88QlddHKy3",
        "outputId": "d0a0e1ec-3d31-4103-bf4d-028d708ac648"
      },
      "execution_count": 214,
      "outputs": [
        {
          "output_type": "execute_result",
          "data": {
            "text/plain": [
              "'AB'"
            ],
            "application/vnd.google.colaboratory.intrinsic+json": {
              "type": "string"
            }
          },
          "metadata": {},
          "execution_count": 214
        }
      ]
    },
    {
      "cell_type": "code",
      "source": [
        "s[1:5:2]"
      ],
      "metadata": {
        "colab": {
          "base_uri": "https://localhost:8080/",
          "height": 35
        },
        "id": "_ibF94PwHQBn",
        "outputId": "daacb4d8-f25f-493f-97df-4b947bec22a0"
      },
      "execution_count": 215,
      "outputs": [
        {
          "output_type": "execute_result",
          "data": {
            "text/plain": [
              "'BD'"
            ],
            "application/vnd.google.colaboratory.intrinsic+json": {
              "type": "string"
            }
          },
          "metadata": {},
          "execution_count": 215
        }
      ]
    },
    {
      "cell_type": "code",
      "source": [
        "s[3:6:2]"
      ],
      "metadata": {
        "colab": {
          "base_uri": "https://localhost:8080/",
          "height": 35
        },
        "id": "TvzUN2rtHYIP",
        "outputId": "f746e487-cc09-4a50-9b0d-8f1f7b43b175"
      },
      "execution_count": 216,
      "outputs": [
        {
          "output_type": "execute_result",
          "data": {
            "text/plain": [
              "'DF'"
            ],
            "application/vnd.google.colaboratory.intrinsic+json": {
              "type": "string"
            }
          },
          "metadata": {},
          "execution_count": 216
        }
      ]
    },
    {
      "cell_type": "code",
      "source": [
        "s[:2]"
      ],
      "metadata": {
        "colab": {
          "base_uri": "https://localhost:8080/",
          "height": 35
        },
        "id": "S2aIjYIuIFED",
        "outputId": "a3baca8d-1f1f-498f-9c04-56692b17382a"
      },
      "execution_count": 217,
      "outputs": [
        {
          "output_type": "execute_result",
          "data": {
            "text/plain": [
              "'AB'"
            ],
            "application/vnd.google.colaboratory.intrinsic+json": {
              "type": "string"
            }
          },
          "metadata": {},
          "execution_count": 217
        }
      ]
    },
    {
      "cell_type": "code",
      "source": [
        "s=\"ABCDEFGG\""
      ],
      "metadata": {
        "id": "J19VJh2fIbTp"
      },
      "execution_count": null,
      "outputs": []
    },
    {
      "cell_type": "code",
      "source": [
        "s[:2]"
      ],
      "metadata": {
        "colab": {
          "base_uri": "https://localhost:8080/",
          "height": 35
        },
        "id": "JQW3YTweI2WL",
        "outputId": "e163a45e-d401-47a7-b70a-594342fcd46c"
      },
      "execution_count": 222,
      "outputs": [
        {
          "output_type": "execute_result",
          "data": {
            "text/plain": [
              "'AB'"
            ],
            "application/vnd.google.colaboratory.intrinsic+json": {
              "type": "string"
            }
          },
          "metadata": {},
          "execution_count": 222
        }
      ]
    },
    {
      "cell_type": "code",
      "source": [
        "s[3:]"
      ],
      "metadata": {
        "colab": {
          "base_uri": "https://localhost:8080/",
          "height": 35
        },
        "id": "XLmXO_kvIQTU",
        "outputId": "f1db4df4-4f62-425e-a5e6-d32b0a80436b"
      },
      "execution_count": 218,
      "outputs": [
        {
          "output_type": "execute_result",
          "data": {
            "text/plain": [
              "'DEFGG'"
            ],
            "application/vnd.google.colaboratory.intrinsic+json": {
              "type": "string"
            }
          },
          "metadata": {},
          "execution_count": 218
        }
      ]
    },
    {
      "cell_type": "code",
      "source": [
        "s[3::2]"
      ],
      "metadata": {
        "colab": {
          "base_uri": "https://localhost:8080/",
          "height": 35
        },
        "id": "XkgCucfFIS_0",
        "outputId": "fac595a5-4767-4253-a1ff-62b9c8b64589"
      },
      "execution_count": 219,
      "outputs": [
        {
          "output_type": "execute_result",
          "data": {
            "text/plain": [
              "'DFG'"
            ],
            "application/vnd.google.colaboratory.intrinsic+json": {
              "type": "string"
            }
          },
          "metadata": {},
          "execution_count": 219
        }
      ]
    },
    {
      "cell_type": "code",
      "source": [
        "s[::]"
      ],
      "metadata": {
        "colab": {
          "base_uri": "https://localhost:8080/",
          "height": 35
        },
        "id": "DUR7XS76IVmJ",
        "outputId": "62efecd5-fca7-47c6-9294-23e8fb78be07"
      },
      "execution_count": 220,
      "outputs": [
        {
          "output_type": "execute_result",
          "data": {
            "text/plain": [
              "'ABCDEFGG'"
            ],
            "application/vnd.google.colaboratory.intrinsic+json": {
              "type": "string"
            }
          },
          "metadata": {},
          "execution_count": 220
        }
      ]
    },
    {
      "cell_type": "code",
      "source": [
        "s[::3]"
      ],
      "metadata": {
        "colab": {
          "base_uri": "https://localhost:8080/",
          "height": 35
        },
        "id": "GkmECLQkIX0a",
        "outputId": "d57b83b2-2c28-4f92-d77e-13c9b31cb3fc"
      },
      "execution_count": 221,
      "outputs": [
        {
          "output_type": "execute_result",
          "data": {
            "text/plain": [
              "'ADG'"
            ],
            "application/vnd.google.colaboratory.intrinsic+json": {
              "type": "string"
            }
          },
          "metadata": {},
          "execution_count": 221
        }
      ]
    },
    {
      "cell_type": "code",
      "source": [
        "s[2:3]"
      ],
      "metadata": {
        "colab": {
          "base_uri": "https://localhost:8080/",
          "height": 35
        },
        "id": "FLZH0s-0JcZL",
        "outputId": "e8ff993b-f1d2-4fd5-f5c6-05bc9b3aa4f2"
      },
      "execution_count": 224,
      "outputs": [
        {
          "output_type": "execute_result",
          "data": {
            "text/plain": [
              "'C'"
            ],
            "application/vnd.google.colaboratory.intrinsic+json": {
              "type": "string"
            }
          },
          "metadata": {},
          "execution_count": 224
        }
      ]
    },
    {
      "cell_type": "markdown",
      "source": [
        "s=\"ABCDEFGG\""
      ],
      "metadata": {
        "id": "0aWOhxOKLntk"
      }
    },
    {
      "cell_type": "code",
      "source": [
        "s[-1:]"
      ],
      "metadata": {
        "colab": {
          "base_uri": "https://localhost:8080/",
          "height": 35
        },
        "id": "rHsV9Zx8LivT",
        "outputId": "f44e0e91-150b-47af-ad6b-20a4b0215381"
      },
      "execution_count": 225,
      "outputs": [
        {
          "output_type": "execute_result",
          "data": {
            "text/plain": [
              "'G'"
            ],
            "application/vnd.google.colaboratory.intrinsic+json": {
              "type": "string"
            }
          },
          "metadata": {},
          "execution_count": 225
        }
      ]
    },
    {
      "cell_type": "code",
      "source": [
        "s[0:-2] #s[:-2]"
      ],
      "metadata": {
        "colab": {
          "base_uri": "https://localhost:8080/",
          "height": 35
        },
        "id": "lwPDMwPDLqBD",
        "outputId": "d5ad23dc-771b-4622-ec3e-0ca59d31b4c7"
      },
      "execution_count": 226,
      "outputs": [
        {
          "output_type": "execute_result",
          "data": {
            "text/plain": [
              "'ABCDEF'"
            ],
            "application/vnd.google.colaboratory.intrinsic+json": {
              "type": "string"
            }
          },
          "metadata": {},
          "execution_count": 226
        }
      ]
    },
    {
      "cell_type": "code",
      "source": [
        "s[-3:-1]"
      ],
      "metadata": {
        "colab": {
          "base_uri": "https://localhost:8080/",
          "height": 35
        },
        "id": "rqqNzW12L6Lb",
        "outputId": "28653e3f-a4b4-42f6-a00d-a018651e61ef"
      },
      "execution_count": 227,
      "outputs": [
        {
          "output_type": "execute_result",
          "data": {
            "text/plain": [
              "'FG'"
            ],
            "application/vnd.google.colaboratory.intrinsic+json": {
              "type": "string"
            }
          },
          "metadata": {},
          "execution_count": 227
        }
      ]
    },
    {
      "cell_type": "code",
      "source": [
        "s[-3:]"
      ],
      "metadata": {
        "colab": {
          "base_uri": "https://localhost:8080/",
          "height": 35
        },
        "id": "dkdB7o9BL-wV",
        "outputId": "2d30f262-74c3-4e7d-bb0e-33d902a3bc61"
      },
      "execution_count": 228,
      "outputs": [
        {
          "output_type": "execute_result",
          "data": {
            "text/plain": [
              "'FGG'"
            ],
            "application/vnd.google.colaboratory.intrinsic+json": {
              "type": "string"
            }
          },
          "metadata": {},
          "execution_count": 228
        }
      ]
    },
    {
      "cell_type": "code",
      "source": [
        "s[-5:6]"
      ],
      "metadata": {
        "colab": {
          "base_uri": "https://localhost:8080/",
          "height": 35
        },
        "id": "AeNG2KmpMA81",
        "outputId": "153e48a2-cc3a-41cb-ba83-6bd71e0b4e85"
      },
      "execution_count": 229,
      "outputs": [
        {
          "output_type": "execute_result",
          "data": {
            "text/plain": [
              "'DEF'"
            ],
            "application/vnd.google.colaboratory.intrinsic+json": {
              "type": "string"
            }
          },
          "metadata": {},
          "execution_count": 229
        }
      ]
    },
    {
      "cell_type": "code",
      "source": [
        "s[-1:-4:-1]"
      ],
      "metadata": {
        "colab": {
          "base_uri": "https://localhost:8080/",
          "height": 35
        },
        "id": "lwejM5OfMDlS",
        "outputId": "61be9e4c-1484-49dd-adce-697f8de40a72"
      },
      "execution_count": 230,
      "outputs": [
        {
          "output_type": "execute_result",
          "data": {
            "text/plain": [
              "'GGF'"
            ],
            "application/vnd.google.colaboratory.intrinsic+json": {
              "type": "string"
            }
          },
          "metadata": {},
          "execution_count": 230
        }
      ]
    },
    {
      "cell_type": "code",
      "source": [
        "linguagem_preferida = \"Python\""
      ],
      "metadata": {
        "id": "DJlCcMqRNyUb"
      },
      "execution_count": 231,
      "outputs": []
    },
    {
      "cell_type": "code",
      "source": [
        "\"P\" in linguagem_preferida"
      ],
      "metadata": {
        "colab": {
          "base_uri": "https://localhost:8080/"
        },
        "id": "Pw-CMz8gN4sH",
        "outputId": "73d19d66-faf7-4672-ee3c-14b803b24264"
      },
      "execution_count": 232,
      "outputs": [
        {
          "output_type": "execute_result",
          "data": {
            "text/plain": [
              "True"
            ]
          },
          "metadata": {},
          "execution_count": 232
        }
      ]
    },
    {
      "cell_type": "code",
      "source": [
        "\"p\" in linguagem_preferida"
      ],
      "metadata": {
        "colab": {
          "base_uri": "https://localhost:8080/"
        },
        "id": "pSRU8Ir8N83I",
        "outputId": "ce4c056c-9ea1-4bd7-fd37-3113ed7130af"
      },
      "execution_count": 233,
      "outputs": [
        {
          "output_type": "execute_result",
          "data": {
            "text/plain": [
              "False"
            ]
          },
          "metadata": {},
          "execution_count": 233
        }
      ]
    },
    {
      "cell_type": "code",
      "source": [
        "'n' in linguagem_preferida"
      ],
      "metadata": {
        "colab": {
          "base_uri": "https://localhost:8080/"
        },
        "id": "l_L9CpoSOBa9",
        "outputId": "8d8cc0ba-a428-4892-d765-96e846cffbb7"
      },
      "execution_count": 234,
      "outputs": [
        {
          "output_type": "execute_result",
          "data": {
            "text/plain": [
              "True"
            ]
          },
          "metadata": {},
          "execution_count": 234
        }
      ]
    },
    {
      "cell_type": "code",
      "source": [
        "linguagem_preferida in linguagem_preferida"
      ],
      "metadata": {
        "colab": {
          "base_uri": "https://localhost:8080/"
        },
        "id": "mg2mhrHWOFId",
        "outputId": "41596835-d5f2-4e1c-9be7-0252a4e2d97d"
      },
      "execution_count": 237,
      "outputs": [
        {
          "output_type": "execute_result",
          "data": {
            "text/plain": [
              "True"
            ]
          },
          "metadata": {},
          "execution_count": 237
        }
      ]
    },
    {
      "cell_type": "code",
      "source": [
        "\"python\".upper()"
      ],
      "metadata": {
        "colab": {
          "base_uri": "https://localhost:8080/",
          "height": 35
        },
        "id": "OkiAnB0fOnZT",
        "outputId": "7e39be0c-e316-4cb8-fa6d-f8109662f889"
      },
      "execution_count": 238,
      "outputs": [
        {
          "output_type": "execute_result",
          "data": {
            "text/plain": [
              "'PYTHON'"
            ],
            "application/vnd.google.colaboratory.intrinsic+json": {
              "type": "string"
            }
          },
          "metadata": {},
          "execution_count": 238
        }
      ]
    },
    {
      "cell_type": "code",
      "source": [
        "verdade = \"python é legal\""
      ],
      "metadata": {
        "id": "rpIEo-JkO37s"
      },
      "execution_count": 239,
      "outputs": []
    },
    {
      "cell_type": "code",
      "source": [
        "\"python\".title()"
      ],
      "metadata": {
        "colab": {
          "base_uri": "https://localhost:8080/",
          "height": 35
        },
        "id": "G_dwxLhrO90L",
        "outputId": "fd351d90-e069-447b-b25b-6230e9a2234d"
      },
      "execution_count": 240,
      "outputs": [
        {
          "output_type": "execute_result",
          "data": {
            "text/plain": [
              "'Python'"
            ],
            "application/vnd.google.colaboratory.intrinsic+json": {
              "type": "string"
            }
          },
          "metadata": {},
          "execution_count": 240
        }
      ]
    },
    {
      "cell_type": "code",
      "source": [
        "verdade.split()"
      ],
      "metadata": {
        "colab": {
          "base_uri": "https://localhost:8080/"
        },
        "id": "Ohv6ckbNP8md",
        "outputId": "e725a3d2-ae02-4425-83f7-f20876132a60"
      },
      "execution_count": 249,
      "outputs": [
        {
          "output_type": "execute_result",
          "data": {
            "text/plain": [
              "['python', 'é', 'legal']"
            ]
          },
          "metadata": {},
          "execution_count": 249
        }
      ]
    },
    {
      "cell_type": "code",
      "source": [
        "\" \".join(verdade.split())"
      ],
      "metadata": {
        "colab": {
          "base_uri": "https://localhost:8080/",
          "height": 35
        },
        "id": "0y7ZokpJPCUX",
        "outputId": "a6ab8973-156e-450c-88b4-e3fecd4f6207"
      },
      "execution_count": 251,
      "outputs": [
        {
          "output_type": "execute_result",
          "data": {
            "text/plain": [
              "'python é legal'"
            ],
            "application/vnd.google.colaboratory.intrinsic+json": {
              "type": "string"
            }
          },
          "metadata": {},
          "execution_count": 251
        }
      ]
    },
    {
      "cell_type": "code",
      "source": [
        "\"python é legal\".split()"
      ],
      "metadata": {
        "colab": {
          "base_uri": "https://localhost:8080/"
        },
        "id": "e5vDksU5PQdT",
        "outputId": "c0f467ee-f581-4b45-bffd-420ab8d4378b"
      },
      "execution_count": 252,
      "outputs": [
        {
          "output_type": "execute_result",
          "data": {
            "text/plain": [
              "['python', 'é', 'legal']"
            ]
          },
          "metadata": {},
          "execution_count": 252
        }
      ]
    },
    {
      "cell_type": "code",
      "source": [
        "linguagem_preferida='Python'"
      ],
      "metadata": {
        "id": "3GehXr5VQIKD"
      },
      "execution_count": 253,
      "outputs": []
    },
    {
      "cell_type": "code",
      "source": [
        "print(\"Eu amo %s\" %(linguagem_preferida))"
      ],
      "metadata": {
        "colab": {
          "base_uri": "https://localhost:8080/"
        },
        "id": "5tg3G5z9QOvl",
        "outputId": "f4a857a8-2a97-4c56-d481-1e0e7e31a75a"
      },
      "execution_count": 254,
      "outputs": [
        {
          "output_type": "stream",
          "name": "stdout",
          "text": [
            "Eu amo Python\n"
          ]
        }
      ]
    },
    {
      "cell_type": "code",
      "source": [
        "print(\"Eu tenho %d anos\" %(19))"
      ],
      "metadata": {
        "colab": {
          "base_uri": "https://localhost:8080/"
        },
        "id": "Ih9i1eBjQYJS",
        "outputId": "3ec5c6a3-8df7-49ae-df88-43efdcad5967"
      },
      "execution_count": 255,
      "outputs": [
        {
          "output_type": "stream",
          "name": "stdout",
          "text": [
            "Eu tenho 19 anos\n"
          ]
        }
      ]
    },
    {
      "cell_type": "code",
      "source": [
        "print(\"Eu tenho %02d anos de idade\" %(9))"
      ],
      "metadata": {
        "colab": {
          "base_uri": "https://localhost:8080/"
        },
        "id": "6kP0CqvJQo8Y",
        "outputId": "c324ade0-3218-4f24-edd5-a359b931c8eb"
      },
      "execution_count": 256,
      "outputs": [
        {
          "output_type": "stream",
          "name": "stdout",
          "text": [
            "Eu tenho 09 anos de idade\n"
          ]
        }
      ]
    },
    {
      "cell_type": "code",
      "source": [
        "print(\"Eu tenho %03d anos de idade e %2.5f na poupança\" %(19,100))"
      ],
      "metadata": {
        "colab": {
          "base_uri": "https://localhost:8080/"
        },
        "id": "z3KWmj5QQ1Cb",
        "outputId": "5bacb90f-09f4-48f5-9c65-352b6dc1e69b"
      },
      "execution_count": 265,
      "outputs": [
        {
          "output_type": "stream",
          "name": "stdout",
          "text": [
            "Eu tenho 019 anos de idade e 100.00000 na poupança\n"
          ]
        }
      ]
    },
    {
      "cell_type": "markdown",
      "source": [
        "#Desafio: Nome ao contrário em maiusculas\n",
        "Faça um programa que permite ao usuario digitar o nome"
      ],
      "metadata": {
        "id": "c5_kbr9ISZqn"
      }
    },
    {
      "cell_type": "code",
      "source": [
        "nome = input().upper()\n",
        "print(nome)\n",
        "nome[::-1]"
      ],
      "metadata": {
        "colab": {
          "base_uri": "https://localhost:8080/",
          "height": 70
        },
        "id": "T5NpX63JSoa8",
        "outputId": "9fcd6bf4-2410-4e6e-ebf0-070e16289a64"
      },
      "execution_count": 284,
      "outputs": [
        {
          "output_type": "stream",
          "name": "stdout",
          "text": [
            "Maria Inês\n",
            "MARIA INÊS\n"
          ]
        },
        {
          "output_type": "execute_result",
          "data": {
            "text/plain": [
              "'SÊNI AIRAM'"
            ],
            "application/vnd.google.colaboratory.intrinsic+json": {
              "type": "string"
            }
          },
          "metadata": {},
          "execution_count": 284
        }
      ]
    }
  ]
}