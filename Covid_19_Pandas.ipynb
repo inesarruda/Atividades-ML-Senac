{
  "nbformat": 4,
  "nbformat_minor": 0,
  "metadata": {
    "colab": {
      "provenance": [],
      "authorship_tag": "ABX9TyPh0V7bVi5DiOhJ7x1isDq9",
      "include_colab_link": true
    },
    "kernelspec": {
      "name": "python3",
      "display_name": "Python 3"
    },
    "language_info": {
      "name": "python"
    }
  },
  "cells": [
    {
      "cell_type": "markdown",
      "metadata": {
        "id": "view-in-github",
        "colab_type": "text"
      },
      "source": [
        "<a href=\"https://colab.research.google.com/github/inesarruda/Atividades-ML-Senac/blob/main/Covid_19_Pandas.ipynb\" target=\"_parent\"><img src=\"https://colab.research.google.com/assets/colab-badge.svg\" alt=\"Open In Colab\"/></a>"
      ]
    },
    {
      "cell_type": "markdown",
      "source": [
        "**Análise dos dados de Recife sobre a Covid 19**"
      ],
      "metadata": {
        "id": "tppQCM62O7vb"
      }
    },
    {
      "cell_type": "code",
      "execution_count": null,
      "metadata": {
        "id": "_lKDWdhiO2_z"
      },
      "outputs": [],
      "source": [
        "#importando as Bibliotecas\n",
        "import pandas as pd\n",
        "import numpy as np\n",
        "import matplotlib.pyplot as plt"
      ]
    },
    {
      "cell_type": "markdown",
      "source": [
        "##Obtendo os dados: \n",
        "Ao rodarmos a célula abaixo vamos obter os dados diretamente do site:\n",
        "\n",
        "http://dados.recife.pe.gov.br/tl/dataset/relacao-de-pessoas-vacinadas-covid-19/resource/966e9c4c-df45-40d7-9c58-2f13c61a6d28 \n"
      ],
      "metadata": {
        "id": "A1L5GvTdPL34"
      }
    },
    {
      "cell_type": "code",
      "source": [
        "df1 = pd.read_csv('http://dados.recife.pe.gov.br/dataset/2b5ee58d-9535-4d80-ab32-f63fd475346e/resource/93f4e8c2-430f-4142-86b3-96dab4905b4e/download/casosgravescovid.csv', sep=\";\")"
      ],
      "metadata": {
        "id": "DhEJS96CPO8b"
      },
      "execution_count": null,
      "outputs": []
    },
    {
      "cell_type": "markdown",
      "source": [
        "Utilize os comandos aprendidos em aula para os dados carregados, começando, preferencialmente, por:\n",
        "- head()\n",
        "- head(1-2)\n",
        "- tail()\n",
        "- info()\n",
        "- describe()\n",
        "- seguindo com outros aprendidos para manipulação de tratamento dos dados."
      ],
      "metadata": {
        "id": "ox6tRrFuPXUR"
      }
    },
    {
      "cell_type": "code",
      "source": [
        "df1.head()"
      ],
      "metadata": {
        "colab": {
          "base_uri": "https://localhost:8080/",
          "height": 478
        },
        "id": "DpMkiiiNPTrB",
        "outputId": "a7b2634c-3c89-4399-9f1d-bb6ac190b898"
      },
      "execution_count": null,
      "outputs": [
        {
          "output_type": "execute_result",
          "data": {
            "text/plain": [
              "  data_notificacao       sexo    raca etnia idade municipio_residencia  \\\n",
              "0       2020-05-30  Masculino  Branca   NaN    53               Recife   \n",
              "1       2020-06-02   Feminino   Parda   NaN     0               Recife   \n",
              "2       2020-06-02   Feminino   Parda   NaN    86               Recife   \n",
              "3       2020-06-01  Masculino  Branca   NaN    66               Recife   \n",
              "4       2020-06-02  Masculino   Preta   NaN    68               Recife   \n",
              "\n",
              "                 bairro distrito_sanitario data_inicio_sintomas  \\\n",
              "0            SAN MARTIN                  V           2020-05-25   \n",
              "1  ALTO SANTA TEREZINHA                 II           2020-05-30   \n",
              "2            ESPINHEIRO                III           2020-06-01   \n",
              "3            CASA FORTE                III           2020-05-25   \n",
              "4        ILHA DO RETIRO                 IV           2020-05-30   \n",
              "\n",
              "                                            sintomas outros_sintomas  \\\n",
              "0  Febre, Tosse, Mialgia, Alteração/perda de olfa...             NaN   \n",
              "1          Febre, Tosse, Dispneia, Saturação O2 < 95             NaN   \n",
              "2                        Dispneia, Saturação O2 < 95             NaN   \n",
              "3                                                NaN             NaN   \n",
              "4                 Tosse, Dispneia, Saturação O2 < 95             NaN   \n",
              "\n",
              "  doencas_preexistentes outras_doencas_preexistentes  profissional_saude  \\\n",
              "0                   NaN                           NaN                NaN   \n",
              "1                   NaN                           NaN                NaN   \n",
              "2                   NaN                           NaN                NaN   \n",
              "3                   NaN                           NaN                NaN   \n",
              "4                   NaN                           NaN                NaN   \n",
              "\n",
              "  categoria_profissional classificacao_final                       evolucao  \\\n",
              "0                    NaN          DESCARTADO          ISOLAMENTO DOMICILIAR   \n",
              "1                    NaN        INCONCLUSIVO          ISOLAMENTO DOMICILIAR   \n",
              "2                    NaN          DESCARTADO  INTERNADO LEITO DE ISOLAMENTO   \n",
              "3                    NaN          CONFIRMADO                     RECUPERADO   \n",
              "4                    NaN          DESCARTADO  INTERNADO LEITO DE ISOLAMENTO   \n",
              "\n",
              "  data_obito  \n",
              "0        NaN  \n",
              "1        NaN  \n",
              "2        NaN  \n",
              "3        NaN  \n",
              "4        NaN  "
            ],
            "text/html": [
              "\n",
              "  <div id=\"df-08054dbe-55f1-4f41-8513-02e58185b2a0\">\n",
              "    <div class=\"colab-df-container\">\n",
              "      <div>\n",
              "<style scoped>\n",
              "    .dataframe tbody tr th:only-of-type {\n",
              "        vertical-align: middle;\n",
              "    }\n",
              "\n",
              "    .dataframe tbody tr th {\n",
              "        vertical-align: top;\n",
              "    }\n",
              "\n",
              "    .dataframe thead th {\n",
              "        text-align: right;\n",
              "    }\n",
              "</style>\n",
              "<table border=\"1\" class=\"dataframe\">\n",
              "  <thead>\n",
              "    <tr style=\"text-align: right;\">\n",
              "      <th></th>\n",
              "      <th>data_notificacao</th>\n",
              "      <th>sexo</th>\n",
              "      <th>raca</th>\n",
              "      <th>etnia</th>\n",
              "      <th>idade</th>\n",
              "      <th>municipio_residencia</th>\n",
              "      <th>bairro</th>\n",
              "      <th>distrito_sanitario</th>\n",
              "      <th>data_inicio_sintomas</th>\n",
              "      <th>sintomas</th>\n",
              "      <th>outros_sintomas</th>\n",
              "      <th>doencas_preexistentes</th>\n",
              "      <th>outras_doencas_preexistentes</th>\n",
              "      <th>profissional_saude</th>\n",
              "      <th>categoria_profissional</th>\n",
              "      <th>classificacao_final</th>\n",
              "      <th>evolucao</th>\n",
              "      <th>data_obito</th>\n",
              "    </tr>\n",
              "  </thead>\n",
              "  <tbody>\n",
              "    <tr>\n",
              "      <th>0</th>\n",
              "      <td>2020-05-30</td>\n",
              "      <td>Masculino</td>\n",
              "      <td>Branca</td>\n",
              "      <td>NaN</td>\n",
              "      <td>53</td>\n",
              "      <td>Recife</td>\n",
              "      <td>SAN MARTIN</td>\n",
              "      <td>V</td>\n",
              "      <td>2020-05-25</td>\n",
              "      <td>Febre, Tosse, Mialgia, Alteração/perda de olfa...</td>\n",
              "      <td>NaN</td>\n",
              "      <td>NaN</td>\n",
              "      <td>NaN</td>\n",
              "      <td>NaN</td>\n",
              "      <td>NaN</td>\n",
              "      <td>DESCARTADO</td>\n",
              "      <td>ISOLAMENTO DOMICILIAR</td>\n",
              "      <td>NaN</td>\n",
              "    </tr>\n",
              "    <tr>\n",
              "      <th>1</th>\n",
              "      <td>2020-06-02</td>\n",
              "      <td>Feminino</td>\n",
              "      <td>Parda</td>\n",
              "      <td>NaN</td>\n",
              "      <td>0</td>\n",
              "      <td>Recife</td>\n",
              "      <td>ALTO SANTA TEREZINHA</td>\n",
              "      <td>II</td>\n",
              "      <td>2020-05-30</td>\n",
              "      <td>Febre, Tosse, Dispneia, Saturação O2 &lt; 95</td>\n",
              "      <td>NaN</td>\n",
              "      <td>NaN</td>\n",
              "      <td>NaN</td>\n",
              "      <td>NaN</td>\n",
              "      <td>NaN</td>\n",
              "      <td>INCONCLUSIVO</td>\n",
              "      <td>ISOLAMENTO DOMICILIAR</td>\n",
              "      <td>NaN</td>\n",
              "    </tr>\n",
              "    <tr>\n",
              "      <th>2</th>\n",
              "      <td>2020-06-02</td>\n",
              "      <td>Feminino</td>\n",
              "      <td>Parda</td>\n",
              "      <td>NaN</td>\n",
              "      <td>86</td>\n",
              "      <td>Recife</td>\n",
              "      <td>ESPINHEIRO</td>\n",
              "      <td>III</td>\n",
              "      <td>2020-06-01</td>\n",
              "      <td>Dispneia, Saturação O2 &lt; 95</td>\n",
              "      <td>NaN</td>\n",
              "      <td>NaN</td>\n",
              "      <td>NaN</td>\n",
              "      <td>NaN</td>\n",
              "      <td>NaN</td>\n",
              "      <td>DESCARTADO</td>\n",
              "      <td>INTERNADO LEITO DE ISOLAMENTO</td>\n",
              "      <td>NaN</td>\n",
              "    </tr>\n",
              "    <tr>\n",
              "      <th>3</th>\n",
              "      <td>2020-06-01</td>\n",
              "      <td>Masculino</td>\n",
              "      <td>Branca</td>\n",
              "      <td>NaN</td>\n",
              "      <td>66</td>\n",
              "      <td>Recife</td>\n",
              "      <td>CASA FORTE</td>\n",
              "      <td>III</td>\n",
              "      <td>2020-05-25</td>\n",
              "      <td>NaN</td>\n",
              "      <td>NaN</td>\n",
              "      <td>NaN</td>\n",
              "      <td>NaN</td>\n",
              "      <td>NaN</td>\n",
              "      <td>NaN</td>\n",
              "      <td>CONFIRMADO</td>\n",
              "      <td>RECUPERADO</td>\n",
              "      <td>NaN</td>\n",
              "    </tr>\n",
              "    <tr>\n",
              "      <th>4</th>\n",
              "      <td>2020-06-02</td>\n",
              "      <td>Masculino</td>\n",
              "      <td>Preta</td>\n",
              "      <td>NaN</td>\n",
              "      <td>68</td>\n",
              "      <td>Recife</td>\n",
              "      <td>ILHA DO RETIRO</td>\n",
              "      <td>IV</td>\n",
              "      <td>2020-05-30</td>\n",
              "      <td>Tosse, Dispneia, Saturação O2 &lt; 95</td>\n",
              "      <td>NaN</td>\n",
              "      <td>NaN</td>\n",
              "      <td>NaN</td>\n",
              "      <td>NaN</td>\n",
              "      <td>NaN</td>\n",
              "      <td>DESCARTADO</td>\n",
              "      <td>INTERNADO LEITO DE ISOLAMENTO</td>\n",
              "      <td>NaN</td>\n",
              "    </tr>\n",
              "  </tbody>\n",
              "</table>\n",
              "</div>\n",
              "      <button class=\"colab-df-convert\" onclick=\"convertToInteractive('df-08054dbe-55f1-4f41-8513-02e58185b2a0')\"\n",
              "              title=\"Convert this dataframe to an interactive table.\"\n",
              "              style=\"display:none;\">\n",
              "        \n",
              "  <svg xmlns=\"http://www.w3.org/2000/svg\" height=\"24px\"viewBox=\"0 0 24 24\"\n",
              "       width=\"24px\">\n",
              "    <path d=\"M0 0h24v24H0V0z\" fill=\"none\"/>\n",
              "    <path d=\"M18.56 5.44l.94 2.06.94-2.06 2.06-.94-2.06-.94-.94-2.06-.94 2.06-2.06.94zm-11 1L8.5 8.5l.94-2.06 2.06-.94-2.06-.94L8.5 2.5l-.94 2.06-2.06.94zm10 10l.94 2.06.94-2.06 2.06-.94-2.06-.94-.94-2.06-.94 2.06-2.06.94z\"/><path d=\"M17.41 7.96l-1.37-1.37c-.4-.4-.92-.59-1.43-.59-.52 0-1.04.2-1.43.59L10.3 9.45l-7.72 7.72c-.78.78-.78 2.05 0 2.83L4 21.41c.39.39.9.59 1.41.59.51 0 1.02-.2 1.41-.59l7.78-7.78 2.81-2.81c.8-.78.8-2.07 0-2.86zM5.41 20L4 18.59l7.72-7.72 1.47 1.35L5.41 20z\"/>\n",
              "  </svg>\n",
              "      </button>\n",
              "      \n",
              "  <style>\n",
              "    .colab-df-container {\n",
              "      display:flex;\n",
              "      flex-wrap:wrap;\n",
              "      gap: 12px;\n",
              "    }\n",
              "\n",
              "    .colab-df-convert {\n",
              "      background-color: #E8F0FE;\n",
              "      border: none;\n",
              "      border-radius: 50%;\n",
              "      cursor: pointer;\n",
              "      display: none;\n",
              "      fill: #1967D2;\n",
              "      height: 32px;\n",
              "      padding: 0 0 0 0;\n",
              "      width: 32px;\n",
              "    }\n",
              "\n",
              "    .colab-df-convert:hover {\n",
              "      background-color: #E2EBFA;\n",
              "      box-shadow: 0px 1px 2px rgba(60, 64, 67, 0.3), 0px 1px 3px 1px rgba(60, 64, 67, 0.15);\n",
              "      fill: #174EA6;\n",
              "    }\n",
              "\n",
              "    [theme=dark] .colab-df-convert {\n",
              "      background-color: #3B4455;\n",
              "      fill: #D2E3FC;\n",
              "    }\n",
              "\n",
              "    [theme=dark] .colab-df-convert:hover {\n",
              "      background-color: #434B5C;\n",
              "      box-shadow: 0px 1px 3px 1px rgba(0, 0, 0, 0.15);\n",
              "      filter: drop-shadow(0px 1px 2px rgba(0, 0, 0, 0.3));\n",
              "      fill: #FFFFFF;\n",
              "    }\n",
              "  </style>\n",
              "\n",
              "      <script>\n",
              "        const buttonEl =\n",
              "          document.querySelector('#df-08054dbe-55f1-4f41-8513-02e58185b2a0 button.colab-df-convert');\n",
              "        buttonEl.style.display =\n",
              "          google.colab.kernel.accessAllowed ? 'block' : 'none';\n",
              "\n",
              "        async function convertToInteractive(key) {\n",
              "          const element = document.querySelector('#df-08054dbe-55f1-4f41-8513-02e58185b2a0');\n",
              "          const dataTable =\n",
              "            await google.colab.kernel.invokeFunction('convertToInteractive',\n",
              "                                                     [key], {});\n",
              "          if (!dataTable) return;\n",
              "\n",
              "          const docLinkHtml = 'Like what you see? Visit the ' +\n",
              "            '<a target=\"_blank\" href=https://colab.research.google.com/notebooks/data_table.ipynb>data table notebook</a>'\n",
              "            + ' to learn more about interactive tables.';\n",
              "          element.innerHTML = '';\n",
              "          dataTable['output_type'] = 'display_data';\n",
              "          await google.colab.output.renderOutput(dataTable, element);\n",
              "          const docLink = document.createElement('div');\n",
              "          docLink.innerHTML = docLinkHtml;\n",
              "          element.appendChild(docLink);\n",
              "        }\n",
              "      </script>\n",
              "    </div>\n",
              "  </div>\n",
              "  "
            ]
          },
          "metadata": {},
          "execution_count": 3
        }
      ]
    },
    {
      "cell_type": "code",
      "source": [
        "df1.head(1-2)"
      ],
      "metadata": {
        "colab": {
          "base_uri": "https://localhost:8080/",
          "height": 870
        },
        "id": "SD6NZPw8PdtR",
        "outputId": "4bf68ad3-87e4-4adc-c91e-23561b510a61"
      },
      "execution_count": null,
      "outputs": [
        {
          "output_type": "execute_result",
          "data": {
            "text/plain": [
              "      data_notificacao       sexo      raca etnia idade municipio_residencia  \\\n",
              "0           2020-05-30  Masculino    Branca   NaN    53               Recife   \n",
              "1           2020-06-02   Feminino     Parda   NaN     0               Recife   \n",
              "2           2020-06-02   Feminino     Parda   NaN    86               Recife   \n",
              "3           2020-06-01  Masculino    Branca   NaN    66               Recife   \n",
              "4           2020-06-02  Masculino     Preta   NaN    68               Recife   \n",
              "...                ...        ...       ...   ...   ...                  ...   \n",
              "36429       2022-06-08  Masculino    Branca   NaN     1               Recife   \n",
              "36430       2022-06-08  Masculino  Ignorado   NaN    77               Recife   \n",
              "36431       2022-06-09  Masculino     Parda   NaN    74               Recife   \n",
              "36432       2022-06-10  Masculino     Parda   NaN    74               Recife   \n",
              "36433       2022-06-12   Feminino   Amarela   NaN    73               Recife   \n",
              "\n",
              "                     bairro distrito_sanitario data_inicio_sintomas  \\\n",
              "0                SAN MARTIN                  V           2020-05-25   \n",
              "1      ALTO SANTA TEREZINHA                 II           2020-05-30   \n",
              "2                ESPINHEIRO                III           2020-06-01   \n",
              "3                CASA FORTE                III           2020-05-25   \n",
              "4            ILHA DO RETIRO                 IV           2020-05-30   \n",
              "...                     ...                ...                  ...   \n",
              "36429             GUABIRABA                VII           2022-06-05   \n",
              "36430    BREJO DA GUABIRABA                VII           2022-06-06   \n",
              "36431       NOVA DESCOBERTA                VII           2022-06-06   \n",
              "36432              BEBERIBE                 II           2022-06-03   \n",
              "36433       ENGENHO DO MEIO                 IV           2022-06-11   \n",
              "\n",
              "                                                sintomas outros_sintomas  \\\n",
              "0      Febre, Tosse, Mialgia, Alteração/perda de olfa...             NaN   \n",
              "1              Febre, Tosse, Dispneia, Saturação O2 < 95             NaN   \n",
              "2                            Dispneia, Saturação O2 < 95             NaN   \n",
              "3                                                    NaN             NaN   \n",
              "4                     Tosse, Dispneia, Saturação O2 < 95             NaN   \n",
              "...                                                  ...             ...   \n",
              "36429                             Febre, Tosse, Dispneia             NaN   \n",
              "36430                                           Dispneia             NaN   \n",
              "36431  Tosse, Cansaço/fadiga, Desconforto respiratóri...             NaN   \n",
              "36432                             Febre, Tosse, Dispneia             NaN   \n",
              "36433  Dispneia, Desconforto respiratório / aperto to...             NaN   \n",
              "\n",
              "                           doencas_preexistentes  \\\n",
              "0                                            NaN   \n",
              "1                                            NaN   \n",
              "2                                            NaN   \n",
              "3                                            NaN   \n",
              "4                                            NaN   \n",
              "...                                          ...   \n",
              "36429                                        NaN   \n",
              "36430                                        NaN   \n",
              "36431                                        NaN   \n",
              "36432                                   Diabetes   \n",
              "36433  Doenças Cardíacas ou Vasculares, Diabetes   \n",
              "\n",
              "      outras_doencas_preexistentes  profissional_saude categoria_profissional  \\\n",
              "0                               NaN                NaN                    NaN   \n",
              "1                               NaN                NaN                    NaN   \n",
              "2                               NaN                NaN                    NaN   \n",
              "3                               NaN                NaN                    NaN   \n",
              "4                               NaN                NaN                    NaN   \n",
              "...                             ...                ...                    ...   \n",
              "36429                           NaN                NÃO                    NaN   \n",
              "36430                           HAS                NÃO                    NaN   \n",
              "36431                           NaN                NÃO                    NaN   \n",
              "36432                           NaN                NÃO                    NaN   \n",
              "36433                           AVC                NÃO                    NaN   \n",
              "\n",
              "      classificacao_final                       evolucao data_obito  \n",
              "0              DESCARTADO          ISOLAMENTO DOMICILIAR        NaN  \n",
              "1            INCONCLUSIVO          ISOLAMENTO DOMICILIAR        NaN  \n",
              "2              DESCARTADO  INTERNADO LEITO DE ISOLAMENTO        NaN  \n",
              "3              CONFIRMADO                     RECUPERADO        NaN  \n",
              "4              DESCARTADO  INTERNADO LEITO DE ISOLAMENTO        NaN  \n",
              "...                   ...                            ...        ...  \n",
              "36429          EM ANÁLISE  INTERNADO LEITO DE ISOLAMENTO        NaN  \n",
              "36430          EM ANÁLISE                  INTERNADO UTI        NaN  \n",
              "36431          EM ANÁLISE  INTERNADO LEITO DE ISOLAMENTO        NaN  \n",
              "36432          EM ANÁLISE  INTERNADO LEITO DE ISOLAMENTO        NaN  \n",
              "36433          EM ANÁLISE                  INTERNADO UTI        NaN  \n",
              "\n",
              "[36434 rows x 18 columns]"
            ],
            "text/html": [
              "\n",
              "  <div id=\"df-c4f6951c-ef2e-4cc7-93fc-7904f3383ebd\">\n",
              "    <div class=\"colab-df-container\">\n",
              "      <div>\n",
              "<style scoped>\n",
              "    .dataframe tbody tr th:only-of-type {\n",
              "        vertical-align: middle;\n",
              "    }\n",
              "\n",
              "    .dataframe tbody tr th {\n",
              "        vertical-align: top;\n",
              "    }\n",
              "\n",
              "    .dataframe thead th {\n",
              "        text-align: right;\n",
              "    }\n",
              "</style>\n",
              "<table border=\"1\" class=\"dataframe\">\n",
              "  <thead>\n",
              "    <tr style=\"text-align: right;\">\n",
              "      <th></th>\n",
              "      <th>data_notificacao</th>\n",
              "      <th>sexo</th>\n",
              "      <th>raca</th>\n",
              "      <th>etnia</th>\n",
              "      <th>idade</th>\n",
              "      <th>municipio_residencia</th>\n",
              "      <th>bairro</th>\n",
              "      <th>distrito_sanitario</th>\n",
              "      <th>data_inicio_sintomas</th>\n",
              "      <th>sintomas</th>\n",
              "      <th>outros_sintomas</th>\n",
              "      <th>doencas_preexistentes</th>\n",
              "      <th>outras_doencas_preexistentes</th>\n",
              "      <th>profissional_saude</th>\n",
              "      <th>categoria_profissional</th>\n",
              "      <th>classificacao_final</th>\n",
              "      <th>evolucao</th>\n",
              "      <th>data_obito</th>\n",
              "    </tr>\n",
              "  </thead>\n",
              "  <tbody>\n",
              "    <tr>\n",
              "      <th>0</th>\n",
              "      <td>2020-05-30</td>\n",
              "      <td>Masculino</td>\n",
              "      <td>Branca</td>\n",
              "      <td>NaN</td>\n",
              "      <td>53</td>\n",
              "      <td>Recife</td>\n",
              "      <td>SAN MARTIN</td>\n",
              "      <td>V</td>\n",
              "      <td>2020-05-25</td>\n",
              "      <td>Febre, Tosse, Mialgia, Alteração/perda de olfa...</td>\n",
              "      <td>NaN</td>\n",
              "      <td>NaN</td>\n",
              "      <td>NaN</td>\n",
              "      <td>NaN</td>\n",
              "      <td>NaN</td>\n",
              "      <td>DESCARTADO</td>\n",
              "      <td>ISOLAMENTO DOMICILIAR</td>\n",
              "      <td>NaN</td>\n",
              "    </tr>\n",
              "    <tr>\n",
              "      <th>1</th>\n",
              "      <td>2020-06-02</td>\n",
              "      <td>Feminino</td>\n",
              "      <td>Parda</td>\n",
              "      <td>NaN</td>\n",
              "      <td>0</td>\n",
              "      <td>Recife</td>\n",
              "      <td>ALTO SANTA TEREZINHA</td>\n",
              "      <td>II</td>\n",
              "      <td>2020-05-30</td>\n",
              "      <td>Febre, Tosse, Dispneia, Saturação O2 &lt; 95</td>\n",
              "      <td>NaN</td>\n",
              "      <td>NaN</td>\n",
              "      <td>NaN</td>\n",
              "      <td>NaN</td>\n",
              "      <td>NaN</td>\n",
              "      <td>INCONCLUSIVO</td>\n",
              "      <td>ISOLAMENTO DOMICILIAR</td>\n",
              "      <td>NaN</td>\n",
              "    </tr>\n",
              "    <tr>\n",
              "      <th>2</th>\n",
              "      <td>2020-06-02</td>\n",
              "      <td>Feminino</td>\n",
              "      <td>Parda</td>\n",
              "      <td>NaN</td>\n",
              "      <td>86</td>\n",
              "      <td>Recife</td>\n",
              "      <td>ESPINHEIRO</td>\n",
              "      <td>III</td>\n",
              "      <td>2020-06-01</td>\n",
              "      <td>Dispneia, Saturação O2 &lt; 95</td>\n",
              "      <td>NaN</td>\n",
              "      <td>NaN</td>\n",
              "      <td>NaN</td>\n",
              "      <td>NaN</td>\n",
              "      <td>NaN</td>\n",
              "      <td>DESCARTADO</td>\n",
              "      <td>INTERNADO LEITO DE ISOLAMENTO</td>\n",
              "      <td>NaN</td>\n",
              "    </tr>\n",
              "    <tr>\n",
              "      <th>3</th>\n",
              "      <td>2020-06-01</td>\n",
              "      <td>Masculino</td>\n",
              "      <td>Branca</td>\n",
              "      <td>NaN</td>\n",
              "      <td>66</td>\n",
              "      <td>Recife</td>\n",
              "      <td>CASA FORTE</td>\n",
              "      <td>III</td>\n",
              "      <td>2020-05-25</td>\n",
              "      <td>NaN</td>\n",
              "      <td>NaN</td>\n",
              "      <td>NaN</td>\n",
              "      <td>NaN</td>\n",
              "      <td>NaN</td>\n",
              "      <td>NaN</td>\n",
              "      <td>CONFIRMADO</td>\n",
              "      <td>RECUPERADO</td>\n",
              "      <td>NaN</td>\n",
              "    </tr>\n",
              "    <tr>\n",
              "      <th>4</th>\n",
              "      <td>2020-06-02</td>\n",
              "      <td>Masculino</td>\n",
              "      <td>Preta</td>\n",
              "      <td>NaN</td>\n",
              "      <td>68</td>\n",
              "      <td>Recife</td>\n",
              "      <td>ILHA DO RETIRO</td>\n",
              "      <td>IV</td>\n",
              "      <td>2020-05-30</td>\n",
              "      <td>Tosse, Dispneia, Saturação O2 &lt; 95</td>\n",
              "      <td>NaN</td>\n",
              "      <td>NaN</td>\n",
              "      <td>NaN</td>\n",
              "      <td>NaN</td>\n",
              "      <td>NaN</td>\n",
              "      <td>DESCARTADO</td>\n",
              "      <td>INTERNADO LEITO DE ISOLAMENTO</td>\n",
              "      <td>NaN</td>\n",
              "    </tr>\n",
              "    <tr>\n",
              "      <th>...</th>\n",
              "      <td>...</td>\n",
              "      <td>...</td>\n",
              "      <td>...</td>\n",
              "      <td>...</td>\n",
              "      <td>...</td>\n",
              "      <td>...</td>\n",
              "      <td>...</td>\n",
              "      <td>...</td>\n",
              "      <td>...</td>\n",
              "      <td>...</td>\n",
              "      <td>...</td>\n",
              "      <td>...</td>\n",
              "      <td>...</td>\n",
              "      <td>...</td>\n",
              "      <td>...</td>\n",
              "      <td>...</td>\n",
              "      <td>...</td>\n",
              "      <td>...</td>\n",
              "    </tr>\n",
              "    <tr>\n",
              "      <th>36429</th>\n",
              "      <td>2022-06-08</td>\n",
              "      <td>Masculino</td>\n",
              "      <td>Branca</td>\n",
              "      <td>NaN</td>\n",
              "      <td>1</td>\n",
              "      <td>Recife</td>\n",
              "      <td>GUABIRABA</td>\n",
              "      <td>VII</td>\n",
              "      <td>2022-06-05</td>\n",
              "      <td>Febre, Tosse, Dispneia</td>\n",
              "      <td>NaN</td>\n",
              "      <td>NaN</td>\n",
              "      <td>NaN</td>\n",
              "      <td>NÃO</td>\n",
              "      <td>NaN</td>\n",
              "      <td>EM ANÁLISE</td>\n",
              "      <td>INTERNADO LEITO DE ISOLAMENTO</td>\n",
              "      <td>NaN</td>\n",
              "    </tr>\n",
              "    <tr>\n",
              "      <th>36430</th>\n",
              "      <td>2022-06-08</td>\n",
              "      <td>Masculino</td>\n",
              "      <td>Ignorado</td>\n",
              "      <td>NaN</td>\n",
              "      <td>77</td>\n",
              "      <td>Recife</td>\n",
              "      <td>BREJO DA GUABIRABA</td>\n",
              "      <td>VII</td>\n",
              "      <td>2022-06-06</td>\n",
              "      <td>Dispneia</td>\n",
              "      <td>NaN</td>\n",
              "      <td>NaN</td>\n",
              "      <td>HAS</td>\n",
              "      <td>NÃO</td>\n",
              "      <td>NaN</td>\n",
              "      <td>EM ANÁLISE</td>\n",
              "      <td>INTERNADO UTI</td>\n",
              "      <td>NaN</td>\n",
              "    </tr>\n",
              "    <tr>\n",
              "      <th>36431</th>\n",
              "      <td>2022-06-09</td>\n",
              "      <td>Masculino</td>\n",
              "      <td>Parda</td>\n",
              "      <td>NaN</td>\n",
              "      <td>74</td>\n",
              "      <td>Recife</td>\n",
              "      <td>NOVA DESCOBERTA</td>\n",
              "      <td>VII</td>\n",
              "      <td>2022-06-06</td>\n",
              "      <td>Tosse, Cansaço/fadiga, Desconforto respiratóri...</td>\n",
              "      <td>NaN</td>\n",
              "      <td>NaN</td>\n",
              "      <td>NaN</td>\n",
              "      <td>NÃO</td>\n",
              "      <td>NaN</td>\n",
              "      <td>EM ANÁLISE</td>\n",
              "      <td>INTERNADO LEITO DE ISOLAMENTO</td>\n",
              "      <td>NaN</td>\n",
              "    </tr>\n",
              "    <tr>\n",
              "      <th>36432</th>\n",
              "      <td>2022-06-10</td>\n",
              "      <td>Masculino</td>\n",
              "      <td>Parda</td>\n",
              "      <td>NaN</td>\n",
              "      <td>74</td>\n",
              "      <td>Recife</td>\n",
              "      <td>BEBERIBE</td>\n",
              "      <td>II</td>\n",
              "      <td>2022-06-03</td>\n",
              "      <td>Febre, Tosse, Dispneia</td>\n",
              "      <td>NaN</td>\n",
              "      <td>Diabetes</td>\n",
              "      <td>NaN</td>\n",
              "      <td>NÃO</td>\n",
              "      <td>NaN</td>\n",
              "      <td>EM ANÁLISE</td>\n",
              "      <td>INTERNADO LEITO DE ISOLAMENTO</td>\n",
              "      <td>NaN</td>\n",
              "    </tr>\n",
              "    <tr>\n",
              "      <th>36433</th>\n",
              "      <td>2022-06-12</td>\n",
              "      <td>Feminino</td>\n",
              "      <td>Amarela</td>\n",
              "      <td>NaN</td>\n",
              "      <td>73</td>\n",
              "      <td>Recife</td>\n",
              "      <td>ENGENHO DO MEIO</td>\n",
              "      <td>IV</td>\n",
              "      <td>2022-06-11</td>\n",
              "      <td>Dispneia, Desconforto respiratório / aperto to...</td>\n",
              "      <td>NaN</td>\n",
              "      <td>Doenças Cardíacas ou Vasculares, Diabetes</td>\n",
              "      <td>AVC</td>\n",
              "      <td>NÃO</td>\n",
              "      <td>NaN</td>\n",
              "      <td>EM ANÁLISE</td>\n",
              "      <td>INTERNADO UTI</td>\n",
              "      <td>NaN</td>\n",
              "    </tr>\n",
              "  </tbody>\n",
              "</table>\n",
              "<p>36434 rows × 18 columns</p>\n",
              "</div>\n",
              "      <button class=\"colab-df-convert\" onclick=\"convertToInteractive('df-c4f6951c-ef2e-4cc7-93fc-7904f3383ebd')\"\n",
              "              title=\"Convert this dataframe to an interactive table.\"\n",
              "              style=\"display:none;\">\n",
              "        \n",
              "  <svg xmlns=\"http://www.w3.org/2000/svg\" height=\"24px\"viewBox=\"0 0 24 24\"\n",
              "       width=\"24px\">\n",
              "    <path d=\"M0 0h24v24H0V0z\" fill=\"none\"/>\n",
              "    <path d=\"M18.56 5.44l.94 2.06.94-2.06 2.06-.94-2.06-.94-.94-2.06-.94 2.06-2.06.94zm-11 1L8.5 8.5l.94-2.06 2.06-.94-2.06-.94L8.5 2.5l-.94 2.06-2.06.94zm10 10l.94 2.06.94-2.06 2.06-.94-2.06-.94-.94-2.06-.94 2.06-2.06.94z\"/><path d=\"M17.41 7.96l-1.37-1.37c-.4-.4-.92-.59-1.43-.59-.52 0-1.04.2-1.43.59L10.3 9.45l-7.72 7.72c-.78.78-.78 2.05 0 2.83L4 21.41c.39.39.9.59 1.41.59.51 0 1.02-.2 1.41-.59l7.78-7.78 2.81-2.81c.8-.78.8-2.07 0-2.86zM5.41 20L4 18.59l7.72-7.72 1.47 1.35L5.41 20z\"/>\n",
              "  </svg>\n",
              "      </button>\n",
              "      \n",
              "  <style>\n",
              "    .colab-df-container {\n",
              "      display:flex;\n",
              "      flex-wrap:wrap;\n",
              "      gap: 12px;\n",
              "    }\n",
              "\n",
              "    .colab-df-convert {\n",
              "      background-color: #E8F0FE;\n",
              "      border: none;\n",
              "      border-radius: 50%;\n",
              "      cursor: pointer;\n",
              "      display: none;\n",
              "      fill: #1967D2;\n",
              "      height: 32px;\n",
              "      padding: 0 0 0 0;\n",
              "      width: 32px;\n",
              "    }\n",
              "\n",
              "    .colab-df-convert:hover {\n",
              "      background-color: #E2EBFA;\n",
              "      box-shadow: 0px 1px 2px rgba(60, 64, 67, 0.3), 0px 1px 3px 1px rgba(60, 64, 67, 0.15);\n",
              "      fill: #174EA6;\n",
              "    }\n",
              "\n",
              "    [theme=dark] .colab-df-convert {\n",
              "      background-color: #3B4455;\n",
              "      fill: #D2E3FC;\n",
              "    }\n",
              "\n",
              "    [theme=dark] .colab-df-convert:hover {\n",
              "      background-color: #434B5C;\n",
              "      box-shadow: 0px 1px 3px 1px rgba(0, 0, 0, 0.15);\n",
              "      filter: drop-shadow(0px 1px 2px rgba(0, 0, 0, 0.3));\n",
              "      fill: #FFFFFF;\n",
              "    }\n",
              "  </style>\n",
              "\n",
              "      <script>\n",
              "        const buttonEl =\n",
              "          document.querySelector('#df-c4f6951c-ef2e-4cc7-93fc-7904f3383ebd button.colab-df-convert');\n",
              "        buttonEl.style.display =\n",
              "          google.colab.kernel.accessAllowed ? 'block' : 'none';\n",
              "\n",
              "        async function convertToInteractive(key) {\n",
              "          const element = document.querySelector('#df-c4f6951c-ef2e-4cc7-93fc-7904f3383ebd');\n",
              "          const dataTable =\n",
              "            await google.colab.kernel.invokeFunction('convertToInteractive',\n",
              "                                                     [key], {});\n",
              "          if (!dataTable) return;\n",
              "\n",
              "          const docLinkHtml = 'Like what you see? Visit the ' +\n",
              "            '<a target=\"_blank\" href=https://colab.research.google.com/notebooks/data_table.ipynb>data table notebook</a>'\n",
              "            + ' to learn more about interactive tables.';\n",
              "          element.innerHTML = '';\n",
              "          dataTable['output_type'] = 'display_data';\n",
              "          await google.colab.output.renderOutput(dataTable, element);\n",
              "          const docLink = document.createElement('div');\n",
              "          docLink.innerHTML = docLinkHtml;\n",
              "          element.appendChild(docLink);\n",
              "        }\n",
              "      </script>\n",
              "    </div>\n",
              "  </div>\n",
              "  "
            ]
          },
          "metadata": {},
          "execution_count": 4
        }
      ]
    },
    {
      "cell_type": "code",
      "source": [
        "df1.tail()"
      ],
      "metadata": {
        "colab": {
          "base_uri": "https://localhost:8080/",
          "height": 496
        },
        "id": "4-5FK2D9Pf4f",
        "outputId": "6e1ae9b2-511c-4909-9dde-8190cc6a18ad"
      },
      "execution_count": null,
      "outputs": [
        {
          "output_type": "execute_result",
          "data": {
            "text/plain": [
              "      data_notificacao       sexo      raca etnia idade municipio_residencia  \\\n",
              "36430       2022-06-08  Masculino  Ignorado   NaN    77               Recife   \n",
              "36431       2022-06-09  Masculino     Parda   NaN    74               Recife   \n",
              "36432       2022-06-10  Masculino     Parda   NaN    74               Recife   \n",
              "36433       2022-06-12   Feminino   Amarela   NaN    73               Recife   \n",
              "36434       2022-06-12   Feminino     Parda   NaN    66               Recife   \n",
              "\n",
              "                   bairro distrito_sanitario data_inicio_sintomas  \\\n",
              "36430  BREJO DA GUABIRABA                VII           2022-06-06   \n",
              "36431     NOVA DESCOBERTA                VII           2022-06-06   \n",
              "36432            BEBERIBE                 II           2022-06-03   \n",
              "36433     ENGENHO DO MEIO                 IV           2022-06-11   \n",
              "36434          BOA VIAGEM                 VI           2022-06-07   \n",
              "\n",
              "                                                sintomas outros_sintomas  \\\n",
              "36430                                           Dispneia             NaN   \n",
              "36431  Tosse, Cansaço/fadiga, Desconforto respiratóri...             NaN   \n",
              "36432                             Febre, Tosse, Dispneia             NaN   \n",
              "36433  Dispneia, Desconforto respiratório / aperto to...             NaN   \n",
              "36434  Tosse, Dispneia, Desconforto respiratório / ap...             RNC   \n",
              "\n",
              "                           doencas_preexistentes  \\\n",
              "36430                                        NaN   \n",
              "36431                                        NaN   \n",
              "36432                                   Diabetes   \n",
              "36433  Doenças Cardíacas ou Vasculares, Diabetes   \n",
              "36434                                        NaN   \n",
              "\n",
              "      outras_doencas_preexistentes  profissional_saude categoria_profissional  \\\n",
              "36430                           HAS                NÃO                    NaN   \n",
              "36431                           NaN                NÃO                    NaN   \n",
              "36432                           NaN                NÃO                    NaN   \n",
              "36433                           AVC                NÃO                    NaN   \n",
              "36434                          AVCH                NÃO                    NaN   \n",
              "\n",
              "      classificacao_final                       evolucao data_obito  \n",
              "36430          EM ANÁLISE                  INTERNADO UTI        NaN  \n",
              "36431          EM ANÁLISE  INTERNADO LEITO DE ISOLAMENTO        NaN  \n",
              "36432          EM ANÁLISE  INTERNADO LEITO DE ISOLAMENTO        NaN  \n",
              "36433          EM ANÁLISE                  INTERNADO UTI        NaN  \n",
              "36434          EM ANÁLISE                  INTERNADO UTI        NaN  "
            ],
            "text/html": [
              "\n",
              "  <div id=\"df-a0ce3ff7-1031-484e-aa68-d53eae6864df\">\n",
              "    <div class=\"colab-df-container\">\n",
              "      <div>\n",
              "<style scoped>\n",
              "    .dataframe tbody tr th:only-of-type {\n",
              "        vertical-align: middle;\n",
              "    }\n",
              "\n",
              "    .dataframe tbody tr th {\n",
              "        vertical-align: top;\n",
              "    }\n",
              "\n",
              "    .dataframe thead th {\n",
              "        text-align: right;\n",
              "    }\n",
              "</style>\n",
              "<table border=\"1\" class=\"dataframe\">\n",
              "  <thead>\n",
              "    <tr style=\"text-align: right;\">\n",
              "      <th></th>\n",
              "      <th>data_notificacao</th>\n",
              "      <th>sexo</th>\n",
              "      <th>raca</th>\n",
              "      <th>etnia</th>\n",
              "      <th>idade</th>\n",
              "      <th>municipio_residencia</th>\n",
              "      <th>bairro</th>\n",
              "      <th>distrito_sanitario</th>\n",
              "      <th>data_inicio_sintomas</th>\n",
              "      <th>sintomas</th>\n",
              "      <th>outros_sintomas</th>\n",
              "      <th>doencas_preexistentes</th>\n",
              "      <th>outras_doencas_preexistentes</th>\n",
              "      <th>profissional_saude</th>\n",
              "      <th>categoria_profissional</th>\n",
              "      <th>classificacao_final</th>\n",
              "      <th>evolucao</th>\n",
              "      <th>data_obito</th>\n",
              "    </tr>\n",
              "  </thead>\n",
              "  <tbody>\n",
              "    <tr>\n",
              "      <th>36430</th>\n",
              "      <td>2022-06-08</td>\n",
              "      <td>Masculino</td>\n",
              "      <td>Ignorado</td>\n",
              "      <td>NaN</td>\n",
              "      <td>77</td>\n",
              "      <td>Recife</td>\n",
              "      <td>BREJO DA GUABIRABA</td>\n",
              "      <td>VII</td>\n",
              "      <td>2022-06-06</td>\n",
              "      <td>Dispneia</td>\n",
              "      <td>NaN</td>\n",
              "      <td>NaN</td>\n",
              "      <td>HAS</td>\n",
              "      <td>NÃO</td>\n",
              "      <td>NaN</td>\n",
              "      <td>EM ANÁLISE</td>\n",
              "      <td>INTERNADO UTI</td>\n",
              "      <td>NaN</td>\n",
              "    </tr>\n",
              "    <tr>\n",
              "      <th>36431</th>\n",
              "      <td>2022-06-09</td>\n",
              "      <td>Masculino</td>\n",
              "      <td>Parda</td>\n",
              "      <td>NaN</td>\n",
              "      <td>74</td>\n",
              "      <td>Recife</td>\n",
              "      <td>NOVA DESCOBERTA</td>\n",
              "      <td>VII</td>\n",
              "      <td>2022-06-06</td>\n",
              "      <td>Tosse, Cansaço/fadiga, Desconforto respiratóri...</td>\n",
              "      <td>NaN</td>\n",
              "      <td>NaN</td>\n",
              "      <td>NaN</td>\n",
              "      <td>NÃO</td>\n",
              "      <td>NaN</td>\n",
              "      <td>EM ANÁLISE</td>\n",
              "      <td>INTERNADO LEITO DE ISOLAMENTO</td>\n",
              "      <td>NaN</td>\n",
              "    </tr>\n",
              "    <tr>\n",
              "      <th>36432</th>\n",
              "      <td>2022-06-10</td>\n",
              "      <td>Masculino</td>\n",
              "      <td>Parda</td>\n",
              "      <td>NaN</td>\n",
              "      <td>74</td>\n",
              "      <td>Recife</td>\n",
              "      <td>BEBERIBE</td>\n",
              "      <td>II</td>\n",
              "      <td>2022-06-03</td>\n",
              "      <td>Febre, Tosse, Dispneia</td>\n",
              "      <td>NaN</td>\n",
              "      <td>Diabetes</td>\n",
              "      <td>NaN</td>\n",
              "      <td>NÃO</td>\n",
              "      <td>NaN</td>\n",
              "      <td>EM ANÁLISE</td>\n",
              "      <td>INTERNADO LEITO DE ISOLAMENTO</td>\n",
              "      <td>NaN</td>\n",
              "    </tr>\n",
              "    <tr>\n",
              "      <th>36433</th>\n",
              "      <td>2022-06-12</td>\n",
              "      <td>Feminino</td>\n",
              "      <td>Amarela</td>\n",
              "      <td>NaN</td>\n",
              "      <td>73</td>\n",
              "      <td>Recife</td>\n",
              "      <td>ENGENHO DO MEIO</td>\n",
              "      <td>IV</td>\n",
              "      <td>2022-06-11</td>\n",
              "      <td>Dispneia, Desconforto respiratório / aperto to...</td>\n",
              "      <td>NaN</td>\n",
              "      <td>Doenças Cardíacas ou Vasculares, Diabetes</td>\n",
              "      <td>AVC</td>\n",
              "      <td>NÃO</td>\n",
              "      <td>NaN</td>\n",
              "      <td>EM ANÁLISE</td>\n",
              "      <td>INTERNADO UTI</td>\n",
              "      <td>NaN</td>\n",
              "    </tr>\n",
              "    <tr>\n",
              "      <th>36434</th>\n",
              "      <td>2022-06-12</td>\n",
              "      <td>Feminino</td>\n",
              "      <td>Parda</td>\n",
              "      <td>NaN</td>\n",
              "      <td>66</td>\n",
              "      <td>Recife</td>\n",
              "      <td>BOA VIAGEM</td>\n",
              "      <td>VI</td>\n",
              "      <td>2022-06-07</td>\n",
              "      <td>Tosse, Dispneia, Desconforto respiratório / ap...</td>\n",
              "      <td>RNC</td>\n",
              "      <td>NaN</td>\n",
              "      <td>AVCH</td>\n",
              "      <td>NÃO</td>\n",
              "      <td>NaN</td>\n",
              "      <td>EM ANÁLISE</td>\n",
              "      <td>INTERNADO UTI</td>\n",
              "      <td>NaN</td>\n",
              "    </tr>\n",
              "  </tbody>\n",
              "</table>\n",
              "</div>\n",
              "      <button class=\"colab-df-convert\" onclick=\"convertToInteractive('df-a0ce3ff7-1031-484e-aa68-d53eae6864df')\"\n",
              "              title=\"Convert this dataframe to an interactive table.\"\n",
              "              style=\"display:none;\">\n",
              "        \n",
              "  <svg xmlns=\"http://www.w3.org/2000/svg\" height=\"24px\"viewBox=\"0 0 24 24\"\n",
              "       width=\"24px\">\n",
              "    <path d=\"M0 0h24v24H0V0z\" fill=\"none\"/>\n",
              "    <path d=\"M18.56 5.44l.94 2.06.94-2.06 2.06-.94-2.06-.94-.94-2.06-.94 2.06-2.06.94zm-11 1L8.5 8.5l.94-2.06 2.06-.94-2.06-.94L8.5 2.5l-.94 2.06-2.06.94zm10 10l.94 2.06.94-2.06 2.06-.94-2.06-.94-.94-2.06-.94 2.06-2.06.94z\"/><path d=\"M17.41 7.96l-1.37-1.37c-.4-.4-.92-.59-1.43-.59-.52 0-1.04.2-1.43.59L10.3 9.45l-7.72 7.72c-.78.78-.78 2.05 0 2.83L4 21.41c.39.39.9.59 1.41.59.51 0 1.02-.2 1.41-.59l7.78-7.78 2.81-2.81c.8-.78.8-2.07 0-2.86zM5.41 20L4 18.59l7.72-7.72 1.47 1.35L5.41 20z\"/>\n",
              "  </svg>\n",
              "      </button>\n",
              "      \n",
              "  <style>\n",
              "    .colab-df-container {\n",
              "      display:flex;\n",
              "      flex-wrap:wrap;\n",
              "      gap: 12px;\n",
              "    }\n",
              "\n",
              "    .colab-df-convert {\n",
              "      background-color: #E8F0FE;\n",
              "      border: none;\n",
              "      border-radius: 50%;\n",
              "      cursor: pointer;\n",
              "      display: none;\n",
              "      fill: #1967D2;\n",
              "      height: 32px;\n",
              "      padding: 0 0 0 0;\n",
              "      width: 32px;\n",
              "    }\n",
              "\n",
              "    .colab-df-convert:hover {\n",
              "      background-color: #E2EBFA;\n",
              "      box-shadow: 0px 1px 2px rgba(60, 64, 67, 0.3), 0px 1px 3px 1px rgba(60, 64, 67, 0.15);\n",
              "      fill: #174EA6;\n",
              "    }\n",
              "\n",
              "    [theme=dark] .colab-df-convert {\n",
              "      background-color: #3B4455;\n",
              "      fill: #D2E3FC;\n",
              "    }\n",
              "\n",
              "    [theme=dark] .colab-df-convert:hover {\n",
              "      background-color: #434B5C;\n",
              "      box-shadow: 0px 1px 3px 1px rgba(0, 0, 0, 0.15);\n",
              "      filter: drop-shadow(0px 1px 2px rgba(0, 0, 0, 0.3));\n",
              "      fill: #FFFFFF;\n",
              "    }\n",
              "  </style>\n",
              "\n",
              "      <script>\n",
              "        const buttonEl =\n",
              "          document.querySelector('#df-a0ce3ff7-1031-484e-aa68-d53eae6864df button.colab-df-convert');\n",
              "        buttonEl.style.display =\n",
              "          google.colab.kernel.accessAllowed ? 'block' : 'none';\n",
              "\n",
              "        async function convertToInteractive(key) {\n",
              "          const element = document.querySelector('#df-a0ce3ff7-1031-484e-aa68-d53eae6864df');\n",
              "          const dataTable =\n",
              "            await google.colab.kernel.invokeFunction('convertToInteractive',\n",
              "                                                     [key], {});\n",
              "          if (!dataTable) return;\n",
              "\n",
              "          const docLinkHtml = 'Like what you see? Visit the ' +\n",
              "            '<a target=\"_blank\" href=https://colab.research.google.com/notebooks/data_table.ipynb>data table notebook</a>'\n",
              "            + ' to learn more about interactive tables.';\n",
              "          element.innerHTML = '';\n",
              "          dataTable['output_type'] = 'display_data';\n",
              "          await google.colab.output.renderOutput(dataTable, element);\n",
              "          const docLink = document.createElement('div');\n",
              "          docLink.innerHTML = docLinkHtml;\n",
              "          element.appendChild(docLink);\n",
              "        }\n",
              "      </script>\n",
              "    </div>\n",
              "  </div>\n",
              "  "
            ]
          },
          "metadata": {},
          "execution_count": 5
        }
      ]
    },
    {
      "cell_type": "code",
      "source": [
        "#Verificando o tamanho da base de dados (linhas e colunas)\n",
        "df1.shape"
      ],
      "metadata": {
        "colab": {
          "base_uri": "https://localhost:8080/"
        },
        "id": "SL5WDEN7PhkT",
        "outputId": "50bd79bf-91f2-4e68-fce6-c3d4008becdf"
      },
      "execution_count": null,
      "outputs": [
        {
          "output_type": "execute_result",
          "data": {
            "text/plain": [
              "(36435, 18)"
            ]
          },
          "metadata": {},
          "execution_count": 6
        }
      ]
    },
    {
      "cell_type": "code",
      "source": [
        "#Verificando os tipos dos daodos\n",
        "df1.dtypes"
      ],
      "metadata": {
        "colab": {
          "base_uri": "https://localhost:8080/"
        },
        "id": "6BnDrrguPv0x",
        "outputId": "b7e6330e-b2fc-4400-f780-6061c8497ce4"
      },
      "execution_count": null,
      "outputs": [
        {
          "output_type": "execute_result",
          "data": {
            "text/plain": [
              "data_notificacao                 object\n",
              "sexo                             object\n",
              "raca                             object\n",
              "etnia                            object\n",
              "idade                            object\n",
              "municipio_residencia             object\n",
              "bairro                           object\n",
              "distrito_sanitario               object\n",
              "data_inicio_sintomas             object\n",
              "sintomas                         object\n",
              "outros_sintomas                  object\n",
              "doencas_preexistentes            object\n",
              "outras_doencas_preexistentes     object\n",
              "profissional_saude               object\n",
              "categoria_profissional           object\n",
              "classificacao_final              object\n",
              "evolucao                         object\n",
              "data_obito                       object\n",
              "dtype: object"
            ]
          },
          "metadata": {},
          "execution_count": 7
        }
      ]
    },
    {
      "cell_type": "markdown",
      "source": [
        "**Vamos começar transfomrmando as colunas \"data_inicio_sintomas\" e \"data_obito\" para o tipo 'datetime'**"
      ],
      "metadata": {
        "id": "03yLuhgMPsci"
      }
    },
    {
      "cell_type": "code",
      "source": [
        "#Transformando a coluna \"data_inicio_sintomas\" no tipo datetime\n",
        "df1[\"data_inicio_sintomas\"] = pd.to_datetime(df1[\"data_inicio_sintomas\"])\n",
        "df1.head()"
      ],
      "metadata": {
        "id": "doPbnBHhPnUp"
      },
      "execution_count": null,
      "outputs": []
    },
    {
      "cell_type": "code",
      "source": [
        "#Transformando a coluna \"data_obito\" no tipo datetime\n",
        "df1[\"data_obito\"] = pd.to_datetime(df1[\"data_obito\"])\n",
        "df1.head()"
      ],
      "metadata": {
        "id": "bZJkiUTpQIon"
      },
      "execution_count": null,
      "outputs": []
    },
    {
      "cell_type": "code",
      "source": [
        "#Verificando se funcionou\n",
        "df1.dtypes"
      ],
      "metadata": {
        "id": "GhmUyIAGQVNO"
      },
      "execution_count": null,
      "outputs": []
    },
    {
      "cell_type": "code",
      "source": [
        "#Criando uma coluna com os anos dos casos\n",
        "df1[\"ano_caso\"] = df1[\"data_inicio_sintomas\"].dt.year\n",
        "#df1.dtypes\n",
        "df1.head()"
      ],
      "metadata": {
        "id": "HYoaLU6hQYlK"
      },
      "execution_count": null,
      "outputs": []
    },
    {
      "cell_type": "code",
      "source": [
        "#Criando uma coluna com os meses dos casos\n",
        "df1[\"mes_caso\"] = df1[\"data_inicio_sintomas\"].dt.month\n",
        "df1.head(1-2)"
      ],
      "metadata": {
        "id": "4xW8KAL9Qlt-"
      },
      "execution_count": null,
      "outputs": []
    },
    {
      "cell_type": "code",
      "source": [
        "#Selecionando apenas os casos de 2020\n",
        "df1_2020 = df1[df1[\"ano_caso\"] == 2020]"
      ],
      "metadata": {
        "id": "H9M-JcCDQrwW"
      },
      "execution_count": null,
      "outputs": []
    },
    {
      "cell_type": "code",
      "source": [
        "#Selecionando apenas os casos de 2021\n",
        "df1_2021 = df1[df1[\"ano_caso\"] == 2021]"
      ],
      "metadata": {
        "id": "Ig0Y1CmgQscN"
      },
      "execution_count": null,
      "outputs": []
    },
    {
      "cell_type": "code",
      "source": [
        "#Selecionando apenas os casos de 2022\n",
        "df1_2022 = df1[df1[\"ano_caso\"] == 2022]"
      ],
      "metadata": {
        "id": "o6WoJYqDUAgZ"
      },
      "execution_count": null,
      "outputs": []
    },
    {
      "cell_type": "code",
      "source": [
        "df1.head(3)"
      ],
      "metadata": {
        "id": "-4ewfcpqUq-X"
      },
      "execution_count": null,
      "outputs": []
    },
    {
      "cell_type": "code",
      "source": [
        "#Criando uma coluna de Óbitos\n",
        "# df1[\"obitos_2020\"] = (df1[\"ano_caso\"].dt.year == 2020) & (df1[\"evolucao\"] == 'ÓBITO')\n",
        "df1[\"obitos\"] = df1[\"evolucao\"] == 'ÓBITO'\n",
        "df1.head()"
      ],
      "metadata": {
        "colab": {
          "base_uri": "https://localhost:8080/",
          "height": 508
        },
        "id": "0ung1X4-VLgM",
        "outputId": "19f7425d-eab0-4723-860c-e46f83106f4a"
      },
      "execution_count": null,
      "outputs": [
        {
          "output_type": "execute_result",
          "data": {
            "text/plain": [
              "  data_notificacao       sexo    raca etnia idade municipio_residencia  \\\n",
              "0       2020-05-30  Masculino  Branca   NaN    53               Recife   \n",
              "1       2020-06-02   Feminino   Parda   NaN     0               Recife   \n",
              "2       2020-06-02   Feminino   Parda   NaN    86               Recife   \n",
              "3       2020-06-01  Masculino  Branca   NaN    66               Recife   \n",
              "4       2020-06-02  Masculino   Preta   NaN    68               Recife   \n",
              "\n",
              "                 bairro distrito_sanitario data_inicio_sintomas  \\\n",
              "0            SAN MARTIN                  V           2020-05-25   \n",
              "1  ALTO SANTA TEREZINHA                 II           2020-05-30   \n",
              "2            ESPINHEIRO                III           2020-06-01   \n",
              "3            CASA FORTE                III           2020-05-25   \n",
              "4        ILHA DO RETIRO                 IV           2020-05-30   \n",
              "\n",
              "                                            sintomas  ...  \\\n",
              "0  Febre, Tosse, Mialgia, Alteração/perda de olfa...  ...   \n",
              "1          Febre, Tosse, Dispneia, Saturação O2 < 95  ...   \n",
              "2                        Dispneia, Saturação O2 < 95  ...   \n",
              "3                                                NaN  ...   \n",
              "4                 Tosse, Dispneia, Saturação O2 < 95  ...   \n",
              "\n",
              "  doencas_preexistentes outras_doencas_preexistentes  profissional_saude  \\\n",
              "0                   NaN                           NaN                NaN   \n",
              "1                   NaN                           NaN                NaN   \n",
              "2                   NaN                           NaN                NaN   \n",
              "3                   NaN                           NaN                NaN   \n",
              "4                   NaN                           NaN                NaN   \n",
              "\n",
              "  categoria_profissional classificacao_final                       evolucao  \\\n",
              "0                    NaN          DESCARTADO          ISOLAMENTO DOMICILIAR   \n",
              "1                    NaN        INCONCLUSIVO          ISOLAMENTO DOMICILIAR   \n",
              "2                    NaN          DESCARTADO  INTERNADO LEITO DE ISOLAMENTO   \n",
              "3                    NaN          CONFIRMADO                     RECUPERADO   \n",
              "4                    NaN          DESCARTADO  INTERNADO LEITO DE ISOLAMENTO   \n",
              "\n",
              "  data_obito ano_caso  mes_caso  obitos  \n",
              "0        NaT     2020         5   False  \n",
              "1        NaT     2020         5   False  \n",
              "2        NaT     2020         6   False  \n",
              "3        NaT     2020         5   False  \n",
              "4        NaT     2020         5   False  \n",
              "\n",
              "[5 rows x 21 columns]"
            ],
            "text/html": [
              "\n",
              "  <div id=\"df-664154bf-2f8c-4f86-a256-e59e9ce3035a\">\n",
              "    <div class=\"colab-df-container\">\n",
              "      <div>\n",
              "<style scoped>\n",
              "    .dataframe tbody tr th:only-of-type {\n",
              "        vertical-align: middle;\n",
              "    }\n",
              "\n",
              "    .dataframe tbody tr th {\n",
              "        vertical-align: top;\n",
              "    }\n",
              "\n",
              "    .dataframe thead th {\n",
              "        text-align: right;\n",
              "    }\n",
              "</style>\n",
              "<table border=\"1\" class=\"dataframe\">\n",
              "  <thead>\n",
              "    <tr style=\"text-align: right;\">\n",
              "      <th></th>\n",
              "      <th>data_notificacao</th>\n",
              "      <th>sexo</th>\n",
              "      <th>raca</th>\n",
              "      <th>etnia</th>\n",
              "      <th>idade</th>\n",
              "      <th>municipio_residencia</th>\n",
              "      <th>bairro</th>\n",
              "      <th>distrito_sanitario</th>\n",
              "      <th>data_inicio_sintomas</th>\n",
              "      <th>sintomas</th>\n",
              "      <th>...</th>\n",
              "      <th>doencas_preexistentes</th>\n",
              "      <th>outras_doencas_preexistentes</th>\n",
              "      <th>profissional_saude</th>\n",
              "      <th>categoria_profissional</th>\n",
              "      <th>classificacao_final</th>\n",
              "      <th>evolucao</th>\n",
              "      <th>data_obito</th>\n",
              "      <th>ano_caso</th>\n",
              "      <th>mes_caso</th>\n",
              "      <th>obitos</th>\n",
              "    </tr>\n",
              "  </thead>\n",
              "  <tbody>\n",
              "    <tr>\n",
              "      <th>0</th>\n",
              "      <td>2020-05-30</td>\n",
              "      <td>Masculino</td>\n",
              "      <td>Branca</td>\n",
              "      <td>NaN</td>\n",
              "      <td>53</td>\n",
              "      <td>Recife</td>\n",
              "      <td>SAN MARTIN</td>\n",
              "      <td>V</td>\n",
              "      <td>2020-05-25</td>\n",
              "      <td>Febre, Tosse, Mialgia, Alteração/perda de olfa...</td>\n",
              "      <td>...</td>\n",
              "      <td>NaN</td>\n",
              "      <td>NaN</td>\n",
              "      <td>NaN</td>\n",
              "      <td>NaN</td>\n",
              "      <td>DESCARTADO</td>\n",
              "      <td>ISOLAMENTO DOMICILIAR</td>\n",
              "      <td>NaT</td>\n",
              "      <td>2020</td>\n",
              "      <td>5</td>\n",
              "      <td>False</td>\n",
              "    </tr>\n",
              "    <tr>\n",
              "      <th>1</th>\n",
              "      <td>2020-06-02</td>\n",
              "      <td>Feminino</td>\n",
              "      <td>Parda</td>\n",
              "      <td>NaN</td>\n",
              "      <td>0</td>\n",
              "      <td>Recife</td>\n",
              "      <td>ALTO SANTA TEREZINHA</td>\n",
              "      <td>II</td>\n",
              "      <td>2020-05-30</td>\n",
              "      <td>Febre, Tosse, Dispneia, Saturação O2 &lt; 95</td>\n",
              "      <td>...</td>\n",
              "      <td>NaN</td>\n",
              "      <td>NaN</td>\n",
              "      <td>NaN</td>\n",
              "      <td>NaN</td>\n",
              "      <td>INCONCLUSIVO</td>\n",
              "      <td>ISOLAMENTO DOMICILIAR</td>\n",
              "      <td>NaT</td>\n",
              "      <td>2020</td>\n",
              "      <td>5</td>\n",
              "      <td>False</td>\n",
              "    </tr>\n",
              "    <tr>\n",
              "      <th>2</th>\n",
              "      <td>2020-06-02</td>\n",
              "      <td>Feminino</td>\n",
              "      <td>Parda</td>\n",
              "      <td>NaN</td>\n",
              "      <td>86</td>\n",
              "      <td>Recife</td>\n",
              "      <td>ESPINHEIRO</td>\n",
              "      <td>III</td>\n",
              "      <td>2020-06-01</td>\n",
              "      <td>Dispneia, Saturação O2 &lt; 95</td>\n",
              "      <td>...</td>\n",
              "      <td>NaN</td>\n",
              "      <td>NaN</td>\n",
              "      <td>NaN</td>\n",
              "      <td>NaN</td>\n",
              "      <td>DESCARTADO</td>\n",
              "      <td>INTERNADO LEITO DE ISOLAMENTO</td>\n",
              "      <td>NaT</td>\n",
              "      <td>2020</td>\n",
              "      <td>6</td>\n",
              "      <td>False</td>\n",
              "    </tr>\n",
              "    <tr>\n",
              "      <th>3</th>\n",
              "      <td>2020-06-01</td>\n",
              "      <td>Masculino</td>\n",
              "      <td>Branca</td>\n",
              "      <td>NaN</td>\n",
              "      <td>66</td>\n",
              "      <td>Recife</td>\n",
              "      <td>CASA FORTE</td>\n",
              "      <td>III</td>\n",
              "      <td>2020-05-25</td>\n",
              "      <td>NaN</td>\n",
              "      <td>...</td>\n",
              "      <td>NaN</td>\n",
              "      <td>NaN</td>\n",
              "      <td>NaN</td>\n",
              "      <td>NaN</td>\n",
              "      <td>CONFIRMADO</td>\n",
              "      <td>RECUPERADO</td>\n",
              "      <td>NaT</td>\n",
              "      <td>2020</td>\n",
              "      <td>5</td>\n",
              "      <td>False</td>\n",
              "    </tr>\n",
              "    <tr>\n",
              "      <th>4</th>\n",
              "      <td>2020-06-02</td>\n",
              "      <td>Masculino</td>\n",
              "      <td>Preta</td>\n",
              "      <td>NaN</td>\n",
              "      <td>68</td>\n",
              "      <td>Recife</td>\n",
              "      <td>ILHA DO RETIRO</td>\n",
              "      <td>IV</td>\n",
              "      <td>2020-05-30</td>\n",
              "      <td>Tosse, Dispneia, Saturação O2 &lt; 95</td>\n",
              "      <td>...</td>\n",
              "      <td>NaN</td>\n",
              "      <td>NaN</td>\n",
              "      <td>NaN</td>\n",
              "      <td>NaN</td>\n",
              "      <td>DESCARTADO</td>\n",
              "      <td>INTERNADO LEITO DE ISOLAMENTO</td>\n",
              "      <td>NaT</td>\n",
              "      <td>2020</td>\n",
              "      <td>5</td>\n",
              "      <td>False</td>\n",
              "    </tr>\n",
              "  </tbody>\n",
              "</table>\n",
              "<p>5 rows × 21 columns</p>\n",
              "</div>\n",
              "      <button class=\"colab-df-convert\" onclick=\"convertToInteractive('df-664154bf-2f8c-4f86-a256-e59e9ce3035a')\"\n",
              "              title=\"Convert this dataframe to an interactive table.\"\n",
              "              style=\"display:none;\">\n",
              "        \n",
              "  <svg xmlns=\"http://www.w3.org/2000/svg\" height=\"24px\"viewBox=\"0 0 24 24\"\n",
              "       width=\"24px\">\n",
              "    <path d=\"M0 0h24v24H0V0z\" fill=\"none\"/>\n",
              "    <path d=\"M18.56 5.44l.94 2.06.94-2.06 2.06-.94-2.06-.94-.94-2.06-.94 2.06-2.06.94zm-11 1L8.5 8.5l.94-2.06 2.06-.94-2.06-.94L8.5 2.5l-.94 2.06-2.06.94zm10 10l.94 2.06.94-2.06 2.06-.94-2.06-.94-.94-2.06-.94 2.06-2.06.94z\"/><path d=\"M17.41 7.96l-1.37-1.37c-.4-.4-.92-.59-1.43-.59-.52 0-1.04.2-1.43.59L10.3 9.45l-7.72 7.72c-.78.78-.78 2.05 0 2.83L4 21.41c.39.39.9.59 1.41.59.51 0 1.02-.2 1.41-.59l7.78-7.78 2.81-2.81c.8-.78.8-2.07 0-2.86zM5.41 20L4 18.59l7.72-7.72 1.47 1.35L5.41 20z\"/>\n",
              "  </svg>\n",
              "      </button>\n",
              "      \n",
              "  <style>\n",
              "    .colab-df-container {\n",
              "      display:flex;\n",
              "      flex-wrap:wrap;\n",
              "      gap: 12px;\n",
              "    }\n",
              "\n",
              "    .colab-df-convert {\n",
              "      background-color: #E8F0FE;\n",
              "      border: none;\n",
              "      border-radius: 50%;\n",
              "      cursor: pointer;\n",
              "      display: none;\n",
              "      fill: #1967D2;\n",
              "      height: 32px;\n",
              "      padding: 0 0 0 0;\n",
              "      width: 32px;\n",
              "    }\n",
              "\n",
              "    .colab-df-convert:hover {\n",
              "      background-color: #E2EBFA;\n",
              "      box-shadow: 0px 1px 2px rgba(60, 64, 67, 0.3), 0px 1px 3px 1px rgba(60, 64, 67, 0.15);\n",
              "      fill: #174EA6;\n",
              "    }\n",
              "\n",
              "    [theme=dark] .colab-df-convert {\n",
              "      background-color: #3B4455;\n",
              "      fill: #D2E3FC;\n",
              "    }\n",
              "\n",
              "    [theme=dark] .colab-df-convert:hover {\n",
              "      background-color: #434B5C;\n",
              "      box-shadow: 0px 1px 3px 1px rgba(0, 0, 0, 0.15);\n",
              "      filter: drop-shadow(0px 1px 2px rgba(0, 0, 0, 0.3));\n",
              "      fill: #FFFFFF;\n",
              "    }\n",
              "  </style>\n",
              "\n",
              "      <script>\n",
              "        const buttonEl =\n",
              "          document.querySelector('#df-664154bf-2f8c-4f86-a256-e59e9ce3035a button.colab-df-convert');\n",
              "        buttonEl.style.display =\n",
              "          google.colab.kernel.accessAllowed ? 'block' : 'none';\n",
              "\n",
              "        async function convertToInteractive(key) {\n",
              "          const element = document.querySelector('#df-664154bf-2f8c-4f86-a256-e59e9ce3035a');\n",
              "          const dataTable =\n",
              "            await google.colab.kernel.invokeFunction('convertToInteractive',\n",
              "                                                     [key], {});\n",
              "          if (!dataTable) return;\n",
              "\n",
              "          const docLinkHtml = 'Like what you see? Visit the ' +\n",
              "            '<a target=\"_blank\" href=https://colab.research.google.com/notebooks/data_table.ipynb>data table notebook</a>'\n",
              "            + ' to learn more about interactive tables.';\n",
              "          element.innerHTML = '';\n",
              "          dataTable['output_type'] = 'display_data';\n",
              "          await google.colab.output.renderOutput(dataTable, element);\n",
              "          const docLink = document.createElement('div');\n",
              "          docLink.innerHTML = docLinkHtml;\n",
              "          element.appendChild(docLink);\n",
              "        }\n",
              "      </script>\n",
              "    </div>\n",
              "  </div>\n",
              "  "
            ]
          },
          "metadata": {},
          "execution_count": 34
        }
      ]
    },
    {
      "cell_type": "code",
      "source": [
        "#Criando uma coluna de Óbitos em 2020\n",
        "df1[\"obitos_2020\"] = ((df1[\"ano_caso\"] == 2020) & (df1[\"evolucao\"] == 'ÓBITO'))\n",
        "mortes_2020 = df1[\"obitos_2020\"].sum()\n",
        "print(f\"A quantidade de mortes em 2020 foi {mortes_2020}\")"
      ],
      "metadata": {
        "colab": {
          "base_uri": "https://localhost:8080/"
        },
        "id": "SkhIjTTHYABh",
        "outputId": "b9521342-e732-4a7f-a846-d7baee62480b"
      },
      "execution_count": null,
      "outputs": [
        {
          "output_type": "stream",
          "name": "stdout",
          "text": [
            "A quantidade de mortes em 2020 foi 4677\n"
          ]
        }
      ]
    },
    {
      "cell_type": "code",
      "source": [
        "#Criando uma coluna de Óbitos em 2021\n",
        "df1[\"obitos_2021\"] = ((df1[\"ano_caso\"] == 2021) & (df1[\"evolucao\"] == 'ÓBITO'))\n",
        "mortes_2021 = df1[\"obitos_2021\"].sum()\n",
        "print(f\"A quantidade de mortes em 2021 foi {mortes_2021}\")"
      ],
      "metadata": {
        "colab": {
          "base_uri": "https://localhost:8080/"
        },
        "id": "belE3H10XR8t",
        "outputId": "af9c946f-aa0b-4348-bae6-14c24487e012"
      },
      "execution_count": null,
      "outputs": [
        {
          "output_type": "stream",
          "name": "stdout",
          "text": [
            "A quantidade de mortes em 2021 foi 4095\n"
          ]
        }
      ]
    },
    {
      "cell_type": "code",
      "source": [
        "#Criando uma coluna de Óbitos em 2022\n",
        "df1[\"obitos_2022\"] = ((df1[\"ano_caso\"] == 2022) & (df1[\"evolucao\"] == 'ÓBITO'))\n",
        "mortes_2022 = df1[\"obitos_2022\"].sum()\n",
        "print(f\"A quantidade de mortes em 2022 foi {mortes_2022}\")"
      ],
      "metadata": {
        "colab": {
          "base_uri": "https://localhost:8080/"
        },
        "id": "uihJMABBYeXe",
        "outputId": "ab4c4e9a-f317-4f59-eb13-45c1a2a6ed0b"
      },
      "execution_count": null,
      "outputs": [
        {
          "output_type": "stream",
          "name": "stdout",
          "text": [
            "A quantidade de mortes em 2022 foi 572\n"
          ]
        }
      ]
    },
    {
      "cell_type": "code",
      "source": [
        "#Fazendo a contagem total de óbitos e vendo se bate com a soma dos 3 anos\n",
        "cont =0\n",
        "for i in df1[\"obitos\"]:\n",
        "  if i == True:\n",
        "    cont +=1\n",
        "print(cont)\n",
        "\n",
        "print(cont == (mortes_2020 + mortes_2021 + mortes_2022))"
      ],
      "metadata": {
        "colab": {
          "base_uri": "https://localhost:8080/"
        },
        "id": "HoAZaFfAV5Br",
        "outputId": "b8806420-8669-491b-8c1b-e2236b9cf6cc"
      },
      "execution_count": null,
      "outputs": [
        {
          "output_type": "stream",
          "name": "stdout",
          "text": [
            "9344\n",
            "True\n"
          ]
        }
      ]
    },
    {
      "cell_type": "code",
      "source": [
        "#Valor de incidêncoa de cada idade\n",
        "df1[\"idade\"].value_counts()\n"
      ],
      "metadata": {
        "colab": {
          "base_uri": "https://localhost:8080/"
        },
        "id": "0hG0GTXkiRxQ",
        "outputId": "091cf0fb-317a-4d1e-e52e-0e6c4c8ecaaf"
      },
      "execution_count": null,
      "outputs": [
        {
          "output_type": "execute_result",
          "data": {
            "text/plain": [
              "57     646\n",
              "58     645\n",
              "68     639\n",
              "59     628\n",
              "60     625\n",
              "      ... \n",
              "IGN      3\n",
              "110      1\n",
              "115      1\n",
              "112      1\n",
              "109      1\n",
              "Name: idade, Length: 127, dtype: int64"
            ]
          },
          "metadata": {},
          "execution_count": 130
        }
      ]
    },
    {
      "cell_type": "code",
      "source": [
        "#Valor de incidêncoa de cada bairro\n",
        "df1[\"bairro\"].value_counts()\n"
      ],
      "metadata": {
        "colab": {
          "base_uri": "https://localhost:8080/"
        },
        "id": "NYIGXomrnMDy",
        "outputId": "3337d2d6-597a-4ca1-b0df-9aa8e675d1aa"
      },
      "execution_count": null,
      "outputs": [
        {
          "output_type": "execute_result",
          "data": {
            "text/plain": [
              "BOA VIAGEM         2972\n",
              "VARZEA             1386\n",
              "IBURA              1337\n",
              "IGN                1272\n",
              "IPUTINGA           1203\n",
              "                   ... \n",
              "Engenho do Meio       1\n",
              "Aflitos               1\n",
              "IPESEP                1\n",
              "Derby                 1\n",
              "Imbiribeira           1\n",
              "Name: bairro, Length: 106, dtype: int64"
            ]
          },
          "metadata": {},
          "execution_count": 129
        }
      ]
    },
    {
      "cell_type": "markdown",
      "source": [
        "**Vamos começar a plotar alguns gráficos com as informações que temos**"
      ],
      "metadata": {
        "id": "kbNHPIKppCSg"
      }
    },
    {
      "cell_type": "markdown",
      "source": [
        "**Histograma da classificação dos casos**"
      ],
      "metadata": {
        "id": "DamOvr7fqJqn"
      }
    },
    {
      "cell_type": "code",
      "source": [
        "classif =  df1.classificacao_final\n",
        "#Histograma\n",
        "plt.figure(figsize=(10, 8))\n",
        "plt.hist(classif, label = 'Resultados', color = 'lightseagreen')\n",
        "plt.title(\"Distribuição da classificação de casos\")\n",
        "plt.xlabel(\"Classificação\")\n",
        "plt.ylabel(\"Quantidade\")\n",
        "plt.legend()\n",
        "plt.show()"
      ],
      "metadata": {
        "colab": {
          "base_uri": "https://localhost:8080/",
          "height": 513
        },
        "id": "C6CspiY6qYWk",
        "outputId": "11d65b7e-28bc-4c4f-c5dd-0ae6e0dccde5"
      },
      "execution_count": null,
      "outputs": [
        {
          "output_type": "display_data",
          "data": {
            "text/plain": [
              "<Figure size 720x576 with 1 Axes>"
            ],
            "image/png": "[encoded data removed]"
          },
          "metadata": {
            "needs_background": "light"
          }
        }
      ]
    },
    {
      "cell_type": "markdown",
      "source": [
        "**Mesmos dados do gráfico anterior, mas em formato de gráfico de pizza**"
      ],
      "metadata": {
        "id": "zXc3kFRAvP-Q"
      }
    },
    {
      "cell_type": "code",
      "source": [
        "plt.rcParams[\"figure.figsize\"] = (15,8)\n",
        "classif = df1.classificacao_final.value_counts()\n",
        "plt.title(\"Distribuição da classificação de casos\")\n",
        "plt.pie(classif)\n",
        "plt.legend(classif.index)\n",
        "plt.show()\n",
        "     "
      ],
      "metadata": {
        "colab": {
          "base_uri": "https://localhost:8080/",
          "height": 482
        },
        "id": "YV60v-ku3HRp",
        "outputId": "77c5e3c4-1a1e-4f4e-a20a-ae0d46c91522"
      },
      "execution_count": null,
      "outputs": [
        {
          "output_type": "display_data",
          "data": {
            "text/plain": [
              "<Figure size 1080x576 with 1 Axes>"
            ],
            "image/png": "[encoded data removed]"
          },
          "metadata": {}
        }
      ]
    },
    {
      "cell_type": "markdown",
      "source": [
        "**Histograma da quantidade de casos por bairro**"
      ],
      "metadata": {
        "id": "PXraeiGWpTP5"
      }
    },
    {
      "cell_type": "code",
      "source": [
        "plt.rcParams[\"figure.figsize\"] = (20,8)\n",
        "df1[\"bairro\"].value_counts().plot.bar(title = \"Total de Casos por bairro\")\n",
        "plt.xlabel(\"Bairro\")\n",
        "plt.ylabel(\"Total de casos\")\n",
        "plt.show()"
      ],
      "metadata": {
        "colab": {
          "base_uri": "https://localhost:8080/",
          "height": 624
        },
        "id": "ag06gEVMqJGt",
        "outputId": "9ef59902-3163-426d-c0b1-88236ef437d4"
      },
      "execution_count": null,
      "outputs": [
        {
          "output_type": "display_data",
          "data": {
            "text/plain": [
              "<Figure size 1440x576 with 1 Axes>"
            ],
            "image/png": "[encoded data removed]"
          },
          "metadata": {
            "needs_background": "light"
          }
        }
      ]
    },
    {
      "cell_type": "markdown",
      "source": [
        "**Gráfico de comparação dos óbitos por meses em cada ano**\n",
        "\n",
        "**É possível ver que a partir de abril de 2021 a quantidade de óbitos começa a cair, mesma época que começou a ter vacinação em masssa de adultos**"
      ],
      "metadata": {
        "id": "saCmMZhp30uP"
      }
    },
    {
      "cell_type": "code",
      "source": [
        "df1.groupby(df1[\"mes_caso\"])[\"obitos_2020\"].sum().plot(title = \"Comparação óbitos por mês por ano\", lw =3)\n",
        "df1.groupby(df1[\"mes_caso\"])[\"obitos_2021\"].sum().plot(lw =3)\n",
        "df1.groupby(df1[\"mes_caso\"])[\"obitos_2022\"].sum().plot(lw =3)\n",
        "plt.xticks(range(1, 13))\n",
        "plt.xlabel(\"Mês\")\n",
        "plt.ylabel(\"Total de Óbitos\");\n",
        "plt.legend()\n",
        "plt.show()"
      ],
      "metadata": {
        "colab": {
          "base_uri": "https://localhost:8080/",
          "height": 513
        },
        "id": "YONHys3rwnZt",
        "outputId": "c00d9f2b-5929-47fd-b249-ff1209136d01"
      },
      "execution_count": null,
      "outputs": [
        {
          "output_type": "display_data",
          "data": {
            "text/plain": [
              "<Figure size 1080x576 with 1 Axes>"
            ],
            "image/png": "[encoded data removed]"
          },
          "metadata": {
            "needs_background": "light"
          }
        }
      ]
    },
    {
      "cell_type": "markdown",
      "source": [
        "**Gráfico da quantidade total de óbitos com o passar dos anos, a cada ano**"
      ],
      "metadata": {
        "id": "EXcHITSI5sfc"
      }
    },
    {
      "cell_type": "code",
      "source": [
        "df1.groupby(df1[\"ano_caso\"]==2020)[\"obitos_2020\"].sum().plot(title = \"Comparação óbitos por ano\", lw =3)\n",
        "df1.groupby(df1[\"ano_caso\"]==2021)[\"obitos_2021\"].sum().plot(lw =3)\n",
        "df1.groupby(df1[\"ano_caso\"]==2022)[\"obitos_2022\"].sum().plot(lw =3)\n",
        "plt.xlabel(\"Ano\")\n",
        "plt.ylabel(\"Total de Óbitos\")\n",
        "plt.legend()\n",
        "plt.show()"
      ],
      "metadata": {
        "colab": {
          "base_uri": "https://localhost:8080/",
          "height": 513
        },
        "id": "RKibdS3H0QbC",
        "outputId": "69a35ee9-13e4-43db-be7d-c59213b996a3"
      },
      "execution_count": null,
      "outputs": [
        {
          "output_type": "display_data",
          "data": {
            "text/plain": [
              "<Figure size 1080x576 with 1 Axes>"
            ],
            "image/png": "[encoded data removed]"
          },
          "metadata": {
            "needs_background": "light"
          }
        }
      ]
    },
    {
      "cell_type": "markdown",
      "source": [
        "**Histograma da quantidade de casos por ano**"
      ],
      "metadata": {
        "id": "nxWqfdns5mga"
      }
    },
    {
      "cell_type": "code",
      "source": [
        "ano = df1.ano_caso \n",
        "\n",
        "#Histograma\n",
        "plt.figure(figsize=(10, 8))\n",
        "plt.hist(ano, label = 'Casos', color = 'lightseagreen')\n",
        "plt.title(\"Distribuição casos por ano\")\n",
        "plt.xticks(range(2020, 2023))\n",
        "plt.xlabel(\"Ano\")\n",
        "plt.ylabel(\"Casos\")\n",
        "plt.legend()\n",
        "plt.show()\n"
      ],
      "metadata": {
        "colab": {
          "base_uri": "https://localhost:8080/",
          "height": 513
        },
        "id": "42v8fHhO1OVC",
        "outputId": "dd2a6e29-f33b-4a3a-b31f-a1f8ab3b30b8"
      },
      "execution_count": 319,
      "outputs": [
        {
          "output_type": "display_data",
          "data": {
            "text/plain": [
              "<Figure size 720x576 with 1 Axes>"
            ],
            "image/png": "[encoded data removed]"
          },
          "metadata": {
            "needs_background": "light"
          }
        }
      ]
    },
    {
      "cell_type": "markdown",
      "source": [
        "**Histograma de quantidade de casos por raça**"
      ],
      "metadata": {
        "id": "9pwA9hmN66NV"
      }
    },
    {
      "cell_type": "code",
      "source": [
        "df1[\"raca\"] = df1[\"raca\"].astype(\"str\")\n",
        "raca =  df1.raca\n",
        "plt.hist(raca, label = 'raça', color = 'lightseagreen')\n",
        "plt.title(\"Distribuição de casos por raça\")\n",
        "plt.xlabel(\"raça\")\n",
        "plt.ylabel(\"Casos\")\n",
        "plt.legend()\n",
        "plt.show()"
      ],
      "metadata": {
        "colab": {
          "base_uri": "https://localhost:8080/",
          "height": 513
        },
        "id": "tdhfZed87lY3",
        "outputId": "1be5abbb-4982-48d8-c392-a329e27001b6"
      },
      "execution_count": null,
      "outputs": [
        {
          "output_type": "display_data",
          "data": {
            "text/plain": [
              "<Figure size 1080x576 with 1 Axes>"
            ],
            "image/png": "[encoded data removed]"
          },
          "metadata": {
            "needs_background": "light"
          }
        }
      ]
    },
    {
      "cell_type": "markdown",
      "source": [
        "**Gráfico em barras da quantidade de casos por raça**"
      ],
      "metadata": {
        "id": "BkAjxtFY9e8r"
      }
    },
    {
      "cell_type": "code",
      "source": [
        "raca = df1[\"raca\"].value_counts()\n",
        "raca.plot(kind = 'bar')\n",
        "plt.title(\"Distribuição de casos por raça\", fontsize = 15)\n",
        "plt.xlabel(\"Raça\", fontsize = 14)\n",
        "plt.ylabel(\"Casos\", fontsize = 14)\n",
        "plt.legend()\n",
        "plt.show()"
      ],
      "metadata": {
        "colab": {
          "base_uri": "https://localhost:8080/",
          "height": 553
        },
        "id": "SzFEUiFv7pQ7",
        "outputId": "f9c60825-8040-4152-fe53-9ce3c3aa9ea4"
      },
      "execution_count": null,
      "outputs": [
        {
          "output_type": "display_data",
          "data": {
            "text/plain": [
              "<Figure size 1080x576 with 1 Axes>"
            ],
            "image/png": "[encoded data removed]"
          },
          "metadata": {
            "needs_background": "light"
          }
        }
      ]
    },
    {
      "cell_type": "markdown",
      "source": [
        "**Gráfico em barras da quantidade de casos por sexo**"
      ],
      "metadata": {
        "id": "OIevEEOJ-wTD"
      }
    },
    {
      "cell_type": "code",
      "source": [
        "sexo = df1[\"sexo\"].value_counts()\n",
        "plt.figure(figsize=(10, 8))\n",
        "sexo.plot(kind = 'bar', color = 'lightseagreen')\n",
        "plt.title(\"Distribuição de casos por sexo\", fontsize = 15, )\n",
        "plt.xlabel(\"Sexo\", fontsize = 12)\n",
        "plt.ylabel(\"Casos\", fontsize = 12)\n",
        "plt.legend()\n",
        "plt.show()"
      ],
      "metadata": {
        "colab": {
          "base_uri": "https://localhost:8080/",
          "height": 558
        },
        "id": "VovYTr-i-vd5",
        "outputId": "355e63d3-21ad-4ec0-c5d3-cc232ec9e2df"
      },
      "execution_count": null,
      "outputs": [
        {
          "output_type": "display_data",
          "data": {
            "text/plain": [
              "<Figure size 720x576 with 1 Axes>"
            ],
            "image/png": "[encoded data removed]"
          },
          "metadata": {
            "needs_background": "light"
          }
        }
      ]
    },
    {
      "cell_type": "markdown",
      "source": [
        "**Distribuição da quantidade de casos por idade**\n",
        "\n",
        "**Como são muitas idades, dividi a amostra em dois, de forma que o segundo gráfico começa de onde o primeiro terminou**"
      ],
      "metadata": {
        "id": "9W4Wkr8UAPFd"
      }
    },
    {
      "cell_type": "code",
      "source": [
        "idade = df1[\"idade\"].value_counts()[0:64]\n",
        "plt.figure(figsize=(30, 12))\n",
        "idade.plot(kind = 'bar', color = 'lightseagreen')\n",
        "plt.title(\"Distribuição de casos por idade\", fontsize = 16)\n",
        "plt.xlabel(\"Idades\", fontsize = 16)\n",
        "plt.ylabel(\"Casos\", fontsize = 16)\n",
        "plt.legend()\n",
        "plt.grid(True)\n",
        "plt.show()"
      ],
      "metadata": {
        "colab": {
          "base_uri": "https://localhost:8080/",
          "height": 740
        },
        "id": "jmrYaw2KCQsJ",
        "outputId": "3f664285-0279-4887-a427-ca3f75f9a1d0"
      },
      "execution_count": 317,
      "outputs": [
        {
          "output_type": "display_data",
          "data": {
            "text/plain": [
              "<Figure size 2160x864 with 1 Axes>"
            ],
            "image/png": "[encoded data removed]"
          },
          "metadata": {
            "needs_background": "light"
          }
        }
      ]
    },
    {
      "cell_type": "code",
      "source": [
        "idade = df1[\"idade\"].value_counts()[64:]\n",
        "plt.figure(figsize=(30, 12))\n",
        "idade.plot(kind = 'bar', color = 'lightseagreen')\n",
        "plt.title(\"Distribuição de casos por idade\", fontsize = 16)\n",
        "plt.xlabel(\"Idades\", fontsize = 16)\n",
        "plt.ylabel(\"Quantidade\", fontsize = 16)\n",
        "plt.legend()\n",
        "plt.show()"
      ],
      "metadata": {
        "colab": {
          "base_uri": "https://localhost:8080/",
          "height": 775
        },
        "id": "QphzfayCCaKA",
        "outputId": "55616a6e-dbd3-4be8-9112-57dc606aeca3"
      },
      "execution_count": 318,
      "outputs": [
        {
          "output_type": "display_data",
          "data": {
            "text/plain": [
              "<Figure size 2160x864 with 1 Axes>"
            ],
            "image/png": "[encoded data removed]"
          },
          "metadata": {
            "needs_background": "light"
          }
        }
      ]
    }
  ]
}