{
  "nbformat": 4,
  "nbformat_minor": 0,
  "metadata": {
    "colab": {
      "provenance": []
    },
    "kernelspec": {
      "name": "python3",
      "display_name": "Python 3"
    },
    "language_info": {
      "name": "python"
    }
  },
  "cells": [
    {
      "cell_type": "markdown",
      "source": [
        "Atividade Aula 1 \\\n",
        "Execute os programas abaixo e comente o que acontece:"
      ],
      "metadata": {
        "id": "s2EmbsunbI3B"
      }
    },
    {
      "cell_type": "markdown",
      "source": [
        "###1)\n",
        "a = 3 \\\n",
        "b = 4 \\\n",
        "soma = a + b\\\n",
        "print(\"A soma de a + b é: soma\")"
      ],
      "metadata": {
        "id": "VPO_5Ppka6UI"
      }
    },
    {
      "cell_type": "code",
      "execution_count": null,
      "metadata": {
        "colab": {
          "base_uri": "https://localhost:8080/"
        },
        "id": "l-omgPxdappO",
        "outputId": "c56408df-e621-4e85-f88a-f932f691588d"
      },
      "outputs": [
        {
          "output_type": "stream",
          "name": "stdout",
          "text": [
            "A soma de a + b é: soma\n"
          ]
        }
      ],
      "source": [
        "a = 3\n",
        "b = 4\n",
        "soma = a + b\n",
        "print(\"A soma de a + b é: soma\")\n",
        "\n",
        "#O programa vai printar: 'A soma de a + b é: soma', pois está tudo dentro das aspas, então para o programa ele devar printar exatamente esse texto"
      ]
    },
    {
      "cell_type": "markdown",
      "source": [
        "##Resposta 1º:\n",
        " O programa vai printar: \"A soma de a + b é: soma\", pois está tudo dentro das aspas, então para o programa ele devar printar exatamente esse texto"
      ],
      "metadata": {
        "id": "Qb0JPBbScafm"
      }
    },
    {
      "cell_type": "markdown",
      "source": [
        "###2)\n",
        "a = 3\\\n",
        "b = 4\\\n",
        "soma = a + b\\\n",
        "print(\"A soma de a + b é:\", soma)\n"
      ],
      "metadata": {
        "id": "qXM2ja37clLW"
      }
    },
    {
      "cell_type": "code",
      "source": [
        "a = 3\n",
        "b = 4\n",
        "soma = a + b\n",
        "print(\"A soma de a + b é:\", soma)"
      ],
      "metadata": {
        "colab": {
          "base_uri": "https://localhost:8080/"
        },
        "id": "1uIflh3BcaGq",
        "outputId": "285209ba-5e51-4866-f53d-18a57f46fad5"
      },
      "execution_count": null,
      "outputs": [
        {
          "output_type": "stream",
          "name": "stdout",
          "text": [
            "A soma de a + b é: 7\n"
          ]
        }
      ]
    },
    {
      "cell_type": "markdown",
      "source": [
        "##Resposta 2º:\n",
        " O programa vai printar: \"A soma de a + b é: 7\", pois o texto \"A soma de a + b é:\" está dentro das aspas e depois ele vai printar o valor guardado dentro da variável soma, pois ela está fora das aspas."
      ],
      "metadata": {
        "id": "_tsy3Ru3c2yv"
      }
    },
    {
      "cell_type": "markdown",
      "source": [
        "###3)\n",
        "a = 3\\\n",
        "b = 4\\\n",
        "soma = a + b\\\n",
        "print(\"A soma de\", a, \"+\", b, \"é:\", soma)"
      ],
      "metadata": {
        "id": "X2kipRErdnov"
      }
    },
    {
      "cell_type": "code",
      "source": [
        "a = 3\n",
        "b = 4\n",
        "soma = a + b\n",
        "print(\"A soma de\", a, \"+\", b, \"é:\", soma)"
      ],
      "metadata": {
        "colab": {
          "base_uri": "https://localhost:8080/"
        },
        "id": "Ft7kaTQKda0f",
        "outputId": "f926bedf-024e-4f03-d36c-e1dfe596eec0"
      },
      "execution_count": null,
      "outputs": [
        {
          "output_type": "stream",
          "name": "stdout",
          "text": [
            "A soma de 3 + 4 é: 7\n"
          ]
        }
      ]
    },
    {
      "cell_type": "markdown",
      "source": [
        "##Resposta 3º:\n",
        "O programa printa como texto exatamente o que está dentro das aspas. O que está sem aspas ele printa o valor da variável. Nesse caso ele vai printar como texto:\\\n",
        "\"A soma de\"\\\n",
        "\"+\" \\\n",
        "\"é:\"\\\n",
        "E vai printar as variáveis:\\\n",
        "a\\\n",
        "b\\\n",
        "soma\\\n",
        "pois as três estão sem aspas"
      ],
      "metadata": {
        "id": "4REkIZv_d4F6"
      }
    },
    {
      "cell_type": "markdown",
      "source": [
        "###4)\n",
        "PROMPT_1 = \"Digite o primeiro numero: \"\\\n",
        "PROMPT_2 = \"Digite o segundo numero: \"\\\n",
        "a = input(PROMPT_1)\\\n",
        "b = input(PROMPT_2)\\\n",
        "soma = a + b\\\n",
        "print(\"A soma de\", a, \"+\", b, \"é:\", soma)"
      ],
      "metadata": {
        "id": "2Uz9p3oihDMh"
      }
    },
    {
      "cell_type": "code",
      "source": [
        "PROMPT_1 = \"Digite o primeiro numero: \"\n",
        "PROMPT_2 = \"Digite o segundo numero: \"\n",
        "a = input(PROMPT_1)\n",
        "b = input(PROMPT_2)\n",
        "soma = a + b\n",
        "print(\"A soma de\", a, \"+\", b, \"é:\", soma)"
      ],
      "metadata": {
        "colab": {
          "base_uri": "https://localhost:8080/"
        },
        "id": "45K8kxrGeoV7",
        "outputId": "50568215-a2a5-4a14-e767-03e8b0c205c6"
      },
      "execution_count": null,
      "outputs": [
        {
          "output_type": "stream",
          "name": "stdout",
          "text": [
            "Digite o primeiro numero: 4\n",
            "Digite o segundo numero: 5\n",
            "A soma de 4 + 5 é: 45\n"
          ]
        }
      ]
    },
    {
      "cell_type": "markdown",
      "source": [
        "###Resposta 4º: A soma de 4 + 5 é: 45\n",
        "Quando o programa recebe um input ele sempre recebe como string, então a soma vai apenas contatenar os valores das variaveis 'a' e 'b'"
      ],
      "metadata": {
        "id": "O8hPzpy2hTTG"
      }
    },
    {
      "cell_type": "markdown",
      "source": [
        "###5)\n",
        "a_str = input(\"Digite o primeiro numero: \")\\\n",
        "b_str = input(\"Digite o segundo numero: \")\\\n",
        "a_int = int(a_str) # converte string/texto para inteiro\\\n",
        "b_int = int(b_str) # converte string/texto para inteiro\\\n",
        "soma = a_int + b_int\\\n",
        "print(\"A soma de\", a_int, \"+\", b_int, \"eh igual a\", soma)"
      ],
      "metadata": {
        "id": "npmSGm4Kiafg"
      }
    },
    {
      "cell_type": "code",
      "source": [
        "a_str = input(\"Digite o primeiro numero: \")\n",
        "b_str = input(\"Digite o segundo numero: \")\n",
        "a_int = int(a_str) # converte string/texto para inteiro\n",
        "b_int = int(b_str) # converte string/texto para inteiro\n",
        "soma = a_int + b_int\n",
        "print(\"A soma de\", a_int, \"+\", b_int, \"eh igual a\", soma)"
      ],
      "metadata": {
        "colab": {
          "base_uri": "https://localhost:8080/"
        },
        "id": "3LhktEobir7D",
        "outputId": "bb5bf312-f39a-4060-9c5a-56445eebbd2d"
      },
      "execution_count": null,
      "outputs": [
        {
          "output_type": "stream",
          "name": "stdout",
          "text": [
            "Digite o primeiro numero: 10\n",
            "Digite o segundo numero: 15\n",
            "A soma de 10 + 15 eh igual a 25\n"
          ]
        }
      ]
    },
    {
      "cell_type": "markdown",
      "source": [
        "###Resposta 5º: A soma de 10 + 15 eh igual a 25\n",
        "Quando o programa recebe um input ele sempre recebe como string, mas dessa vez criamos uma nova variável que converte os strings em inteiros, então dessa vez quando printar: \"A soma de\", a_int, \"+\", b_int, \"eh igual a\", soma\\\n",
        "vamos ter:\\\n",
        "A soma de 10 + 15 eh igual a 25\n",
        "Lembrando que o que está entre aspas vai ser printado exatamente como mostrado e o que está sem aspas vai ser printado o valor atribuído aquela variável."
      ],
      "metadata": {
        "id": "ViegXrTUirTi"
      }
    },
    {
      "cell_type": "markdown",
      "source": [
        "#6)\n",
        "a = int(input(\"Digite o primeiro numero: \"))\\\n",
        "b = int(input(\"Digite o segundo numero: \"))\\\n",
        "soma = a + b\\\n",
        "print(\"A soma de\", a, \"+\", b, \"eh igual a\", soma)"
      ],
      "metadata": {
        "id": "i6LZBXLop9zY"
      }
    },
    {
      "cell_type": "code",
      "source": [
        "a = int(input(\"Digite o primeiro numero: \"))\n",
        "b = int(input(\"Digite o segundo numero: \"))\n",
        "soma = a + b\n",
        "print(\"A soma de\", a, \"+\", b, \"eh igual a\", soma)"
      ],
      "metadata": {
        "colab": {
          "base_uri": "https://localhost:8080/"
        },
        "id": "MVQJegKrp9c2",
        "outputId": "ed50cbe4-7ead-4777-ba47-a735c1facfc7"
      },
      "execution_count": null,
      "outputs": [
        {
          "output_type": "stream",
          "name": "stdout",
          "text": [
            "Digite o primeiro numero: 10\n",
            "Digite o segundo numero: 15\n",
            "A soma de 10 + 15 eh igual a 25\n"
          ]
        }
      ]
    },
    {
      "cell_type": "markdown",
      "source": [
        "###Resposta 6º: A soma de 10 + 15 eh igual a 25\n",
        "O programa faz exatamente o mesmo procedimento da questão anterior, mas agora conseguimos economizar duas variáveis pois definimos que o input será do tipo inteiro. "
      ],
      "metadata": {
        "id": "DBzXmllpsisL"
      }
    }
  ]
}