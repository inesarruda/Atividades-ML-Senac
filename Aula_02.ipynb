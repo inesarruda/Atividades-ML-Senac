{
  "nbformat": 4,
  "nbformat_minor": 0,
  "metadata": {
    "colab": {
      "provenance": [],
      "authorship_tag": "ABX9TyMO8Dr1bnbGWk09OFTZ12rw",
      "include_colab_link": true
    },
    "kernelspec": {
      "name": "python3",
      "display_name": "Python 3"
    },
    "language_info": {
      "name": "python"
    }
  },
  "cells": [
    {
      "cell_type": "markdown",
      "metadata": {
        "id": "view-in-github",
        "colab_type": "text"
      },
      "source": [
        "<a href=\"https://colab.research.google.com/github/inesarruda/Atividades-ML-Senac/blob/main/Aula_02.ipynb\" target=\"_parent\"><img src=\"https://colab.research.google.com/assets/colab-badge.svg\" alt=\"Open In Colab\"/></a>"
      ]
    },
    {
      "cell_type": "code",
      "execution_count": 1,
      "metadata": {
        "id": "Zwd5IgbdSD4C"
      },
      "outputs": [],
      "source": [
        "idade1 = 20"
      ]
    },
    {
      "cell_type": "code",
      "source": [
        "idade2 = 35"
      ],
      "metadata": {
        "id": "zyRbmIzOST3E"
      },
      "execution_count": 2,
      "outputs": []
    },
    {
      "cell_type": "code",
      "source": [
        "idade1 + idade2"
      ],
      "metadata": {
        "colab": {
          "base_uri": "https://localhost:8080/"
        },
        "id": "gff8DVMDSXRD",
        "outputId": "8bbb25d0-33de-4e06-cff8-e51c3a5466eb"
      },
      "execution_count": 3,
      "outputs": [
        {
          "output_type": "execute_result",
          "data": {
            "text/plain": [
              "55"
            ]
          },
          "metadata": {},
          "execution_count": 3
        }
      ]
    },
    {
      "cell_type": "code",
      "source": [
        "somaIdades = idade1 +idade2"
      ],
      "metadata": {
        "id": "rVdPjOCISqQy"
      },
      "execution_count": 4,
      "outputs": []
    },
    {
      "cell_type": "code",
      "source": [
        "idade1 - idade2"
      ],
      "metadata": {
        "colab": {
          "base_uri": "https://localhost:8080/"
        },
        "id": "pIHQwurMS2CL",
        "outputId": "2f84fed4-093e-49d7-8660-1a7554591e1d"
      },
      "execution_count": 6,
      "outputs": [
        {
          "output_type": "execute_result",
          "data": {
            "text/plain": [
              "-15"
            ]
          },
          "metadata": {},
          "execution_count": 6
        }
      ]
    },
    {
      "cell_type": "code",
      "source": [
        "idade1 * idade2"
      ],
      "metadata": {
        "colab": {
          "base_uri": "https://localhost:8080/"
        },
        "id": "Ffz7wLnUS6Fy",
        "outputId": "f7721a1d-b7b0-4303-acbb-53de181b0ef0"
      },
      "execution_count": 7,
      "outputs": [
        {
          "output_type": "execute_result",
          "data": {
            "text/plain": [
              "700"
            ]
          },
          "metadata": {},
          "execution_count": 7
        }
      ]
    },
    {
      "cell_type": "code",
      "source": [
        "idade1 / idade2"
      ],
      "metadata": {
        "colab": {
          "base_uri": "https://localhost:8080/"
        },
        "id": "AM34UJu7S9Cb",
        "outputId": "0b396c08-9391-4aec-a186-45d8660a9f57"
      },
      "execution_count": 8,
      "outputs": [
        {
          "output_type": "execute_result",
          "data": {
            "text/plain": [
              "0.5714285714285714"
            ]
          },
          "metadata": {},
          "execution_count": 8
        }
      ]
    },
    {
      "cell_type": "code",
      "source": [
        "idade1 +10"
      ],
      "metadata": {
        "colab": {
          "base_uri": "https://localhost:8080/"
        },
        "id": "CsM6oIeZTJ-L",
        "outputId": "eb9314c7-e28f-48c2-e53d-cac60eadb968"
      },
      "execution_count": 9,
      "outputs": [
        {
          "output_type": "execute_result",
          "data": {
            "text/plain": [
              "30"
            ]
          },
          "metadata": {},
          "execution_count": 9
        }
      ]
    },
    {
      "cell_type": "code",
      "source": [
        "idade1 -15"
      ],
      "metadata": {
        "colab": {
          "base_uri": "https://localhost:8080/"
        },
        "id": "PcGJbJ4eTNab",
        "outputId": "cd9eb0f1-4047-4b72-f4f7-1cf9795cb3fd"
      },
      "execution_count": 10,
      "outputs": [
        {
          "output_type": "execute_result",
          "data": {
            "text/plain": [
              "5"
            ]
          },
          "metadata": {},
          "execution_count": 10
        }
      ]
    },
    {
      "cell_type": "code",
      "source": [
        "idade1*4"
      ],
      "metadata": {
        "colab": {
          "base_uri": "https://localhost:8080/"
        },
        "id": "1McRmc_uTQFz",
        "outputId": "f2f3b598-7a98-483c-c0ae-99e12ba515f2"
      },
      "execution_count": 11,
      "outputs": [
        {
          "output_type": "execute_result",
          "data": {
            "text/plain": [
              "80"
            ]
          },
          "metadata": {},
          "execution_count": 11
        }
      ]
    },
    {
      "cell_type": "code",
      "source": [
        "idade1/5"
      ],
      "metadata": {
        "colab": {
          "base_uri": "https://localhost:8080/"
        },
        "id": "Je50ksDNTS4T",
        "outputId": "93c9e535-b932-4b03-e650-cc292cd39d92"
      },
      "execution_count": 12,
      "outputs": [
        {
          "output_type": "execute_result",
          "data": {
            "text/plain": [
              "4.0"
            ]
          },
          "metadata": {},
          "execution_count": 12
        }
      ]
    },
    {
      "cell_type": "code",
      "source": [
        "2*(idade1 + idade2)"
      ],
      "metadata": {
        "colab": {
          "base_uri": "https://localhost:8080/"
        },
        "id": "8BF0lJ2VTVmL",
        "outputId": "b07866de-c4a9-4294-aa39-1581a19983e5"
      },
      "execution_count": 13,
      "outputs": [
        {
          "output_type": "execute_result",
          "data": {
            "text/plain": [
              "110"
            ]
          },
          "metadata": {},
          "execution_count": 13
        }
      ]
    },
    {
      "cell_type": "code",
      "source": [
        "2*idade1 + 3*idade2/4"
      ],
      "metadata": {
        "colab": {
          "base_uri": "https://localhost:8080/"
        },
        "id": "TrpqAvSTTbsE",
        "outputId": "d159dc5b-03f1-497b-c953-1a1a1db70d2c"
      },
      "execution_count": 14,
      "outputs": [
        {
          "output_type": "execute_result",
          "data": {
            "text/plain": [
              "66.25"
            ]
          },
          "metadata": {},
          "execution_count": 14
        }
      ]
    },
    {
      "cell_type": "code",
      "source": [
        "(2*idade1 +3*idade2)/4"
      ],
      "metadata": {
        "colab": {
          "base_uri": "https://localhost:8080/"
        },
        "id": "chqTL3VqTlKH",
        "outputId": "9f4139c2-2071-4ef7-c0b3-6b5bac02bc11"
      },
      "execution_count": 15,
      "outputs": [
        {
          "output_type": "execute_result",
          "data": {
            "text/plain": [
              "36.25"
            ]
          },
          "metadata": {},
          "execution_count": 15
        }
      ]
    },
    {
      "cell_type": "code",
      "source": [
        "idade1**2"
      ],
      "metadata": {
        "colab": {
          "base_uri": "https://localhost:8080/"
        },
        "id": "WjrFnx9pT0LC",
        "outputId": "75f20b3f-5e7d-419e-f5d3-4ed1234a57ed"
      },
      "execution_count": 16,
      "outputs": [
        {
          "output_type": "execute_result",
          "data": {
            "text/plain": [
              "400"
            ]
          },
          "metadata": {},
          "execution_count": 16
        }
      ]
    },
    {
      "cell_type": "code",
      "source": [
        "15**2"
      ],
      "metadata": {
        "colab": {
          "base_uri": "https://localhost:8080/"
        },
        "id": "QLaKdnI_T34K",
        "outputId": "6ec3ca3f-e28b-4270-b7d4-def82cef456b"
      },
      "execution_count": 17,
      "outputs": [
        {
          "output_type": "execute_result",
          "data": {
            "text/plain": [
              "225"
            ]
          },
          "metadata": {},
          "execution_count": 17
        }
      ]
    },
    {
      "cell_type": "code",
      "source": [
        "idade2//idade1"
      ],
      "metadata": {
        "colab": {
          "base_uri": "https://localhost:8080/"
        },
        "id": "DtmADJQFUUra",
        "outputId": "2ef0620c-3d74-482e-9cdd-664fb223ae93"
      },
      "execution_count": 18,
      "outputs": [
        {
          "output_type": "execute_result",
          "data": {
            "text/plain": [
              "1"
            ]
          },
          "metadata": {},
          "execution_count": 18
        }
      ]
    },
    {
      "cell_type": "code",
      "source": [
        "idade2/idade1"
      ],
      "metadata": {
        "colab": {
          "base_uri": "https://localhost:8080/"
        },
        "id": "efdujo-BUYCK",
        "outputId": "11dc7358-5808-4e42-de57-1a086f06c42e"
      },
      "execution_count": 19,
      "outputs": [
        {
          "output_type": "execute_result",
          "data": {
            "text/plain": [
              "1.75"
            ]
          },
          "metadata": {},
          "execution_count": 19
        }
      ]
    },
    {
      "cell_type": "code",
      "source": [
        "idade2%idade1"
      ],
      "metadata": {
        "colab": {
          "base_uri": "https://localhost:8080/"
        },
        "id": "TOoaFZzeUmEz",
        "outputId": "bd8c6ae3-1919-491f-fdf7-c8d20041ef8d"
      },
      "execution_count": 20,
      "outputs": [
        {
          "output_type": "execute_result",
          "data": {
            "text/plain": [
              "15"
            ]
          },
          "metadata": {},
          "execution_count": 20
        }
      ]
    },
    {
      "cell_type": "code",
      "source": [
        "nome = 'Camila'\n",
        "sobrenome = 'Dantas'"
      ],
      "metadata": {
        "id": "eLV9Q0cnUuna"
      },
      "execution_count": 21,
      "outputs": []
    },
    {
      "cell_type": "code",
      "source": [
        "print(nome + sobrenome)"
      ],
      "metadata": {
        "colab": {
          "base_uri": "https://localhost:8080/"
        },
        "id": "6L2bkXy4U4Wq",
        "outputId": "0e49cc0d-13a3-465b-aa18-9dac1f1ea6f6"
      },
      "execution_count": 22,
      "outputs": [
        {
          "output_type": "stream",
          "name": "stdout",
          "text": [
            "CamilaDantas\n"
          ]
        }
      ]
    },
    {
      "cell_type": "code",
      "source": [
        "print(nome + ' ' + sobrenome)"
      ],
      "metadata": {
        "colab": {
          "base_uri": "https://localhost:8080/"
        },
        "id": "XuPQHaB3VIaK",
        "outputId": "25e184eb-75bd-4b4b-f693-f16eaa0ed6a7"
      },
      "execution_count": 24,
      "outputs": [
        {
          "output_type": "stream",
          "name": "stdout",
          "text": [
            "Camila Dantas\n"
          ]
        }
      ]
    },
    {
      "cell_type": "code",
      "source": [
        "print('Olá, ',nome, 'você tem ', idade1+15, 'anos.')"
      ],
      "metadata": {
        "colab": {
          "base_uri": "https://localhost:8080/"
        },
        "id": "JototSdiVPB6",
        "outputId": "4d2c8036-964b-42dc-d45b-e59acbf8feca"
      },
      "execution_count": 26,
      "outputs": [
        {
          "output_type": "stream",
          "name": "stdout",
          "text": [
            "Olá,  Camila você tem  35 anos.\n"
          ]
        }
      ]
    },
    {
      "cell_type": "code",
      "source": [
        "print('Olá, ',nome, '\\n' 'você tem ', idade1+15, 'anos.')"
      ],
      "metadata": {
        "colab": {
          "base_uri": "https://localhost:8080/"
        },
        "id": "-KTZfwTvW5zy",
        "outputId": "46befb63-a2f8-4e48-ed66-d611598903ba"
      },
      "execution_count": 27,
      "outputs": [
        {
          "output_type": "stream",
          "name": "stdout",
          "text": [
            "Olá,  Camila \n",
            "você tem  35 anos.\n"
          ]
        }
      ]
    },
    {
      "cell_type": "code",
      "source": [
        "input('Digite o seu nome: ')"
      ],
      "metadata": {
        "colab": {
          "base_uri": "https://localhost:8080/",
          "height": 53
        },
        "id": "5HqsO1dEXcpq",
        "outputId": "3968ec6f-d4a1-4bb8-c12e-b829b8f86f7f"
      },
      "execution_count": 28,
      "outputs": [
        {
          "name": "stdout",
          "output_type": "stream",
          "text": [
            "Digite o seu nome: Maria Inês\n"
          ]
        },
        {
          "output_type": "execute_result",
          "data": {
            "text/plain": [
              "'Maria Inês'"
            ],
            "application/vnd.google.colaboratory.intrinsic+json": {
              "type": "string"
            }
          },
          "metadata": {},
          "execution_count": 28
        }
      ]
    },
    {
      "cell_type": "code",
      "source": [
        "nome = input('Digite o seu nome: ')"
      ],
      "metadata": {
        "colab": {
          "base_uri": "https://localhost:8080/"
        },
        "id": "SsG36FVSXlqK",
        "outputId": "f552aef0-4bf2-4b9c-a4b4-d2e1242aa3d9"
      },
      "execution_count": 29,
      "outputs": [
        {
          "name": "stdout",
          "output_type": "stream",
          "text": [
            "Digite o seu nome: Maria Inês\n"
          ]
        }
      ]
    },
    {
      "cell_type": "code",
      "source": [
        "#desafio: \n",
        "numero = int(input(\"Digite um número: \"))"
      ],
      "metadata": {
        "colab": {
          "base_uri": "https://localhost:8080/"
        },
        "id": "iJv6CaDKX45i",
        "outputId": "9612db4e-167d-4e2c-c0c3-8f7cad634920"
      },
      "execution_count": 31,
      "outputs": [
        {
          "name": "stdout",
          "output_type": "stream",
          "text": [
            "Digite um número: 15\n"
          ]
        }
      ]
    },
    {
      "cell_type": "code",
      "source": [
        "valor1 = input(\"Digite um numero inteiro: \")\n",
        "valor2 = input(\"Digite um numero inteiro: \")"
      ],
      "metadata": {
        "colab": {
          "base_uri": "https://localhost:8080/"
        },
        "id": "MlD7zcJBaEyS",
        "outputId": "8d4a593c-34eb-4deb-85a9-05df986da9b2"
      },
      "execution_count": 47,
      "outputs": [
        {
          "name": "stdout",
          "output_type": "stream",
          "text": [
            "Digite um numero inteiro: 5\n",
            "Digite um numero inteiro: 10\n"
          ]
        }
      ]
    },
    {
      "cell_type": "code",
      "source": [
        "type(valor1)"
      ],
      "metadata": {
        "colab": {
          "base_uri": "https://localhost:8080/"
        },
        "id": "hzWEhpNCevdb",
        "outputId": "afb5d863-43b7-43b1-d968-642b5c72451c"
      },
      "execution_count": 52,
      "outputs": [
        {
          "output_type": "execute_result",
          "data": {
            "text/plain": [
              "str"
            ]
          },
          "metadata": {},
          "execution_count": 52
        }
      ]
    },
    {
      "cell_type": "code",
      "source": [
        "print(valor1 == valor2)\n",
        "print(valor1 > valor2)\n",
        "print(valor1 >= valor2)\n",
        "print(valor1 <= valor2)"
      ],
      "metadata": {
        "colab": {
          "base_uri": "https://localhost:8080/"
        },
        "id": "OvFtS3uAaOVK",
        "outputId": "bd0f9de4-56af-4998-ed57-14f836f279ea"
      },
      "execution_count": 48,
      "outputs": [
        {
          "output_type": "stream",
          "name": "stdout",
          "text": [
            "False\n",
            "True\n",
            "True\n",
            "False\n"
          ]
        }
      ]
    },
    {
      "cell_type": "code",
      "source": [
        "numero = 10\n",
        "print(numero>0 and numero<10)"
      ],
      "metadata": {
        "colab": {
          "base_uri": "https://localhost:8080/"
        },
        "id": "5kn-PcFJca0B",
        "outputId": "a211e4a5-79ff-43ed-e78b-0d6f727e2c87"
      },
      "execution_count": 44,
      "outputs": [
        {
          "output_type": "stream",
          "name": "stdout",
          "text": [
            "False\n"
          ]
        }
      ]
    },
    {
      "cell_type": "code",
      "source": [
        "numero = 10\n",
        "print(numero>0 or numero<10)"
      ],
      "metadata": {
        "colab": {
          "base_uri": "https://localhost:8080/"
        },
        "id": "85C4IWdLcvMi",
        "outputId": "e25175aa-746c-48a6-980e-739439731cc2"
      },
      "execution_count": 49,
      "outputs": [
        {
          "output_type": "stream",
          "name": "stdout",
          "text": [
            "True\n"
          ]
        }
      ]
    },
    {
      "cell_type": "code",
      "source": [
        "if ():\n",
        "  print()\n",
        "else:\n",
        "  print()"
      ],
      "metadata": {
        "id": "LHW-EM6ZdGIy"
      },
      "execution_count": null,
      "outputs": []
    },
    {
      "cell_type": "markdown",
      "source": [
        "##Desafio: Condicional\n",
        "Usando somente o que aprendemos até aqui, seu programa deve solicitar um número inteiro ao usuário e avaliar se esse número é par ou ímpar."
      ],
      "metadata": {
        "id": "HhFRWDCbd9aD"
      }
    },
    {
      "cell_type": "code",
      "source": [
        "numero = int(input(\"Digite um numero: \"))\n",
        "if (numero%2 == 0):\n",
        "  print(\"O número\" ,numero, \"é par\")\n",
        "else:\n",
        "  print(\"O número\",numero, \"é ímpar\")"
      ],
      "metadata": {
        "colab": {
          "base_uri": "https://localhost:8080/"
        },
        "id": "irqcCd4ddvI6",
        "outputId": "96dad9e3-7163-4cb0-d343-b442b4b188bd"
      },
      "execution_count": 62,
      "outputs": [
        {
          "output_type": "stream",
          "name": "stdout",
          "text": [
            "Digite um numero: 15\n",
            "O número 15 é ímpar\n"
          ]
        }
      ]
    },
    {
      "cell_type": "code",
      "source": [
        "cupom = input(\"digite o cupom: \")"
      ],
      "metadata": {
        "colab": {
          "base_uri": "https://localhost:8080/"
        },
        "id": "YpBjZ-RehMVB",
        "outputId": "03864980-ccfe-4062-83d1-998824dc2f6e"
      },
      "execution_count": 64,
      "outputs": [
        {
          "name": "stdout",
          "output_type": "stream",
          "text": [
            "digite o cupom: aula1\n"
          ]
        }
      ]
    },
    {
      "cell_type": "code",
      "source": [
        "if (cupom == 'aula1' or cupom == 'aula2' ):\n",
        "  print('Você ganhou 10% de desconto')"
      ],
      "metadata": {
        "colab": {
          "base_uri": "https://localhost:8080/"
        },
        "id": "IcLKWKFAhYy0",
        "outputId": "da3f5059-4179-4fc6-9566-87f8c2154f4e"
      },
      "execution_count": 65,
      "outputs": [
        {
          "output_type": "stream",
          "name": "stdout",
          "text": [
            "Você ganhou 10% de desconto\n"
          ]
        }
      ]
    },
    {
      "cell_type": "code",
      "source": [
        "if (cupom == 'aula1' or cupom == 'aula2' ):\n",
        "  print('Você ganhou 10% de desconto')\n",
        "else:\n",
        "  print('cupom inválido')"
      ],
      "metadata": {
        "colab": {
          "base_uri": "https://localhost:8080/"
        },
        "id": "usFSakmyiExZ",
        "outputId": "78bba05d-daa2-43f6-c4fe-016bebe6a70b"
      },
      "execution_count": 66,
      "outputs": [
        {
          "output_type": "stream",
          "name": "stdout",
          "text": [
            "Você ganhou 10% de desconto\n"
          ]
        }
      ]
    },
    {
      "cell_type": "markdown",
      "source": [
        "##Desafio: Condicional Composta\n",
        "Se o cupom for válido (aula1 ou aula2):\\\n",
        "aplicar 15% de desconto\\\n",
        "Senão, aplicar 5% de desconto"
      ],
      "metadata": {
        "id": "lj0LF6ChikPQ"
      }
    },
    {
      "cell_type": "code",
      "source": [
        "cupom = input(\"digite o cupom: \")\n",
        "if (cupom == 'aula1' or cupom == 'aula2' ):\n",
        "  print('Você ganhou 15% de desconto')\n",
        "else:\n",
        "  print('Você ganhou 5% de desconto')"
      ],
      "metadata": {
        "colab": {
          "base_uri": "https://localhost:8080/"
        },
        "id": "rfrCbf_oitGX",
        "outputId": "afedc094-230a-4c81-9842-5a2e63aeb7b2"
      },
      "execution_count": 68,
      "outputs": [
        {
          "output_type": "stream",
          "name": "stdout",
          "text": [
            "digite o cupom: aula2\n",
            "Você ganhou 15% de desconto\n"
          ]
        }
      ]
    },
    {
      "cell_type": "code",
      "source": [
        "if ():\n",
        "  print()\n",
        "elif ():\n",
        "  print()\n",
        "else:\n",
        "  print()"
      ],
      "metadata": {
        "id": "qPv_LWkskp95"
      },
      "execution_count": null,
      "outputs": []
    },
    {
      "cell_type": "markdown",
      "source": [
        "##Desafio: Condicional Composta\n",
        "Agora temos dois descontos válidos.\\\n",
        "Se o cupom for aula1, aplicar 15% de desconto \\\n",
        "Se o cupom for aula2, aplicar 10% de desconto \\\n",
        "Senão, aplicar 5% de desconto"
      ],
      "metadata": {
        "id": "oIH9qUyTnHZx"
      }
    },
    {
      "cell_type": "code",
      "source": [
        "cupom = input(\"digite o cupom: \")\n",
        "if (cupom == 'aula1'):\n",
        "  print('Você ganhou 15% de desconto')\n",
        "elif (cupom == 'aula2'):\n",
        "  print('Você ganhou 10% de desconto')\n",
        "else:\n",
        "  print('Você ganhou 5% de desconto')"
      ],
      "metadata": {
        "colab": {
          "base_uri": "https://localhost:8080/"
        },
        "id": "WCQBIUfzmvfx",
        "outputId": "6959b6cf-b32c-44e0-9b59-640d30b1210e"
      },
      "execution_count": 71,
      "outputs": [
        {
          "output_type": "stream",
          "name": "stdout",
          "text": [
            "digite o cupom: aula3\n",
            "Você ganhou 5% de desconto\n"
          ]
        }
      ]
    },
    {
      "cell_type": "code",
      "source": [
        "if(1 ==1): #mensagem no primeiro nível\n",
        "  print('Mensagem no segundo nível') #Segundo nível\n",
        "  if((1==2)==False):\n",
        "    print('Mensagem no terceiro nível') #Terceiro nível"
      ],
      "metadata": {
        "colab": {
          "base_uri": "https://localhost:8080/"
        },
        "id": "RwKT8sAXntSp",
        "outputId": "c74610b1-8abf-4198-9de7-29a3ffa9abda"
      },
      "execution_count": 72,
      "outputs": [
        {
          "output_type": "stream",
          "name": "stdout",
          "text": [
            "Mensagem no segundo nível\n",
            "Mensagem no terceiro nível\n"
          ]
        }
      ]
    },
    {
      "cell_type": "code",
      "source": [
        "if a == 2:\n",
        "  if b== 3:\n",
        "    if c == 4:\n",
        "      if...: "
      ],
      "metadata": {
        "id": "7mAtO2TLpLEY"
      },
      "execution_count": null,
      "outputs": []
    },
    {
      "cell_type": "markdown",
      "source": [
        "##Desafio: Prática acumulada\n",
        "Escrever em python o desenho anterior, utilizando conectivo lógico (and) e estrutura condicional(if -else).\\\n",
        "Sol e dinheiro, então praia.\\\n",
        "\\\n",
        "Senão, netflix"
      ],
      "metadata": {
        "id": "0VKzyPM7r50x"
      }
    },
    {
      "cell_type": "code",
      "source": [
        "clima = input(\"Se estiver Sol, digite 'sol': \")\n",
        "dinheiro = input(\"Se estiver com dinheiro sobrando, digite 'sim': \")\n",
        "if (clima == 'sol') and (dinheiro == 'sim'):\n",
        "  print(\"Praia\")\n",
        "else:\n",
        "  print(\"Netflix\")"
      ],
      "metadata": {
        "colab": {
          "base_uri": "https://localhost:8080/"
        },
        "id": "z9YHJyMprMKx",
        "outputId": "a6cf3ed4-825c-4ce2-842c-12203f1da536"
      },
      "execution_count": 77,
      "outputs": [
        {
          "output_type": "stream",
          "name": "stdout",
          "text": [
            "Se estiver Sol, digite 'sol': sol\n",
            "Se estiver com dinheiro sobrando, digite 'sim': não\n",
            "Netflix\n"
          ]
        }
      ]
    },
    {
      "cell_type": "markdown",
      "source": [
        "##Desafio: Prática acumulada\n",
        "Escrever em python o desenho anterior, utilizando conectivo lógico (or) e estrutura condicional(if -else).\\\n",
        "Sol e dinheiro, então praia.\\\n",
        "\\\n",
        "Senão, netflix"
      ],
      "metadata": {
        "id": "1O3Q3ZBXtIAY"
      }
    },
    {
      "cell_type": "code",
      "source": [
        "clima = input(\"Se estiver Sol, digite 'sol': \")\n",
        "dinheiro = input(\"Se estiver com dinheiro sobrando, digite 'sim': \")\n",
        "if (clima == 'sol') or (dinheiro == 'sim'):\n",
        "  print(\"Praia\")\n",
        "else:\n",
        "  print(\"Netflix\")"
      ],
      "metadata": {
        "colab": {
          "base_uri": "https://localhost:8080/"
        },
        "id": "JxmeuuMIy_5X",
        "outputId": "12e1dfb2-b24c-4dd7-99ea-b81bb6aeb3ff"
      },
      "execution_count": 81,
      "outputs": [
        {
          "output_type": "stream",
          "name": "stdout",
          "text": [
            "Se estiver Sol, digite 'sol': sol\n",
            "Se estiver com dinheiro sobrando, digite 'sim': não\n",
            "Praia\n"
          ]
        }
      ]
    },
    {
      "cell_type": "markdown",
      "source": [
        "##Desafio: Prática acumulada\n",
        "Escrever em python o código anterior, utilizando if dentro de if.\n",
        "Se Sol, se dinheiro, então praia.\\\n",
        "\\\n",
        "Senão, netflix"
      ],
      "metadata": {
        "id": "jLafQilozumx"
      }
    },
    {
      "cell_type": "code",
      "source": [
        "clima = input(\"Se estiver Sol, digite 'sol': \")\n",
        "dinheiro = input(\"Se estiver com dinheiro sobrando, digite 'sim': \")\n",
        "if (clima == 'sol'):\n",
        "  if (dinheiro == 'sim'):\n",
        "    print(\"Praia\")\n",
        "  else:\n",
        "    print(\"Netflix\")\n",
        "else:\n",
        "  print(\"Netflix\")"
      ],
      "metadata": {
        "colab": {
          "base_uri": "https://localhost:8080/"
        },
        "id": "7wOF9bdKzWKy",
        "outputId": "12991eff-02aa-42ad-d461-e408f0856255"
      },
      "execution_count": 93,
      "outputs": [
        {
          "output_type": "stream",
          "name": "stdout",
          "text": [
            "Se estiver Sol, digite 'sol': sol\n",
            "Se estiver com dinheiro sobrando, digite 'sim': não\n",
            "Netflix\n"
          ]
        }
      ]
    },
    {
      "cell_type": "code",
      "source": [
        "x = 4\n"
      ],
      "metadata": {
        "id": "Hvig7hX93ZPh"
      },
      "execution_count": 97,
      "outputs": []
    },
    {
      "cell_type": "code",
      "source": [
        "0<x<5"
      ],
      "metadata": {
        "colab": {
          "base_uri": "https://localhost:8080/"
        },
        "id": "clSi4bay3bZx",
        "outputId": "4ae117fd-425f-48b8-f24f-a73901224cb1"
      },
      "execution_count": 98,
      "outputs": [
        {
          "output_type": "execute_result",
          "data": {
            "text/plain": [
              "True"
            ]
          },
          "metadata": {},
          "execution_count": 98
        }
      ]
    },
    {
      "cell_type": "code",
      "source": [
        "x>0 and x<5"
      ],
      "metadata": {
        "colab": {
          "base_uri": "https://localhost:8080/"
        },
        "id": "4HdsB4vZ3f7Z",
        "outputId": "4395802d-9786-4c34-b9c8-7efeb6ec8dec"
      },
      "execution_count": 99,
      "outputs": [
        {
          "output_type": "execute_result",
          "data": {
            "text/plain": [
              "True"
            ]
          },
          "metadata": {},
          "execution_count": 99
        }
      ]
    },
    {
      "cell_type": "markdown",
      "source": [
        "##Prática\n",
        "6) Num determinado Estado, para transferências de veículos, o DETRAN cobra uma taxa de 1% para carros fabricados antes de 1990 e uma taxa de 1.5% para os fabricados em 1990 em diante, a taxa está incidindo sobre o valor do carro. Faça um algoritmo que lê o ano e o preço do carro e a seguir calcula e imprime o imposto a ser pago."
      ],
      "metadata": {
        "id": "XHQKM6i958P7"
      }
    },
    {
      "cell_type": "code",
      "source": [
        "ano = int(input(\"Digite o ano do carro: \"))\n",
        "valor = float(input(\"Digite o valor do carro: \"))\n",
        "\n",
        "if ano <1990:\n",
        "  imposto = (valor)*0.01\n",
        "else:\n",
        "  imposto = (valor)*0.015\n",
        "\n",
        "print(\"O imposto a ser pago é: R$\", imposto)"
      ],
      "metadata": {
        "colab": {
          "base_uri": "https://localhost:8080/"
        },
        "id": "5owX7oux6hEo",
        "outputId": "c8e4aa92-f6b1-451b-aabf-b4fd3cfe1a5b"
      },
      "execution_count": 105,
      "outputs": [
        {
          "output_type": "stream",
          "name": "stdout",
          "text": [
            "Digite o ano do carro: 2006\n",
            "Digite o valor do carro: 20000\n",
            "O imposto a ser pago é: R$ 300.0\n"
          ]
        }
      ]
    },
    {
      "cell_type": "markdown",
      "source": [
        "##Prática\n",
        "7) Uma empresa concenderá um aumento de salário aos seus funcionários, variável de acordo com o cargo, conforme a tabela abaixo. Faça um algoritmo que leia o salário e o cargo de um funcionário e calcule o novo salário. Se o cargo do funcionário não estiver na tabela, ele deverá, então, receber 40% de aumento. Mostre o salário antigo, o novo salário e a diferença.\\\n",
        "Gerente: 10%\\\n",
        "Engenheiro: 20%\\\n",
        "Técnico: 30%"
      ],
      "metadata": {
        "id": "CU2O3MN6-31V"
      }
    },
    {
      "cell_type": "code",
      "source": [
        "salario = float(input(\"Digite seu salário: \"))\n",
        "cargo = input(\"Digite seu cargo: \")\n",
        "\n",
        "if cargo == 'gerente':\n",
        "  novo_salario = salario*1.1\n",
        "  diferenca = novo_salario - salario\n",
        "elif cargo == 'engenheiro':\n",
        "  novo_salario = salario*1.2\n",
        "  diferenca = novo_salario - salario\n",
        "elif cargo == 'técnico':\n",
        "  novo_salario = salario*1.3\n",
        "  diferenca = novo_salario - salario\n",
        "else:\n",
        "  novo_salario = salario*1.4\n",
        "  diferenca = novo_salario - salario\n",
        "  \n",
        "print(\"O antigo salário é: R$\",salario,'\\n' \"O novo salário é R$\", novo_salario,'\\n' \"A diferença é R$\", diferenca)"
      ],
      "metadata": {
        "colab": {
          "base_uri": "https://localhost:8080/"
        },
        "id": "gH23dIpGBMJI",
        "outputId": "3f8cfc99-88ca-4bb6-8c94-f1a1f424df52"
      },
      "execution_count": 118,
      "outputs": [
        {
          "output_type": "stream",
          "name": "stdout",
          "text": [
            "Digite seu salário: 1000\n",
            "Digite seu cargo: cientista\n",
            "O antigo salário é: R$ 1000.0 \n",
            "O novo salário é R$ 1400.0 \n",
            "A diferença é R$ 400.0\n"
          ]
        }
      ]
    }
  ]
}