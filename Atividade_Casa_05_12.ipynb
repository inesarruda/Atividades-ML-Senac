{
  "nbformat": 4,
  "nbformat_minor": 0,
  "metadata": {
    "colab": {
      "provenance": [],
      "authorship_tag": "ABX9TyN3wl4euECn0q4Bi1SXu267",
      "include_colab_link": true
    },
    "kernelspec": {
      "name": "python3",
      "display_name": "Python 3"
    },
    "language_info": {
      "name": "python"
    }
  },
  "cells": [
    {
      "cell_type": "markdown",
      "metadata": {
        "id": "view-in-github",
        "colab_type": "text"
      },
      "source": [
        "<a href=\"https://colab.research.google.com/github/inesarruda/Atividades-ML-Senac/blob/main/Atividade_Casa_05_12.ipynb\" target=\"_parent\"><img src=\"https://colab.research.google.com/assets/colab-badge.svg\" alt=\"Open In Colab\"/></a>"
      ]
    },
    {
      "cell_type": "markdown",
      "source": [
        "i) Crie uma classe Pessoa com os atributos nome e idade; ii) Implemente uma função capaz de retornar o ano que a\n",
        "pessoa nasceu utilizando apenas o valor referente a idade; iii) Crie uma lista que armazene 5 pessoas, percorra a lista e\n",
        "mostre na tela todos os dados de forma organizada."
      ],
      "metadata": {
        "id": "-ODlpBa5JlGS"
      }
    },
    {
      "cell_type": "code",
      "execution_count": null,
      "metadata": {
        "colab": {
          "base_uri": "https://localhost:8080/"
        },
        "id": "HErlaijFIHD3",
        "outputId": "0b2934d0-76f0-4949-9524-f515a5f7fb73"
      },
      "outputs": [
        {
          "output_type": "stream",
          "name": "stdout",
          "text": [
            "Nome: Maria\n",
            "Idade: 26\n",
            "Nome: Thaís\n",
            "Idade: 31\n",
            "Nome: Gui\n",
            "Idade: 31\n",
            "Nome: Felipe\n",
            "Idade: 27\n",
            "Nome: Gustavo\n",
            "Idade: 57\n",
            "Nome: Maria, idade: 26 \n",
            "Nome: Thaís, idade: 31 \n",
            "Nome: Gui, idade: 31 \n",
            "Nome: Felipe, idade: 27 \n",
            "Nome: Gustavo, idade: 57 \n"
          ]
        }
      ],
      "source": [
        "class Pessoa ():\n",
        "  def __init__(self, name, age): #variáveis da função\n",
        "    self.nome = name #atributo da classe\n",
        "    self.idade = age #atributo da classe\n",
        "\n",
        "  def nascimento(self, idade): #variável da função\n",
        "    return (2022 - idade) # retorna o ano que a pessoa nasceu \n",
        "'''\n",
        "pessoa1 = Pessoa(\"Maria\", 35) #criando um objeto a partir da\n",
        "class Pessoa()\n",
        "  pessoa1.nome #chamando um atributo do objeto\n",
        "  pessoa1.idade #chamando um atributo do objeto\n",
        "  pessoa1.nascimento(35) #chamando um método do objeto\n",
        "'''\n",
        "listaDePessoas=[] #criando lista vazia\n",
        "for i in range(5): #frequencia de repetição do loop for, segundo a questão\n",
        "  nome = str(input(\"Nome: \")) #entrada de dados\n",
        "  idade = int(input(\"Idade: \")) #entrada de dados\n",
        "  pessoa = Pessoa(nome, idade) #criando objeto pessoa com a classe Pessoa()\n",
        "  listaDePessoas.append(pessoa) #cada elemento da lista é um objeto com métodos() e atributos\n",
        "\n",
        "for objeto in range(len(listaDePessoas)): #acessando cada objeto da lista de objetos pessoa\n",
        "#Acessando os atributos nome e idade de cada objeto\n",
        "  print(\"Nome: %s, idade: %d \" %(listaDePessoas[objeto].nome, listaDePessoas[objeto].idade))\n"
      ]
    },
    {
      "cell_type": "markdown",
      "source": [
        "1.Criar as classes Pessoa, PessoaFisica e PessoaJuridica.\\\n",
        "Atributos da classe Pessoa: nome, idade\\\n",
        "Atributos da classe PessoaFisica: nome, idade, CPF\\\n",
        "Atributos da classe PessoaJuridica: nome, idade, CNPJ"
      ],
      "metadata": {
        "id": "ZdAI6KY1MnM5"
      }
    },
    {
      "cell_type": "code",
      "source": [
        "class Pessoa():\n",
        "  def __init__(self, nome, idade):\n",
        "    self.nome = nome\n",
        "    self.idade = idade\n",
        "\n",
        "class PessoaFisica():\n",
        "  def __init__(self, nome, idade, cpf):\n",
        "    self.nome = nome\n",
        "    self.idade = idade\n",
        "    self.cpf = cpf\n",
        "\n",
        "class PessoaJuridica():\n",
        "  def __init__(self, nome, idade, cnpj):\n",
        "    self.nome = nome\n",
        "    self.idade = idade\n",
        "    self.cnpj = cnpj\n",
        "\n",
        "    "
      ],
      "metadata": {
        "id": "pmjO6GfwLHrI"
      },
      "execution_count": null,
      "outputs": []
    },
    {
      "cell_type": "markdown",
      "source": [
        "2. Em todas as classes\\\n",
        "Acrescentar um Método, que mostra uma mensagem de\n",
        "apresentação.\\\n",
        "Ex: “Seja bem-vindo ao SENAC!”"
      ],
      "metadata": {
        "id": "m3Zfpoz6M4Xa"
      }
    },
    {
      "cell_type": "code",
      "source": [
        "class Pessoa():\n",
        "  def __init__(self, nome, idade):\n",
        "    self.nome = nome\n",
        "    self.idade = idade\n",
        "\n",
        "  def apresentacao(self):\n",
        "    print(\"Seja bem vindo ao sistema SENAC\")\n",
        "\n",
        "class PessoaFisica():\n",
        "  def __init__(self, nome, idade, cpf):\n",
        "    self.nome = nome\n",
        "    self.idade = idade\n",
        "    self.cpf = cpf\n",
        "\n",
        "  def apresentacao(self):\n",
        "    print(\"Seja bem vindo ao sistema SENAC\")\n",
        "\n",
        "class PessoaJuridica():\n",
        "  def __init__(self, nome, idade, cnpj):\n",
        "    self.nome = nome\n",
        "    self.idade = idade\n",
        "    self.cnpj = cnpj\n",
        "\n",
        "  def apresentacao(self):\n",
        "    print(\"Seja bem vindo ao sistema SENAC\")"
      ],
      "metadata": {
        "id": "Kl0JGppdNdlo"
      },
      "execution_count": null,
      "outputs": []
    },
    {
      "cell_type": "code",
      "source": [
        "nome = str(input(\"Nome: \"))\n",
        "idade = int(input(\"Idade: \"))\n",
        "cpf = int(input(\"CPF: \"))\n",
        "cnpj = int(input(\"CNPJ: \"))\n",
        "pessoa = Pessoa(nome, age)\n",
        "pessoa_fisica = PessoaFisica(nome,idade,cpf)\n",
        "pessoa_juridica = PessoaJuridica(nome,idade,cnpj)"
      ],
      "metadata": {
        "colab": {
          "base_uri": "https://localhost:8080/"
        },
        "id": "RslA1lBiOBLA",
        "outputId": "b482b8af-2f47-4efb-9b4c-ead073cd7cf3"
      },
      "execution_count": null,
      "outputs": [
        {
          "name": "stdout",
          "output_type": "stream",
          "text": [
            "Nome: Maria Inês\n",
            "Idade: 26\n",
            "CPF: 12378945610 \n",
            "CNPJ: 10654987123\n"
          ]
        }
      ]
    },
    {
      "cell_type": "code",
      "source": [
        "pessoa.nome\n"
      ],
      "metadata": {
        "colab": {
          "base_uri": "https://localhost:8080/",
          "height": 36
        },
        "id": "JGg4BZDcO-17",
        "outputId": "3364cdd5-ab4d-4233-e642-2ecfc0da7442"
      },
      "execution_count": null,
      "outputs": [
        {
          "output_type": "execute_result",
          "data": {
            "text/plain": [
              "'Maria Inês'"
            ],
            "application/vnd.google.colaboratory.intrinsic+json": {
              "type": "string"
            }
          },
          "metadata": {},
          "execution_count": 26
        }
      ]
    },
    {
      "cell_type": "code",
      "source": [
        "pessoa.idade"
      ],
      "metadata": {
        "colab": {
          "base_uri": "https://localhost:8080/"
        },
        "id": "QErhxv3aPXeU",
        "outputId": "e1df3262-3fe9-4795-d8b9-ba71ba22c84b"
      },
      "execution_count": null,
      "outputs": [
        {
          "output_type": "execute_result",
          "data": {
            "text/plain": [
              "26"
            ]
          },
          "metadata": {},
          "execution_count": 27
        }
      ]
    },
    {
      "cell_type": "code",
      "source": [
        "pessoa_fisica.cpf"
      ],
      "metadata": {
        "colab": {
          "base_uri": "https://localhost:8080/"
        },
        "id": "MZm4CHFuPYkN",
        "outputId": "098fb51e-c75b-4f34-916d-6ed4ef710636"
      },
      "execution_count": null,
      "outputs": [
        {
          "output_type": "execute_result",
          "data": {
            "text/plain": [
              "12378945610"
            ]
          },
          "metadata": {},
          "execution_count": 28
        }
      ]
    },
    {
      "cell_type": "code",
      "source": [
        "pessoa_juridica.cnpj"
      ],
      "metadata": {
        "colab": {
          "base_uri": "https://localhost:8080/"
        },
        "id": "FKKKeEOvPwRw",
        "outputId": "9207bbef-5c5b-4804-f6f8-944f21d3582b"
      },
      "execution_count": null,
      "outputs": [
        {
          "output_type": "execute_result",
          "data": {
            "text/plain": [
              "10654987123"
            ]
          },
          "metadata": {},
          "execution_count": 29
        }
      ]
    },
    {
      "cell_type": "code",
      "source": [
        "pessoa_fisica.apresentacao()"
      ],
      "metadata": {
        "colab": {
          "base_uri": "https://localhost:8080/"
        },
        "id": "NRlckIZfQIlN",
        "outputId": "56f980f0-a8b3-4bc3-9492-dad377e573f6"
      },
      "execution_count": null,
      "outputs": [
        {
          "output_type": "stream",
          "name": "stdout",
          "text": [
            "Seja bem vindo ao sistema SENAC\n"
          ]
        }
      ]
    },
    {
      "cell_type": "markdown",
      "source": [
        "3.Nas classes: PessoaFisica e PessoaJuridica acrescentar uma Função, que\n",
        "calcule o valor do imposto de renda.\n",
        "OBS: na classe PessoaFisica a taxa do imposto sobre o salário é de 1.5%.\n",
        "Enquanto que na classe PessoaJuridica a taxa do imposto sobre o salário é de\n",
        "10%. Em ambas as classes retorne e informe o valor do imposto de renda.\n",
        "IR = salario*taxa.\n",
        "Instanciem um objeto para cada classe utilizando uma variável de referência."
      ],
      "metadata": {
        "id": "I5hHEZ84QcGs"
      }
    },
    {
      "cell_type": "code",
      "source": [
        "class PessoaFisica():\n",
        "  def __init__(self, nome, idade, cpf):\n",
        "    self.nome = nome\n",
        "    self.idade = idade\n",
        "    self.cpf = cpf\n",
        "\n",
        "  def apresentacao(self):\n",
        "    print(\"Seja bem vindo ao sistema SENAC\")\n",
        "\n",
        "  def impostoDeRenda(self,salario):\n",
        "    ir = salario*0.015\n",
        "    print(\"O valor do seu imposto de renda é R$\", ir)\n",
        "    return ir\n",
        "\n",
        "class PessoaJuridica():\n",
        "  def __init__(self, nome, idade, cnpj):\n",
        "    self.nome = nome\n",
        "    self.idade = idade\n",
        "    self.cnpj = cnpj\n",
        "\n",
        "  def apresentacao(self):\n",
        "    print(\"Seja bem vindo ao sistema SENAC\")\n",
        "\n",
        "  def impostoDeRenda(self,salario):\n",
        "    ir = salario*0.10\n",
        "    print(\"O valor do seu imposto de renda é R$\", ir)\n",
        "    return ir\n",
        "\n",
        "pessoa_fisica = PessoaFisica(nome,idade,cpf)\n",
        "pessoa_juridica = PessoaJuridica(nome,idade,cnpj)"
      ],
      "metadata": {
        "id": "NQfQsYQ4Qqfi"
      },
      "execution_count": null,
      "outputs": []
    },
    {
      "cell_type": "code",
      "source": [
        "salario = float(input(\"Digite seu salário: \"))\n",
        "pessoa_fisica.impostoDeRenda(salario)\n"
      ],
      "metadata": {
        "colab": {
          "base_uri": "https://localhost:8080/"
        },
        "id": "mb9oXDICSKHT",
        "outputId": "c20712b0-e90c-48e5-e1c4-7839521cdbf9"
      },
      "execution_count": null,
      "outputs": [
        {
          "output_type": "stream",
          "name": "stdout",
          "text": [
            "Digite seu salário: 1500\n",
            "O valor do seu imposto de renda é R$ 22.5\n"
          ]
        },
        {
          "output_type": "execute_result",
          "data": {
            "text/plain": [
              "22.5"
            ]
          },
          "metadata": {},
          "execution_count": 45
        }
      ]
    },
    {
      "cell_type": "markdown",
      "source": [
        "3.Nas classes: PessoaFisica e PessoaJuridica acrescentar uma Função, que\n",
        "calcule o valor do imposto de renda.\n",
        "OBS: na classe PessoaFisica a taxa do imposto sobre o salário é de 1.5%.\n",
        "Enquanto que na classe PessoaJuridica a taxa do imposto sobre o salário é de\n",
        "10%. Em ambas as classes retorne e informe o valor do imposto de renda.\n",
        "IR = salario*taxa.\n",
        "Instanciem um objeto para cada classe utilizando uma variável de referência."
      ],
      "metadata": {
        "id": "t6yzesANUMLp"
      }
    },
    {
      "cell_type": "code",
      "source": [
        "class PessoaFisica():\n",
        "  def __init__(self, nome, idade, cpf):\n",
        "    self.nome = nome\n",
        "    self.idade = idade\n",
        "    self.cpf = cpf\n",
        "\n",
        "  def apresentacao(self):\n",
        "    print(\"Seja bem vindo ao sistema SENAC\")\n",
        "\n",
        "  def impostoDeRenda(self,*salario):\n",
        "    ir = salario*0.015\n",
        "    print(\"O valor do seu imposto de renda é R$\", ir)\n",
        "    return ir\n",
        "\n",
        "class PessoaJuridica():\n",
        "  def __init__(self, nome, idade, cnpj):\n",
        "    self.nome = nome\n",
        "    self.idade = idade\n",
        "    self.cnpj = cnpj\n",
        "\n",
        "  def apresentacao(self):\n",
        "    print(\"Seja bem vindo ao sistema SENAC\")\n",
        "\n",
        "  def impostoDeRenda(self,*salario):\n",
        "    ir = salario*0.10\n",
        "    print(\"O valor do seu imposto de renda é R$\", ir)\n",
        "    return ir\n",
        "\n",
        "pessoa_fisica = PessoaFisica(nome,idade,cpf)\n",
        "pessoa_juridica = PessoaJuridica(nome,idade,cnpj)"
      ],
      "metadata": {
        "id": "D1ZtiPtQULYw",
        "colab": {
          "base_uri": "https://localhost:8080/",
          "height": 217
        },
        "outputId": "e3196df2-3a88-468e-b488-2c690749546f"
      },
      "execution_count": 1,
      "outputs": [
        {
          "output_type": "error",
          "ename": "NameError",
          "evalue": "ignored",
          "traceback": [
            "\u001b[0;31m---------------------------------------------------------------------------\u001b[0m",
            "\u001b[0;31mNameError\u001b[0m                                 Traceback (most recent call last)",
            "\u001b[0;32m<ipython-input-1-fd5542976d56>\u001b[0m in \u001b[0;36m<module>\u001b[0;34m\u001b[0m\n\u001b[1;32m     27\u001b[0m     \u001b[0;32mreturn\u001b[0m \u001b[0mir\u001b[0m\u001b[0;34m\u001b[0m\u001b[0;34m\u001b[0m\u001b[0m\n\u001b[1;32m     28\u001b[0m \u001b[0;34m\u001b[0m\u001b[0m\n\u001b[0;32m---> 29\u001b[0;31m \u001b[0mpessoa_fisica\u001b[0m \u001b[0;34m=\u001b[0m \u001b[0mPessoaFisica\u001b[0m\u001b[0;34m(\u001b[0m\u001b[0mnome\u001b[0m\u001b[0;34m,\u001b[0m\u001b[0midade\u001b[0m\u001b[0;34m,\u001b[0m\u001b[0mcpf\u001b[0m\u001b[0;34m)\u001b[0m\u001b[0;34m\u001b[0m\u001b[0;34m\u001b[0m\u001b[0m\n\u001b[0m\u001b[1;32m     30\u001b[0m \u001b[0mpessoa_juridica\u001b[0m \u001b[0;34m=\u001b[0m \u001b[0mPessoaJuridica\u001b[0m\u001b[0;34m(\u001b[0m\u001b[0mnome\u001b[0m\u001b[0;34m,\u001b[0m\u001b[0midade\u001b[0m\u001b[0;34m,\u001b[0m\u001b[0mcnpj\u001b[0m\u001b[0;34m)\u001b[0m\u001b[0;34m\u001b[0m\u001b[0;34m\u001b[0m\u001b[0m\n",
            "\u001b[0;31mNameError\u001b[0m: name 'nome' is not defined"
          ]
        }
      ]
    },
    {
      "cell_type": "code",
      "source": [
        "salario = float(input(\"Digite seu salário: \"))\n",
        "pessoa_fisica.impostoDeRenda(salario)\n",
        "#pessoa_fisica.impostoDeRenda(2200)"
      ],
      "metadata": {
        "colab": {
          "base_uri": "https://localhost:8080/",
          "height": 217
        },
        "id": "NpmIrFGOV_xw",
        "outputId": "56317053-c528-4a1a-d98d-35d08111572f"
      },
      "execution_count": 2,
      "outputs": [
        {
          "name": "stdout",
          "output_type": "stream",
          "text": [
            "Digite seu salário: 1500\n"
          ]
        },
        {
          "output_type": "error",
          "ename": "NameError",
          "evalue": "ignored",
          "traceback": [
            "\u001b[0;31m---------------------------------------------------------------------------\u001b[0m",
            "\u001b[0;31mNameError\u001b[0m                                 Traceback (most recent call last)",
            "\u001b[0;32m<ipython-input-2-2f9a05dc32b5>\u001b[0m in \u001b[0;36m<module>\u001b[0;34m\u001b[0m\n\u001b[1;32m      1\u001b[0m \u001b[0msalario\u001b[0m \u001b[0;34m=\u001b[0m \u001b[0mfloat\u001b[0m\u001b[0;34m(\u001b[0m\u001b[0minput\u001b[0m\u001b[0;34m(\u001b[0m\u001b[0;34m\"Digite seu salário: \"\u001b[0m\u001b[0;34m)\u001b[0m\u001b[0;34m)\u001b[0m\u001b[0;34m\u001b[0m\u001b[0;34m\u001b[0m\u001b[0m\n\u001b[0;32m----> 2\u001b[0;31m \u001b[0mpessoa_fisica\u001b[0m\u001b[0;34m.\u001b[0m\u001b[0mimpostoDeRenda\u001b[0m\u001b[0;34m(\u001b[0m\u001b[0msalario\u001b[0m\u001b[0;34m)\u001b[0m\u001b[0;34m\u001b[0m\u001b[0;34m\u001b[0m\u001b[0m\n\u001b[0m\u001b[1;32m      3\u001b[0m \u001b[0;31m#pessoa_fisica.impostoDeRenda(2200)\u001b[0m\u001b[0;34m\u001b[0m\u001b[0;34m\u001b[0m\u001b[0;34m\u001b[0m\u001b[0m\n",
            "\u001b[0;31mNameError\u001b[0m: name 'pessoa_fisica' is not defined"
          ]
        }
      ]
    }
  ]
}